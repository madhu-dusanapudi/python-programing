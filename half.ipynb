{
  "nbformat": 4,
  "nbformat_minor": 0,
  "metadata": {
    "colab": {
      "name": "Untitled0.ipynb",
      "provenance": [],
      "collapsed_sections": [],
      "authorship_tag": "ABX9TyNA4wCmRo2VoEmAMf6ANFTb",
      "include_colab_link": true
    },
    "kernelspec": {
      "name": "python3",
      "display_name": "Python 3"
    },
    "language_info": {
      "name": "python"
    }
  },
  "cells": [
    {
      "cell_type": "markdown",
      "metadata": {
        "id": "view-in-github",
        "colab_type": "text"
      },
      "source": [
        "<a href=\"https://colab.research.google.com/github/madhu-dusanapudi/python-programing/blob/main/half.ipynb\" target=\"_parent\"><img src=\"https://colab.research.google.com/assets/colab-badge.svg\" alt=\"Open In Colab\"/></a>"
      ]
    },
    {
      "cell_type": "code",
      "metadata": {
        "id": "aTR0tyeDszX5"
      },
      "source": [
        ""
      ],
      "execution_count": null,
      "outputs": []
    },
    {
      "cell_type": "markdown",
      "metadata": {
        "id": "CscjWxuBFp7P"
      },
      "source": [
        "Name:D.V.S.madhu varma\n",
        "Regno:20A25A0504\n",
        "section-CSE-A"
      ]
    },
    {
      "cell_type": "markdown",
      "metadata": {
        "id": "Z0Ih86DxE8ne"
      },
      "source": [
        "exercise:1-Running instructions in interactive interpreter and a python script"
      ]
    },
    {
      "cell_type": "code",
      "metadata": {
        "colab": {
          "base_uri": "https://localhost:8080/"
        },
        "id": "T198rE-MFb4R",
        "outputId": "1a1df6fb-a877-4ea6-b11e-b47622f29558"
      },
      "source": [
        "print(\"Hello, Madhu\")"
      ],
      "execution_count": 1,
      "outputs": [
        {
          "output_type": "stream",
          "text": [
            "Hello, Madhu\n"
          ],
          "name": "stdout"
        }
      ]
    },
    {
      "cell_type": "markdown",
      "metadata": {
        "id": "YxSAEkexs351"
      },
      "source": [
        "exercise:2 -a) write a program to compute distance between 2 points by taking inputs\n",
        "\n"
      ]
    },
    {
      "cell_type": "code",
      "metadata": {
        "colab": {
          "base_uri": "https://localhost:8080/"
        },
        "id": "8DCqsKcYs5dh",
        "outputId": "c4f16c67-7ee1-4a8b-e49e-07cc4da231b4"
      },
      "source": [
        "import math\n",
        "x1=int(input(\"enter x1 value:\"))\n",
        "x2=int(input(\"enter x2 value:\"))\n",
        "y1=int(input(\"enter y1 value:\"))\n",
        "y2=int(input(\"enter y2 value:\"))\n",
        "d=math.sqrt(((x2-x1)**2)+((y2-y1)**2))\n",
        "print(\"distanse of two points:\",d)"
      ],
      "execution_count": null,
      "outputs": [
        {
          "output_type": "stream",
          "text": [
            "enter x1 value:10\n",
            "enter x2 value:5\n",
            "enter y1 value:8\n",
            "enter y2 value:6\n",
            "distanse of two points: 5.385164807134504\n"
          ],
          "name": "stdout"
        }
      ]
    },
    {
      "cell_type": "code",
      "metadata": {
        "id": "v89MO7i8tdCB"
      },
      "source": [
        "exercise 3:a) write a program to find the given number is even or odd"
      ],
      "execution_count": null,
      "outputs": []
    },
    {
      "cell_type": "code",
      "metadata": {
        "colab": {
          "base_uri": "https://localhost:8080/"
        },
        "id": "_dkENehWufjc",
        "outputId": "efe07a51-0083-428f-e680-8d3aad433956"
      },
      "source": [
        "n=int(input(\"enter a number:\"))\n",
        "if(n%2==0):\n",
        "  print(\"given number is even\")\n",
        "else:\n",
        "  print(\"given number is odd\")"
      ],
      "execution_count": null,
      "outputs": [
        {
          "output_type": "stream",
          "text": [
            "enter a number:4\n",
            "given number is even\n"
          ],
          "name": "stdout"
        }
      ]
    },
    {
      "cell_type": "markdown",
      "metadata": {
        "id": "Hk4qGDZLF6WV"
      },
      "source": [
        "b)Using a for loop, write a program that prints out the decimal equivalents of 1/2, 1/3, 1/4.1/10."
      ]
    },
    {
      "cell_type": "code",
      "metadata": {
        "colab": {
          "base_uri": "https://localhost:8080/"
        },
        "id": "lqOBTx5bF6xa",
        "outputId": "c68be7b8-ac8f-45bb-ed37-2d3d7f23e6cd"
      },
      "source": [
        "n=int(input(\"enter a number:\"))\n",
        "for i in range(1,n):\n",
        "  d=1/i\n",
        "  print(\"1/\",i,\"=\",d)\n"
      ],
      "execution_count": 3,
      "outputs": [
        {
          "output_type": "stream",
          "text": [
            "enter a number:5\n",
            "1/ 1 = 1.0\n",
            "1/ 2 = 0.5\n",
            "1/ 3 = 0.3333333333333333\n",
            "1/ 4 = 0.25\n"
          ],
          "name": "stdout"
        }
      ]
    },
    {
      "cell_type": "markdown",
      "metadata": {
        "id": "W-jqTv_WG4o5"
      },
      "source": [
        "c) Write a program using a for loop that loops over a sequence. What is sequence?"
      ]
    },
    {
      "cell_type": "code",
      "metadata": {
        "colab": {
          "base_uri": "https://localhost:8080/"
        },
        "id": "esFIrGKBG-FO",
        "outputId": "e0fe5e81-e5ca-46d8-feb2-f2b834e2345d"
      },
      "source": [
        "arr=[4,\"abc\",-45,'C',10.5,True,5,106,\"xyz\"]\n",
        "print(\"Given Array: \",arr)\n",
        "\n",
        "for x in arr:\n",
        "  print(x)"
      ],
      "execution_count": 10,
      "outputs": [
        {
          "output_type": "stream",
          "text": [
            "Given Array:  [4, 'abc', -45, 'C', 10.5, True, 5, 106, 'xyz']\n",
            "4\n",
            "abc\n",
            "-45\n",
            "C\n",
            "10.5\n",
            "True\n",
            "5\n",
            "106\n",
            "xyz\n"
          ],
          "name": "stdout"
        }
      ]
    },
    {
      "cell_type": "markdown",
      "metadata": {
        "id": "Y5Jtb5z6HqL_"
      },
      "source": [
        "d) Write a program using a while loop that asks the user for a number, and prints a countdown from that number to zero."
      ]
    },
    {
      "cell_type": "code",
      "metadata": {
        "colab": {
          "base_uri": "https://localhost:8080/"
        },
        "id": "yxE2c6tFHuFl",
        "outputId": "d501a8cb-9da2-4d8d-b28e-6989167b7470"
      },
      "source": [
        "n=int(input(\"Enter value of n:\"))\n",
        "\n",
        "while n>=0:\n",
        "  print(n)\n",
        "  n-=1"
      ],
      "execution_count": 11,
      "outputs": [
        {
          "output_type": "stream",
          "text": [
            "Enter value of n:7\n",
            "7\n",
            "6\n",
            "5\n",
            "4\n",
            "3\n",
            "2\n",
            "1\n",
            "0\n"
          ],
          "name": "stdout"
        }
      ]
    },
    {
      "cell_type": "markdown",
      "metadata": {
        "id": "PK_84FmsIAR5"
      },
      "source": [
        "exercise 4: a)find the sum of all primes below two million"
      ]
    },
    {
      "cell_type": "code",
      "metadata": {
        "colab": {
          "base_uri": "https://localhost:8080/"
        },
        "id": "BmP-EoykILyK",
        "outputId": "5938e131-207c-4c91-dcdf-ab32e256a7e4"
      },
      "source": [
        "#sum of all the primes of given number below \n",
        "n=int(input(\"Enter an Ending Number: \"))\n",
        "st=\"\"\n",
        "sum=0\n",
        "\n",
        "for i in range(2,n):\n",
        "  state=True\n",
        "  for j in range(2,i):\n",
        "    if(i%j)==0:\n",
        "      state=False\n",
        "      break;\n",
        "      \n",
        "  if state==True:\n",
        "    st+=\" \"+str(i)\n",
        "    sum+=i\n",
        "\n",
        "print(\"Prime Numbers: \")\n",
        "\n",
        "print(st)\n",
        "\n",
        "print(\"Sum of the prime Numbers: \",sum)"
      ],
      "execution_count": 14,
      "outputs": [
        {
          "output_type": "stream",
          "text": [
            "Enter an Ending Number: 100\n",
            "Prime Numbers: \n",
            " 2 3 5 7 11 13 17 19 23 29 31 37 41 43 47 53 59 61 67 71 73 79 83 89 97\n",
            "Sum of the prime Numbers:  1060\n"
          ],
          "name": "stdout"
        }
      ]
    },
    {
      "cell_type": "markdown",
      "metadata": {
        "id": "FPG2Wt8dJe-v"
      },
      "source": [
        "b) Each new term in the Fibonacci sequence is generated by adding the previous two terms. By starting with 1 and 2, the first 10 terms will be: 1, 2, 3, 5, 8, 13, 21, 34, 55,89"
      ]
    },
    {
      "cell_type": "code",
      "metadata": {
        "colab": {
          "base_uri": "https://localhost:8080/"
        },
        "id": "_VYGvh3uJlh_",
        "outputId": "dcf55e19-748e-4619-8351-b56b34831a38"
      },
      "source": [
        "#Fibonacci Series\n",
        "\n",
        "n=int (input(\"Enter value of n: \"))\n",
        "\n",
        "a=0\n",
        "b=1\n",
        "c=a+b\n",
        "\n",
        "while c<n:\n",
        "   print(c,end=' ')\n",
        "   a=b\n",
        "   b=c\n",
        "   c=a+b"
      ],
      "execution_count": 17,
      "outputs": [
        {
          "output_type": "stream",
          "text": [
            "Enter value of n: 1000\n",
            "1 2 3 5 8 13 21 34 55 89 144 233 377 610 987 "
          ],
          "name": "stdout"
        }
      ]
    },
    {
      "cell_type": "markdown",
      "metadata": {
        "id": "ainQweoPKvg_"
      },
      "source": [
        "c) By considering the terms in the Fibonacci sequence whose values do not exceed\n",
        "\n",
        "million, find the sum of the even-valued terms."
      ]
    },
    {
      "cell_type": "code",
      "metadata": {
        "colab": {
          "base_uri": "https://localhost:8080/"
        },
        "id": "05AJF71iKyBz",
        "outputId": "7aac7b58-8cd8-4b9c-9bfa-b4f61d975590"
      },
      "source": [
        "n=int (input(\"Enter value of n: \"))\n",
        "a=0\n",
        "b=1\n",
        "\n",
        "c=a+b\n",
        "\n",
        "sum=0\n",
        "\n",
        "print(\"Even numbers in Fibonacci series: \")\n",
        "\n",
        "while c<=n: \n",
        "  if c%2==0:\n",
        "    print(c,end=' ') \n",
        "    sum+=c\n",
        "  a=b\n",
        "  b=c\n",
        "  c=a+b\n",
        "\n",
        "print(\"sum of Fibonacci Series is: \",sum)"
      ],
      "execution_count": 19,
      "outputs": [
        {
          "output_type": "stream",
          "text": [
            "Enter value of n: 4000000\n",
            "Even numbers in Fibonacci series: \n",
            "2 8 34 144 610 2584 10946 46368 196418 832040 3524578 sum of Fibonacci Series is:  4613732\n"
          ],
          "name": "stdout"
        }
      ]
    },
    {
      "cell_type": "markdown",
      "metadata": {
        "id": "sYzM0NFbL-KM"
      },
      "source": [
        "exercise 5:\n",
        "a) Write a program to count the numbers of characters in the string and store them in a dictionary data structure"
      ]
    },
    {
      "cell_type": "code",
      "metadata": {
        "colab": {
          "base_uri": "https://localhost:8080/"
        },
        "id": "5Sp4Wb3HMH6C",
        "outputId": "3d079b6c-c0fc-46e8-f562-8bef21421dfc"
      },
      "source": [
        "name=input(\"Enter a Name: \")\n",
        "\n",
        "dic= {}\n",
        "\n",
        "for ch in name:\n",
        "   keys=dic.keys()\n",
        "   if (ch in keys):\n",
        "     dic[ch]=dic[ch]+1\n",
        "   else:\n",
        "     dic[ch]=1\n",
        "print(\"Dictionary is \",dic)"
      ],
      "execution_count": 26,
      "outputs": [
        {
          "output_type": "stream",
          "text": [
            "Enter a Name: madhuvarma\n",
            "Dictionary is  {'m': 2, 'a': 3, 'd': 1, 'h': 1, 'u': 1, 'v': 1, 'r': 1}\n"
          ],
          "name": "stdout"
        }
      ]
    },
    {
      "cell_type": "markdown",
      "metadata": {
        "id": "LkSfZJiXNRyq"
      },
      "source": [
        "b) Write a program to use split and join methods in the string and trace a birthday with a dictionary data structure."
      ]
    },
    {
      "cell_type": "code",
      "metadata": {
        "colab": {
          "base_uri": "https://localhost:8080/"
        },
        "id": "FuyB3YrZNVpl",
        "outputId": "6e5f937d-0945-4b91-b6b6-7962cbcc8311"
      },
      "source": [
        "dob={\"madhu\":\"01-Jan-2002\",\"Varma\":\"15-05-2000\"}\n",
        "\n",
        "name=input(\"Which person DOB you want: \")\n",
        "\n",
        "I=name.split()\n",
        "\n",
        "birth=\"\"\n",
        "\n",
        "for i in dob:\n",
        "  if i in dob.keys():\n",
        "    pers=i\n",
        "\n",
        "print(\" \".join([pers,\"Birthday is\",dob[pers]]))"
      ],
      "execution_count": 30,
      "outputs": [
        {
          "output_type": "stream",
          "text": [
            "Which person DOB you want: madhu\n",
            "Varma Birthday is 15-05-2000\n"
          ],
          "name": "stdout"
        }
      ]
    },
    {
      "cell_type": "markdown",
      "metadata": {
        "id": "s40kZwyuOgy0"
      },
      "source": [
        "Exercise 6:\n",
        "a) Write a program combine lists that combines these lists into a dictionary."
      ]
    },
    {
      "cell_type": "code",
      "metadata": {
        "colab": {
          "base_uri": "https://localhost:8080/"
        },
        "id": "9fGWjS8TO2b6",
        "outputId": "f0a99a34-b4d5-4744-f15e-6fd72e7a1ca6"
      },
      "source": [
        "subj=[\"DAA\",\"OS\",\"DBMS\",\"P&S\",\"PPL\",\"SE\"]\n",
        "\n",
        "marks=[185,96,78,68,98,56]\n",
        "\n",
        "print(\"Given Lists are: \") \n",
        "print(\"Subject Names: \",subj)\n",
        "print(\" Mark values: \",marks)\n",
        "\n",
        "dic=dict(zip(subj,marks))\n",
        "print(\"\\n Dictionary: \",dic)"
      ],
      "execution_count": 34,
      "outputs": [
        {
          "output_type": "stream",
          "text": [
            "Given Lists are: \n",
            "Subject Names:  ['DAA', 'OS', 'DBMS', 'P&S', 'PPL', 'SE']\n",
            " Mark values:  [185, 96, 78, 68, 98, 56]\n",
            "\n",
            " Dictionary:  {'DAA': 185, 'OS': 96, 'DBMS': 78, 'P&S': 68, 'PPL': 98, 'SE': 56}\n"
          ],
          "name": "stdout"
        }
      ]
    },
    {
      "cell_type": "markdown",
      "metadata": {
        "id": "kmHSxpF7Pa6G"
      },
      "source": [
        "b) Write a program to count frequency of characters in a given file. Can you\n",
        "use character frequency to tell wheather the given file is a Python program file, C program file or a text file?"
      ]
    },
    {
      "cell_type": "code",
      "metadata": {
        "id": "MMJH_ObdPcZp"
      },
      "source": [
        "filetypes=['.py','.c','.txt']\n",
        "\n",
        "fn=input(\"Enter the file name: \") \n",
        "f=open(fn,\"r\") \n",
        "count=dict()\n",
        "\n",
        "print(\"Given file is \",end=\"\") \n",
        "for ft in filetypes: \n",
        "  if(ft in fn):\n",
        "    if(ft=='.py'):\n",
        "      print(\"Python File\")\n",
        "    elif(ft=='.c'):\n",
        "      print(\"C File\")\n",
        "    elif(ft=='.txt'):\n",
        "      print(\"Text File\")\n",
        "\n",
        "for line in f:\n",
        "  for ch in line:\n",
        "    if ch in count:\n",
        "      count[ch]=count[ch]+1\n",
        "    else:\n",
        "      count[ch]=1\n",
        "\n",
        "print(count)\n",
        "\n",
        "f.close()"
      ],
      "execution_count": null,
      "outputs": []
    },
    {
      "cell_type": "markdown",
      "metadata": {
        "id": "3Asw00XVRj1-"
      },
      "source": [
        "exercise-7:\n",
        "a) Write a program to print each line of a file in reverse order."
      ]
    },
    {
      "cell_type": "code",
      "metadata": {
        "id": "upjix_CkRvAZ"
      },
      "source": [
        "obj=open(\"me.txt\",\"r\")\n",
        "\n",
        "if obj:\n",
        "  st=obj.read()\n",
        "  print(\"File content is: \\n\",st)\n",
        "\n",
        "obj.close()\n",
        "\n",
        "print()\n",
        "\n",
        "lines=st.split('\\n')\n",
        "\n",
        "for In in lines:\n",
        "  i=len(In)-1\n",
        "  while(i>=0):\n",
        "    print(In[i],end=\" \") \n",
        "    i=i-1\n",
        "\n",
        "print()"
      ],
      "execution_count": null,
      "outputs": []
    },
    {
      "cell_type": "markdown",
      "metadata": {
        "id": "-8VkBMotSWxE"
      },
      "source": [
        "b)write a program to compute the number pf characters, words and lines in a file."
      ]
    },
    {
      "cell_type": "code",
      "metadata": {
        "id": "SHH5eJO6SriX"
      },
      "source": [
        "nc=nw=nl=0 file = open(\"abc.txt\", \"r\")\n",
        "\n",
        "nl=nw=nc=0\n",
        "\n",
        "print(\"File Content:\\n\") \n",
        "for line in file:\n",
        "  In = line.strip(\"\\n\")\n",
        "  words=ln.split()\n",
        "  nw += len(words)\n",
        "\n",
        "print(In)\n",
        "\n",
        "nl += 1\n",
        "\n",
        "nc += len(line)\n",
        "file.close()\n",
        "print(\"\\n No.of lines\",nl,\"words:\",nw,\"characters\",nc)\n"
      ],
      "execution_count": null,
      "outputs": []
    },
    {
      "cell_type": "markdown",
      "metadata": {
        "id": "JPBskih2TTEP"
      },
      "source": [
        "Exeecise-8\n",
        "a) Write a function ball collide that takes two balls as parameters and computes if they are colliding. Your function should return a Boolean representing whether or not the balls are colliding."
      ]
    },
    {
      "cell_type": "code",
      "metadata": {
        "colab": {
          "base_uri": "https://localhost:8080/"
        },
        "id": "ZZAukjtmTrTP",
        "outputId": "69a0edb2-e3d0-4cd7-c700-7f8b3a5f68ed"
      },
      "source": [
        "import math\n",
        "\n",
        "def collide(ball_tup1,ball_tup2):\n",
        "  x1,y1,r1=ball_tup1\n",
        "  x2,y2,r2=ball_tup2\n",
        "  print(\"Ball-01: \",ball_tup1)\n",
        "  print(\"Ball-02: \",ball_tup2)\n",
        "  d=math.sqrt((x2-x1)**2 + (y2-y1)**2)\n",
        "  print(\"Centroid Distance of two balls: \",d)\n",
        "  print(\"Sum of Radius Ball-01 & Balu-02 is: {}+{}={}\".format(r1,r2,r1+r2))\n",
        "  if d<=r1+r2: \n",
        "    return True\n",
        "  else:\n",
        "    return False\n",
        "\n",
        "b1=(-2,-4,3)\n",
        "\n",
        "b2=(4,6,3)\n",
        "\n",
        "if collide(b1,b2):\n",
        "  print(\"Balls are Colliode....!\")\n",
        "else:\n",
        "  print(\"Balls are NOT Collide.....!\")"
      ],
      "execution_count": 47,
      "outputs": [
        {
          "output_type": "stream",
          "text": [
            "Ball-01:  (-2, -4, 3)\n",
            "Ball-02:  (4, 6, 3)\n",
            "Centroid Distance of two balls:  11.661903789690601\n",
            "Sum of Radius Ball-01 & Balu-02 is: 3+3=6\n",
            "Balls are NOT Collide.....!\n"
          ],
          "name": "stdout"
        }
      ]
    },
    {
      "cell_type": "markdown",
      "metadata": {
        "id": "k3QF-ZwvVMT7"
      },
      "source": [
        "b) Find mean, median, mode for the given set of numbers in a list."
      ]
    },
    {
      "cell_type": "code",
      "metadata": {
        "colab": {
          "base_uri": "https://localhost:8080/"
        },
        "id": "bGhYYdQWVRvQ",
        "outputId": "eddca4cf-d1b7-40f1-c53f-5b5ed24cb546"
      },
      "source": [
        "def list_mean(num_list):\n",
        "  return sum(num_list)/len(num_list)\n",
        "\n",
        "def sum(num_list):\n",
        "  sum=0\n",
        "  for i in num_list:\n",
        "    sum=sum+i\n",
        "  return sum\n",
        "def list_median(num_list):\n",
        "  num_list.sort()\n",
        "  n=len(num_list)\n",
        "  mid=n//2\n",
        "  if(n%2==1):\n",
        "    return num_list[mid]\n",
        "  else:\n",
        "    return (num_list[mid-1]+num_list[mid])/2\n",
        "\n",
        "def list_mode(num_list):\n",
        "  num_list.sort()\n",
        "  temp=[]\n",
        "  i=0\n",
        "  while i<len(num_list):\n",
        "    temp.append(num_list.count(num_list[i]))\n",
        "    i+=1\n",
        "    dic=dict(zip(num_list,temp))\n",
        "    mode={k for(k,v) in dic.items() if v==max(temp)}\n",
        "    return mode\n",
        "\n",
        "lst=[1,1,2,2,2,3,4,5,3]\n",
        "\n",
        "print(\"Given list is; \",lst)\n",
        "\n",
        "print(\"Mean of the given list: \",list_mean(lst))\n",
        "print(\"Median of the given list: \",list_median(lst))\n",
        "print(\"Mode of the given list: \",list_mode(lst))"
      ],
      "execution_count": 54,
      "outputs": [
        {
          "output_type": "stream",
          "text": [
            "Given list is;  [1, 1, 2, 2, 2, 3, 4, 5, 3]\n",
            "Mean of the given list:  2.5555555555555554\n",
            "Median of the given list:  2\n",
            "Mode of the given list:  {1}\n"
          ],
          "name": "stdout"
        }
      ]
    },
    {
      "cell_type": "markdown",
      "metadata": {
        "id": "gYQVUhIfXyrG"
      },
      "source": [
        "exercise-9\n",
        "a) Write a function nearly equal to test whether two strings are nearly equal. Two strings a and b are nearly equal when a can be generated by a single mutation on b."
      ]
    },
    {
      "cell_type": "code",
      "metadata": {
        "colab": {
          "base_uri": "https://localhost:8080/"
        },
        "id": "VvbBmpqlX5kP",
        "outputId": "e8d3b855-c360-4ddf-c28e-1a7ab450e22f"
      },
      "source": [
        "def nearly_eq(str1,str2):\n",
        "  count=0\n",
        "  i=j=0\n",
        "  while(i<len(str1) and j<len(str2)):\n",
        "    if (str1[i]!=str2[j]):\n",
        "      count+=1\n",
        "      if(len(str1)>len(str2)):\n",
        "        i+=1\n",
        "      elif(len(str1)==len(str2)):\n",
        "        pass\n",
        "      else:\n",
        "        i-=1\n",
        "      if(count>1):\n",
        "        return False\n",
        "      i+=1\n",
        "      j+=1\n",
        "  if(count<2):\n",
        "    return True\n",
        "\n",
        "s1=input(\"Enter String1: \")\n",
        "\n",
        "s2=input(\"Enter String2: \")\n",
        "bln=nearly_eq(s1,s2)\n",
        "if(bln):\n",
        "  print(\"Strings are nearly equal.\")\n",
        "else: \n",
        "  print(\"String are NOT equal.\")"
      ],
      "execution_count": 62,
      "outputs": [
        {
          "output_type": "stream",
          "text": [
            "Enter String1: jajjhjd\n",
            "Enter String2: hdhkdsu\n",
            "String are NOT equal.\n"
          ],
          "name": "stdout"
        }
      ]
    }
  ]
}