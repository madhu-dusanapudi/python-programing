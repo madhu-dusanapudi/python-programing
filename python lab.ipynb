{
  "nbformat": 4,
  "nbformat_minor": 0,
  "metadata": {
    "colab": {
      "name": "Copy of Untitled0.ipynb",
      "provenance": [],
      "collapsed_sections": [],
      "authorship_tag": "ABX9TyMeO3suO6EYXzG5br0ZaRrb",
      "include_colab_link": true
    },
    "kernelspec": {
      "name": "python3",
      "display_name": "Python 3"
    },
    "language_info": {
      "name": "python"
    }
  },
  "cells": [
    {
      "cell_type": "markdown",
      "metadata": {
        "id": "view-in-github",
        "colab_type": "text"
      },
      "source": [
        "<a href=\"https://colab.research.google.com/github/madhu-dusanapudi/python-programing/blob/main/python%20lab.ipynb\" target=\"_parent\"><img src=\"https://colab.research.google.com/assets/colab-badge.svg\" alt=\"Open In Colab\"/></a>"
      ]
    },
    {
      "cell_type": "markdown",
      "metadata": {
        "id": "CscjWxuBFp7P"
      },
      "source": [
        "Name:D.V.S.madhu varma\n",
        "Regno:20A25A0504\n",
        "section-CSE-A"
      ]
    },
    {
      "cell_type": "markdown",
      "metadata": {
        "id": "Z0Ih86DxE8ne"
      },
      "source": [
        "exercise:1-Running instructions in interactive interpreter and a python script"
      ]
    },
    {
      "cell_type": "code",
      "metadata": {
        "colab": {
          "base_uri": "https://localhost:8080/"
        },
        "id": "T198rE-MFb4R",
        "outputId": "1a1df6fb-a877-4ea6-b11e-b47622f29558"
      },
      "source": [
        "print(\"Hello, Madhu\")"
      ],
      "execution_count": null,
      "outputs": [
        {
          "output_type": "stream",
          "text": [
            "Hello, Madhu\n"
          ],
          "name": "stdout"
        }
      ]
    },
    {
      "cell_type": "markdown",
      "metadata": {
        "id": "YxSAEkexs351"
      },
      "source": [
        "exercise:2 -a) write a program to compute distance between 2 points by taking inputs\n",
        "\n"
      ]
    },
    {
      "cell_type": "code",
      "metadata": {
        "colab": {
          "base_uri": "https://localhost:8080/"
        },
        "id": "8DCqsKcYs5dh",
        "outputId": "c4f16c67-7ee1-4a8b-e49e-07cc4da231b4"
      },
      "source": [
        "import math\n",
        "x1=int(input(\"enter x1 value:\"))\n",
        "x2=int(input(\"enter x2 value:\"))\n",
        "y1=int(input(\"enter y1 value:\"))\n",
        "y2=int(input(\"enter y2 value:\"))\n",
        "d=math.sqrt(((x2-x1)**2)+((y2-y1)**2))\n",
        "print(\"distanse of two points:\",d)"
      ],
      "execution_count": null,
      "outputs": [
        {
          "output_type": "stream",
          "text": [
            "enter x1 value:10\n",
            "enter x2 value:5\n",
            "enter y1 value:8\n",
            "enter y2 value:6\n",
            "distanse of two points: 5.385164807134504\n"
          ],
          "name": "stdout"
        }
      ]
    },
    {
      "cell_type": "code",
      "metadata": {
        "id": "v89MO7i8tdCB"
      },
      "source": [
        "exercise 3:a) write a program to find the given number is even or odd"
      ],
      "execution_count": null,
      "outputs": []
    },
    {
      "cell_type": "code",
      "metadata": {
        "colab": {
          "base_uri": "https://localhost:8080/"
        },
        "id": "_dkENehWufjc",
        "outputId": "efe07a51-0083-428f-e680-8d3aad433956"
      },
      "source": [
        "n=int(input(\"enter a number:\"))\n",
        "if(n%2==0):\n",
        "  print(\"given number is even\")\n",
        "else:\n",
        "  print(\"given number is odd\")"
      ],
      "execution_count": null,
      "outputs": [
        {
          "output_type": "stream",
          "text": [
            "enter a number:4\n",
            "given number is even\n"
          ],
          "name": "stdout"
        }
      ]
    },
    {
      "cell_type": "markdown",
      "metadata": {
        "id": "Hk4qGDZLF6WV"
      },
      "source": [
        "b)Using a for loop, write a program that prints out the decimal equivalents of 1/2, 1/3, 1/4.1/10."
      ]
    },
    {
      "cell_type": "code",
      "metadata": {
        "colab": {
          "base_uri": "https://localhost:8080/"
        },
        "id": "lqOBTx5bF6xa",
        "outputId": "c68be7b8-ac8f-45bb-ed37-2d3d7f23e6cd"
      },
      "source": [
        "n=int(input(\"enter a number:\"))\n",
        "for i in range(1,n):\n",
        "  d=1/i\n",
        "  print(\"1/\",i,\"=\",d)\n"
      ],
      "execution_count": null,
      "outputs": [
        {
          "output_type": "stream",
          "text": [
            "enter a number:5\n",
            "1/ 1 = 1.0\n",
            "1/ 2 = 0.5\n",
            "1/ 3 = 0.3333333333333333\n",
            "1/ 4 = 0.25\n"
          ],
          "name": "stdout"
        }
      ]
    },
    {
      "cell_type": "markdown",
      "metadata": {
        "id": "W-jqTv_WG4o5"
      },
      "source": [
        "c) Write a program using a for loop that loops over a sequence. What is sequence?"
      ]
    },
    {
      "cell_type": "code",
      "metadata": {
        "colab": {
          "base_uri": "https://localhost:8080/"
        },
        "id": "esFIrGKBG-FO",
        "outputId": "e0fe5e81-e5ca-46d8-feb2-f2b834e2345d"
      },
      "source": [
        "arr=[4,\"abc\",-45,'C',10.5,True,5,106,\"xyz\"]\n",
        "print(\"Given Array: \",arr)\n",
        "\n",
        "for x in arr:\n",
        "  print(x)"
      ],
      "execution_count": null,
      "outputs": [
        {
          "output_type": "stream",
          "text": [
            "Given Array:  [4, 'abc', -45, 'C', 10.5, True, 5, 106, 'xyz']\n",
            "4\n",
            "abc\n",
            "-45\n",
            "C\n",
            "10.5\n",
            "True\n",
            "5\n",
            "106\n",
            "xyz\n"
          ],
          "name": "stdout"
        }
      ]
    },
    {
      "cell_type": "markdown",
      "metadata": {
        "id": "Y5Jtb5z6HqL_"
      },
      "source": [
        "d) Write a program using a while loop that asks the user for a number, and prints a countdown from that number to zero."
      ]
    },
    {
      "cell_type": "code",
      "metadata": {
        "colab": {
          "base_uri": "https://localhost:8080/"
        },
        "id": "yxE2c6tFHuFl",
        "outputId": "d501a8cb-9da2-4d8d-b28e-6989167b7470"
      },
      "source": [
        "n=int(input(\"Enter value of n:\"))\n",
        "\n",
        "while n>=0:\n",
        "  print(n)\n",
        "  n-=1"
      ],
      "execution_count": null,
      "outputs": [
        {
          "output_type": "stream",
          "text": [
            "Enter value of n:7\n",
            "7\n",
            "6\n",
            "5\n",
            "4\n",
            "3\n",
            "2\n",
            "1\n",
            "0\n"
          ],
          "name": "stdout"
        }
      ]
    },
    {
      "cell_type": "markdown",
      "metadata": {
        "id": "PK_84FmsIAR5"
      },
      "source": [
        "exercise 4: a)find the sum of all primes below two million"
      ]
    },
    {
      "cell_type": "code",
      "metadata": {
        "colab": {
          "base_uri": "https://localhost:8080/"
        },
        "id": "BmP-EoykILyK",
        "outputId": "5938e131-207c-4c91-dcdf-ab32e256a7e4"
      },
      "source": [
        "#sum of all the primes of given number below \n",
        "n=int(input(\"Enter an Ending Number: \"))\n",
        "st=\"\"\n",
        "sum=0\n",
        "\n",
        "for i in range(2,n):\n",
        "  state=True\n",
        "  for j in range(2,i):\n",
        "    if(i%j)==0:\n",
        "      state=False\n",
        "      break;\n",
        "      \n",
        "  if state==True:\n",
        "    st+=\" \"+str(i)\n",
        "    sum+=i\n",
        "\n",
        "print(\"Prime Numbers: \")\n",
        "\n",
        "print(st)\n",
        "\n",
        "print(\"Sum of the prime Numbers: \",sum)"
      ],
      "execution_count": null,
      "outputs": [
        {
          "output_type": "stream",
          "text": [
            "Enter an Ending Number: 100\n",
            "Prime Numbers: \n",
            " 2 3 5 7 11 13 17 19 23 29 31 37 41 43 47 53 59 61 67 71 73 79 83 89 97\n",
            "Sum of the prime Numbers:  1060\n"
          ],
          "name": "stdout"
        }
      ]
    },
    {
      "cell_type": "markdown",
      "metadata": {
        "id": "FPG2Wt8dJe-v"
      },
      "source": [
        "b) Each new term in the Fibonacci sequence is generated by adding the previous two terms. By starting with 1 and 2, the first 10 terms will be: 1, 2, 3, 5, 8, 13, 21, 34, 55,89"
      ]
    },
    {
      "cell_type": "code",
      "metadata": {
        "colab": {
          "base_uri": "https://localhost:8080/"
        },
        "id": "_VYGvh3uJlh_",
        "outputId": "dcf55e19-748e-4619-8351-b56b34831a38"
      },
      "source": [
        "#Fibonacci Series\n",
        "\n",
        "n=int (input(\"Enter value of n: \"))\n",
        "\n",
        "a=0\n",
        "b=1\n",
        "c=a+b\n",
        "\n",
        "while c<n:\n",
        "   print(c,end=' ')\n",
        "   a=b\n",
        "   b=c\n",
        "   c=a+b"
      ],
      "execution_count": null,
      "outputs": [
        {
          "output_type": "stream",
          "text": [
            "Enter value of n: 1000\n",
            "1 2 3 5 8 13 21 34 55 89 144 233 377 610 987 "
          ],
          "name": "stdout"
        }
      ]
    },
    {
      "cell_type": "markdown",
      "metadata": {
        "id": "ainQweoPKvg_"
      },
      "source": [
        "c) By considering the terms in the Fibonacci sequence whose values do not exceed\n",
        "\n",
        "million, find the sum of the even-valued terms."
      ]
    },
    {
      "cell_type": "code",
      "metadata": {
        "colab": {
          "base_uri": "https://localhost:8080/"
        },
        "id": "05AJF71iKyBz",
        "outputId": "7aac7b58-8cd8-4b9c-9bfa-b4f61d975590"
      },
      "source": [
        "n=int (input(\"Enter value of n: \"))\n",
        "a=0\n",
        "b=1\n",
        "\n",
        "c=a+b\n",
        "\n",
        "sum=0\n",
        "\n",
        "print(\"Even numbers in Fibonacci series: \")\n",
        "\n",
        "while c<=n: \n",
        "  if c%2==0:\n",
        "    print(c,end=' ') \n",
        "    sum+=c\n",
        "  a=b\n",
        "  b=c\n",
        "  c=a+b\n",
        "\n",
        "print(\"sum of Fibonacci Series is: \",sum)"
      ],
      "execution_count": null,
      "outputs": [
        {
          "output_type": "stream",
          "text": [
            "Enter value of n: 4000000\n",
            "Even numbers in Fibonacci series: \n",
            "2 8 34 144 610 2584 10946 46368 196418 832040 3524578 sum of Fibonacci Series is:  4613732\n"
          ],
          "name": "stdout"
        }
      ]
    },
    {
      "cell_type": "markdown",
      "metadata": {
        "id": "sYzM0NFbL-KM"
      },
      "source": [
        "exercise 5:\n",
        "a) Write a program to count the numbers of characters in the string and store them in a dictionary data structure"
      ]
    },
    {
      "cell_type": "code",
      "metadata": {
        "colab": {
          "base_uri": "https://localhost:8080/"
        },
        "id": "5Sp4Wb3HMH6C",
        "outputId": "3d079b6c-c0fc-46e8-f562-8bef21421dfc"
      },
      "source": [
        "name=input(\"Enter a Name: \")\n",
        "\n",
        "dic= {}\n",
        "\n",
        "for ch in name:\n",
        "   keys=dic.keys()\n",
        "   if (ch in keys):\n",
        "     dic[ch]=dic[ch]+1\n",
        "   else:\n",
        "     dic[ch]=1\n",
        "print(\"Dictionary is \",dic)"
      ],
      "execution_count": null,
      "outputs": [
        {
          "output_type": "stream",
          "text": [
            "Enter a Name: madhuvarma\n",
            "Dictionary is  {'m': 2, 'a': 3, 'd': 1, 'h': 1, 'u': 1, 'v': 1, 'r': 1}\n"
          ],
          "name": "stdout"
        }
      ]
    },
    {
      "cell_type": "markdown",
      "metadata": {
        "id": "LkSfZJiXNRyq"
      },
      "source": [
        "b) Write a program to use split and join methods in the string and trace a birthday with a dictionary data structure."
      ]
    },
    {
      "cell_type": "code",
      "metadata": {
        "colab": {
          "base_uri": "https://localhost:8080/"
        },
        "id": "FuyB3YrZNVpl",
        "outputId": "6e5f937d-0945-4b91-b6b6-7962cbcc8311"
      },
      "source": [
        "dob={\"madhu\":\"01-Jan-2002\",\"Varma\":\"15-05-2000\"}\n",
        "\n",
        "name=input(\"Which person DOB you want: \")\n",
        "\n",
        "I=name.split()\n",
        "\n",
        "birth=\"\"\n",
        "\n",
        "for i in dob:\n",
        "  if i in dob.keys():\n",
        "    pers=i\n",
        "\n",
        "print(\" \".join([pers,\"Birthday is\",dob[pers]]))"
      ],
      "execution_count": null,
      "outputs": [
        {
          "output_type": "stream",
          "text": [
            "Which person DOB you want: madhu\n",
            "Varma Birthday is 15-05-2000\n"
          ],
          "name": "stdout"
        }
      ]
    },
    {
      "cell_type": "markdown",
      "metadata": {
        "id": "s40kZwyuOgy0"
      },
      "source": [
        "Exercise 6:\n",
        "a) Write a program combine lists that combines these lists into a dictionary."
      ]
    },
    {
      "cell_type": "code",
      "metadata": {
        "colab": {
          "base_uri": "https://localhost:8080/"
        },
        "id": "9fGWjS8TO2b6",
        "outputId": "f0a99a34-b4d5-4744-f15e-6fd72e7a1ca6"
      },
      "source": [
        "subj=[\"DAA\",\"OS\",\"DBMS\",\"P&S\",\"PPL\",\"SE\"]\n",
        "\n",
        "marks=[185,96,78,68,98,56]\n",
        "\n",
        "print(\"Given Lists are: \") \n",
        "print(\"Subject Names: \",subj)\n",
        "print(\" Mark values: \",marks)\n",
        "\n",
        "dic=dict(zip(subj,marks))\n",
        "print(\"\\n Dictionary: \",dic)"
      ],
      "execution_count": null,
      "outputs": [
        {
          "output_type": "stream",
          "text": [
            "Given Lists are: \n",
            "Subject Names:  ['DAA', 'OS', 'DBMS', 'P&S', 'PPL', 'SE']\n",
            " Mark values:  [185, 96, 78, 68, 98, 56]\n",
            "\n",
            " Dictionary:  {'DAA': 185, 'OS': 96, 'DBMS': 78, 'P&S': 68, 'PPL': 98, 'SE': 56}\n"
          ],
          "name": "stdout"
        }
      ]
    },
    {
      "cell_type": "markdown",
      "metadata": {
        "id": "kmHSxpF7Pa6G"
      },
      "source": [
        "b) Write a program to count frequency of characters in a given file. Can you\n",
        "use character frequency to tell wheather the given file is a Python program file, C program file or a text file?"
      ]
    },
    {
      "cell_type": "code",
      "metadata": {
        "id": "MMJH_ObdPcZp"
      },
      "source": [
        "filetypes=['.py','.c','.txt']\n",
        "\n",
        "fn=input(\"Enter the file name: \") \n",
        "f=open(fn,\"r\") \n",
        "count=dict()\n",
        "\n",
        "print(\"Given file is \",end=\"\") \n",
        "for ft in filetypes: \n",
        "  if(ft in fn):\n",
        "    if(ft=='.py'):\n",
        "      print(\"Python File\")\n",
        "    elif(ft=='.c'):\n",
        "      print(\"C File\")\n",
        "    elif(ft=='.txt'):\n",
        "      print(\"Text File\")\n",
        "\n",
        "for line in f:\n",
        "  for ch in line:\n",
        "    if ch in count:\n",
        "      count[ch]=count[ch]+1\n",
        "    else:\n",
        "      count[ch]=1\n",
        "\n",
        "print(count)\n",
        "\n",
        "f.close()"
      ],
      "execution_count": null,
      "outputs": []
    },
    {
      "cell_type": "markdown",
      "metadata": {
        "id": "3Asw00XVRj1-"
      },
      "source": [
        "exercise-7:\n",
        "a) Write a program to print each line of a file in reverse order."
      ]
    },
    {
      "cell_type": "code",
      "metadata": {
        "id": "upjix_CkRvAZ"
      },
      "source": [
        "obj=open(\"me.txt\",\"r\")\n",
        "\n",
        "if obj:\n",
        "  st=obj.read()\n",
        "  print(\"File content is: \\n\",st)\n",
        "\n",
        "obj.close()\n",
        "\n",
        "print()\n",
        "\n",
        "lines=st.split('\\n')\n",
        "\n",
        "for In in lines:\n",
        "  i=len(In)-1\n",
        "  while(i>=0):\n",
        "    print(In[i],end=\" \") \n",
        "    i=i-1\n",
        "\n",
        "print()"
      ],
      "execution_count": null,
      "outputs": []
    },
    {
      "cell_type": "markdown",
      "metadata": {
        "id": "-8VkBMotSWxE"
      },
      "source": [
        "b)write a program to compute the number pf characters, words and lines in a file."
      ]
    },
    {
      "cell_type": "code",
      "metadata": {
        "id": "SHH5eJO6SriX"
      },
      "source": [
        "nc=nw=nl=0 file = open(\"abc.txt\", \"r\")\n",
        "\n",
        "nl=nw=nc=0\n",
        "\n",
        "print(\"File Content:\\n\") \n",
        "for line in file:\n",
        "  In = line.strip(\"\\n\")\n",
        "  words=ln.split()\n",
        "  nw += len(words)\n",
        "\n",
        "print(In)\n",
        "\n",
        "nl += 1\n",
        "\n",
        "nc += len(line)\n",
        "file.close()\n",
        "print(\"\\n No.of lines\",nl,\"words:\",nw,\"characters\",nc)\n"
      ],
      "execution_count": null,
      "outputs": []
    },
    {
      "cell_type": "markdown",
      "metadata": {
        "id": "JPBskih2TTEP"
      },
      "source": [
        "Exeecise-8\n",
        "a) Write a function ball collide that takes two balls as parameters and computes if they are colliding. Your function should return a Boolean representing whether or not the balls are colliding."
      ]
    },
    {
      "cell_type": "code",
      "metadata": {
        "colab": {
          "base_uri": "https://localhost:8080/"
        },
        "id": "ZZAukjtmTrTP",
        "outputId": "69a0edb2-e3d0-4cd7-c700-7f8b3a5f68ed"
      },
      "source": [
        "import math\n",
        "\n",
        "def collide(ball_tup1,ball_tup2):\n",
        "  x1,y1,r1=ball_tup1\n",
        "  x2,y2,r2=ball_tup2\n",
        "  print(\"Ball-01: \",ball_tup1)\n",
        "  print(\"Ball-02: \",ball_tup2)\n",
        "  d=math.sqrt((x2-x1)**2 + (y2-y1)**2)\n",
        "  print(\"Centroid Distance of two balls: \",d)\n",
        "  print(\"Sum of Radius Ball-01 & Balu-02 is: {}+{}={}\".format(r1,r2,r1+r2))\n",
        "  if d<=r1+r2: \n",
        "    return True\n",
        "  else:\n",
        "    return False\n",
        "\n",
        "b1=(-2,-4,3)\n",
        "\n",
        "b2=(4,6,3)\n",
        "\n",
        "if collide(b1,b2):\n",
        "  print(\"Balls are Colliode....!\")\n",
        "else:\n",
        "  print(\"Balls are NOT Collide.....!\")"
      ],
      "execution_count": null,
      "outputs": [
        {
          "output_type": "stream",
          "text": [
            "Ball-01:  (-2, -4, 3)\n",
            "Ball-02:  (4, 6, 3)\n",
            "Centroid Distance of two balls:  11.661903789690601\n",
            "Sum of Radius Ball-01 & Balu-02 is: 3+3=6\n",
            "Balls are NOT Collide.....!\n"
          ],
          "name": "stdout"
        }
      ]
    },
    {
      "cell_type": "markdown",
      "metadata": {
        "id": "k3QF-ZwvVMT7"
      },
      "source": [
        "b) Find mean, median, mode for the given set of numbers in a list."
      ]
    },
    {
      "cell_type": "code",
      "metadata": {
        "colab": {
          "base_uri": "https://localhost:8080/"
        },
        "id": "bGhYYdQWVRvQ",
        "outputId": "eddca4cf-d1b7-40f1-c53f-5b5ed24cb546"
      },
      "source": [
        "def list_mean(num_list):\n",
        "  return sum(num_list)/len(num_list)\n",
        "\n",
        "def sum(num_list):\n",
        "  sum=0\n",
        "  for i in num_list:\n",
        "    sum=sum+i\n",
        "  return sum\n",
        "def list_median(num_list):\n",
        "  num_list.sort()\n",
        "  n=len(num_list)\n",
        "  mid=n//2\n",
        "  if(n%2==1):\n",
        "    return num_list[mid]\n",
        "  else:\n",
        "    return (num_list[mid-1]+num_list[mid])/2\n",
        "\n",
        "def list_mode(num_list):\n",
        "  num_list.sort()\n",
        "  temp=[]\n",
        "  i=0\n",
        "  while i<len(num_list):\n",
        "    temp.append(num_list.count(num_list[i]))\n",
        "    i+=1\n",
        "    dic=dict(zip(num_list,temp))\n",
        "    mode={k for(k,v) in dic.items() if v==max(temp)}\n",
        "    return mode\n",
        "\n",
        "lst=[1,1,2,2,2,3,4,5,3]\n",
        "\n",
        "print(\"Given list is; \",lst)\n",
        "\n",
        "print(\"Mean of the given list: \",list_mean(lst))\n",
        "print(\"Median of the given list: \",list_median(lst))\n",
        "print(\"Mode of the given list: \",list_mode(lst))"
      ],
      "execution_count": null,
      "outputs": [
        {
          "output_type": "stream",
          "text": [
            "Given list is;  [1, 1, 2, 2, 2, 3, 4, 5, 3]\n",
            "Mean of the given list:  2.5555555555555554\n",
            "Median of the given list:  2\n",
            "Mode of the given list:  {1}\n"
          ],
          "name": "stdout"
        }
      ]
    },
    {
      "cell_type": "markdown",
      "metadata": {
        "id": "gYQVUhIfXyrG"
      },
      "source": [
        "exercise-9\n",
        "a) Write a function nearly equal to test whether two strings are nearly equal. Two strings a and b are nearly equal when a can be generated by a single mutation on b."
      ]
    },
    {
      "cell_type": "code",
      "metadata": {
        "colab": {
          "base_uri": "https://localhost:8080/"
        },
        "id": "VvbBmpqlX5kP",
        "outputId": "e8d3b855-c360-4ddf-c28e-1a7ab450e22f"
      },
      "source": [
        "def nearly_eq(str1,str2):\n",
        "  count=0\n",
        "  i=j=0\n",
        "  while(i<len(str1) and j<len(str2)):\n",
        "    if (str1[i]!=str2[j]):\n",
        "      count+=1\n",
        "      if(len(str1)>len(str2)):\n",
        "        i+=1\n",
        "      elif(len(str1)==len(str2)):\n",
        "        pass\n",
        "      else:\n",
        "        i-=1\n",
        "      if(count>1):\n",
        "        return False\n",
        "      i+=1\n",
        "      j+=1\n",
        "  if(count<2):\n",
        "    return True\n",
        "\n",
        "s1=input(\"Enter String1: \")\n",
        "\n",
        "s2=input(\"Enter String2: \")\n",
        "bln=nearly_eq(s1,s2)\n",
        "if(bln):\n",
        "  print(\"Strings are nearly equal.\")\n",
        "else: \n",
        "  print(\"String are NOT equal.\")"
      ],
      "execution_count": null,
      "outputs": [
        {
          "output_type": "stream",
          "text": [
            "Enter String1: jajjhjd\n",
            "Enter String2: hdhkdsu\n",
            "String are NOT equal.\n"
          ],
          "name": "stdout"
        }
      ]
    },
    {
      "cell_type": "markdown",
      "metadata": {
        "id": "DWK5e0RaIJ1v"
      },
      "source": [
        "b) Write a function dup to find all duplicates in the list"
      ]
    },
    {
      "cell_type": "code",
      "metadata": {
        "colab": {
          "base_uri": "https://localhost:8080/"
        },
        "id": "oEsfiMB2IWB6",
        "outputId": "e767e334-d3ee-442d-de71-bf75b3c8f530"
      },
      "source": [
        "def dups(numlist):\n",
        "  temp=[]\n",
        "  for i in numlist:\n",
        "    cnt=numlist.count(i)\n",
        "    if(cnt>1 and (i not in temp)):\n",
        "      temp.append(i)\n",
        "  print(\"Duplicates in the list: \",temp)\n",
        "\n",
        "lst=[1,2,6,9,1,3,5,2,1]\n",
        "\n",
        "print(\"Given elements in the list: \",lst) \n",
        "dups(lst)"
      ],
      "execution_count": null,
      "outputs": [
        {
          "output_type": "stream",
          "text": [
            "Given elements in the list:  [1, 2, 6, 9, 1, 3, 5, 2, 1]\n",
            "Duplicates in the list:  [1, 2]\n"
          ],
          "name": "stdout"
        }
      ]
    },
    {
      "cell_type": "markdown",
      "metadata": {
        "id": "ZmKrXF2dI8Zx"
      },
      "source": [
        "c)write a function unique to find all the unique elements of a list."
      ]
    },
    {
      "cell_type": "code",
      "metadata": {
        "colab": {
          "base_uri": "https://localhost:8080/"
        },
        "id": "FwAWwm37JPd_",
        "outputId": "9d892b17-f79a-4bad-a701-ee6f2d4af56d"
      },
      "source": [
        "def unique(numlist): \n",
        "  temp=[] \n",
        "  for i in numlist:\n",
        "    cnt=numlist.count(i)\n",
        "    if cnt==1:\n",
        "      temp.append(i)\n",
        "  print(\"Unique Elements in the list: \",temp)\n",
        "\n",
        "lst=[1,2,6,9,1,3,5,2,1]\n",
        "\n",
        "print(\"Given elements in the list: \",lst) \n",
        "unique(lst)"
      ],
      "execution_count": null,
      "outputs": [
        {
          "output_type": "stream",
          "text": [
            "Given elements in the list:  [1, 2, 6, 9, 1, 3, 5, 2, 1]\n",
            "Unique Elements in the list:  [6, 9, 3, 5]\n"
          ],
          "name": "stdout"
        }
      ]
    },
    {
      "cell_type": "markdown",
      "metadata": {
        "id": "iS-uv0KyKDkc"
      },
      "source": [
        "Exercise 10:\n",
        "a) write a function cumulative product of a list numbers"
      ]
    },
    {
      "cell_type": "code",
      "metadata": {
        "colab": {
          "base_uri": "https://localhost:8080/"
        },
        "id": "y9LX4dqGKRV7",
        "outputId": "eeea3466-51a7-402e-dad2-eb2765424e7e"
      },
      "source": [
        "def cum_prod(numlist):\n",
        "  prod=1\n",
        "  temp=[]\n",
        "  for i in numlist:\n",
        "    prod*=i\n",
        "    temp.append(prod)\n",
        "  return temp\n",
        "\n",
        "lst=[1,2,4,5,3]\n",
        "\n",
        "print(\"Given list is: \",lst)\n",
        "print(\"Cumulative Product list is: \",cum_prod(lst))"
      ],
      "execution_count": null,
      "outputs": [
        {
          "output_type": "stream",
          "text": [
            "Given list is:  [1, 2, 4, 5, 3]\n",
            "Cumulative Product list is:  [1, 2, 8, 40, 120]\n"
          ],
          "name": "stdout"
        }
      ]
    },
    {
      "cell_type": "markdown",
      "metadata": {
        "id": "sfqHvwLiKp4m"
      },
      "source": [
        "b) write a function reverse to reverse a list. without using thne reverse function."
      ]
    },
    {
      "cell_type": "code",
      "metadata": {
        "colab": {
          "base_uri": "https://localhost:8080/"
        },
        "id": "IH-xwPMWK1CN",
        "outputId": "c38674a3-8825-4c51-9af9-2d54c547a2cc"
      },
      "source": [
        "def reverse_list(numlist):\n",
        "  i=0\n",
        "  j=len(numlist)-1\n",
        "  while(i<=j):\n",
        "    temp=numlist[i]\n",
        "    numlist[i]=numlist[j]\n",
        "    numlist[j]=temp\n",
        "    j-=1 \n",
        "    i+=1\n",
        "  return numlist\n",
        "\n",
        "lst=[1,2,3,4]\n",
        "\n",
        "print(\"Given list is: \",lst) \n",
        "reverse_list(lst) \n",
        "print(\"Reverse of the given list is: \",lst)"
      ],
      "execution_count": null,
      "outputs": [
        {
          "output_type": "stream",
          "text": [
            "Given list is:  [1, 2, 3, 4]\n",
            "Reverse of the given list is:  [4, 3, 2, 1]\n"
          ],
          "name": "stdout"
        }
      ]
    },
    {
      "cell_type": "markdown",
      "metadata": {
        "id": "eb2L5ynsLUxr"
      },
      "source": [
        "c) write function to compute gcd, lcm of two numbers.Each function shouldn't exceed one"
      ]
    },
    {
      "cell_type": "code",
      "metadata": {
        "colab": {
          "base_uri": "https://localhost:8080/"
        },
        "id": "GKA3fQPGL015",
        "outputId": "5253ad01-ccf0-4de3-8b14-7986ddd34e31"
      },
      "source": [
        "gcd=lambda a,b: a if b==0 else gcd(a,a%b)\n",
        "lcm=lambda a,b: (a*b)/gcd(a,b)\n",
        "\n",
        "x=4\n",
        "\n",
        "y=24\n",
        "\n",
        "print(\"The Given Numbers: \",x,y)\n",
        "print(\"GCD is: \", gcd(x,y))\n",
        "\n",
        "print(\"LCM is: \", lcm(x,y))"
      ],
      "execution_count": null,
      "outputs": [
        {
          "output_type": "stream",
          "text": [
            "The Given Numbers:  4 24\n",
            "GCD is:  4\n",
            "LCM is:  24.0\n"
          ],
          "name": "stdout"
        }
      ]
    },
    {
      "cell_type": "markdown",
      "metadata": {
        "id": "5nf0WrV7MMBs"
      },
      "source": [
        "exercise 11:\n",
        "a) write a program that defines a matrix and prints"
      ]
    },
    {
      "cell_type": "code",
      "metadata": {
        "colab": {
          "base_uri": "https://localhost:8080/"
        },
        "id": "Kp2dGR59MVyt",
        "outputId": "39d7fb32-0213-468e-e9ed-dd7dbd40263d"
      },
      "source": [
        "matA=[[]]\n",
        "\n",
        "rows=int(input(\"Enter row size of Matrix: \")) \n",
        "cols=int(input(\"Enter column size of Matrix: \"))\n",
        "\n",
        "matA=[[int(input(\"Enter [%d,%d] value: \"%(i,j)))for j in range(cols)]for i in range(rows)]\n",
        "\n",
        "print(\"Matrix is: \") \n",
        "for i in range(rows):\n",
        "  for j in range(cols):\n",
        "    print(matA[i][j],end='\\t')\n",
        "  print()"
      ],
      "execution_count": null,
      "outputs": [
        {
          "output_type": "stream",
          "text": [
            "Enter row size of Matrix: 3\n",
            "Enter column size of Matrix: 2\n",
            "Enter [0,0] value: 7\n",
            "Enter [0,1] value: 2\n",
            "Enter [1,0] value: 1\n",
            "Enter [1,1] value: 6\n",
            "Enter [2,0] value: 9\n",
            "Enter [2,1] value: 8\n",
            "Matrix is: \n",
            "7\t2\t\n",
            "1\t6\t\n",
            "9\t8\t\n"
          ],
          "name": "stdout"
        }
      ]
    },
    {
      "cell_type": "markdown",
      "metadata": {
        "id": "dKn-F40KNJyN"
      },
      "source": [
        "b) write a program to perform addition of two swuare matrices"
      ]
    },
    {
      "cell_type": "code",
      "metadata": {
        "colab": {
          "base_uri": "https://localhost:8080/"
        },
        "id": "U79LYm-qOBFa",
        "outputId": "68826119-5b83-402d-c2e2-9d8fb65a3139"
      },
      "source": [
        "def matRead(r,c):\n",
        "  return [[int(input(\"Enter [%d,%d] value: \"%(i,j)))for j in range(cols)]for i in range(rows)]\n",
        "\n",
        "\n",
        "def matDisp(mat,r,c):\n",
        "  for i in range(r):\n",
        "    for j in range(c):\n",
        "      print(mat[i][j],end='\\t')\n",
        "    print()\n",
        "\n",
        "matA=[[]]\n",
        "\n",
        "matB=[[]]\n",
        "\n",
        "matSum=[[]]\n",
        "\n",
        "rows=int(input(\"Enter row size of the Matrix: \"))\n",
        "\n",
        "cols=int(input(\"Enter column size of the Matrix: \"))\n",
        "\n",
        "if rows==cols:\n",
        "  print(\"Enter Matrix-A elements:\") \n",
        "  matA=matRead(rows,cols)\n",
        "  print(\"Enter Matrix-B elements: \") \n",
        "  matB=matRead(rows,cols)\n",
        "  print(\"Matrix-A is: \")\n",
        "  matDisp(matA,rows,cols)\n",
        "  print(\"Matrix-B is: \")\n",
        "  matDisp(matB,rows,cols)\n",
        "  matSum=[[matA[i][j]+matB[i][j] for j in range(cols)]for i in range(rows)]\n",
        "  print(\"Sum of Matrices is: \")\n",
        "  matDisp(matSum,rows,cols)\n",
        "\n",
        "else:\n",
        "  print(\"Matrices Addition is Not possible\")"
      ],
      "execution_count": null,
      "outputs": [
        {
          "output_type": "stream",
          "text": [
            "Enter row size of the Matrix: 2\n",
            "Enter column size of the Matrix: 2\n",
            "Enter Matrix-A elements:\n",
            "Enter [0,0] value: 1\n",
            "Enter [0,1] value: 2\n",
            "Enter [1,0] value: 3\n",
            "Enter [1,1] value: 4\n",
            "Enter Matrix-B elements: \n",
            "Enter [0,0] value: 5\n",
            "Enter [0,1] value: 6\n",
            "Enter [1,0] value: 7\n",
            "Enter [1,1] value: 8\n",
            "Matrix-A is: \n",
            "1\t2\t\n",
            "3\t4\t\n",
            "Matrix-B is: \n",
            "5\t6\t\n",
            "7\t8\t\n",
            "Sum of Matrices is: \n",
            "6\t8\t\n",
            "10\t12\t\n"
          ],
          "name": "stdout"
        }
      ]
    },
    {
      "cell_type": "markdown",
      "metadata": {
        "id": "dtFtUKaZQ5ff"
      },
      "source": [
        "c) write a program to perform multiplication of two square matrices"
      ]
    },
    {
      "cell_type": "code",
      "metadata": {
        "colab": {
          "base_uri": "https://localhost:8080/"
        },
        "id": "gPXMh5Z_RdlN",
        "outputId": "0a56173b-0f44-48cb-bc1e-1d223f614841"
      },
      "source": [
        "def matRead(r,c):\n",
        "  return [[int(input(\"Enter [%d,%d] value: \"%(i,j)))for j in range(cols)]for i in range(rows)]\n",
        "\n",
        "\n",
        "def matDisp(mat,r,c):\n",
        "  for i in range(r):\n",
        "    for j in range(c):\n",
        "      print(mat[i][j],end='\\t')\n",
        "    print()\n",
        "\n",
        "matA=[[]]\n",
        "\n",
        "matB=[[]]\n",
        "\n",
        "matSum=[[]]\n",
        "\n",
        "rows=int(input(\"Enter row size of the Matrix: \"))\n",
        "\n",
        "cols=int(input(\"Enter column size of the Matrix: \"))\n",
        "if rows==cols:\n",
        "  print(\"Enter Matrix-A: \")\n",
        "  matA=matRead(rows,cols)\n",
        "  print(\"Enter Matrix-B: \")\n",
        "  matB=matRead(rows,cols)\n",
        "  matMul=[[0 for j in range(cols)] for i in range(rows) ]\n",
        "  for i in range(rows):\n",
        "    for j in range(cols):\n",
        "      for k in range(cols): \n",
        "        matMul[i][j]+=matA[i][k]*matB[k][j]\n",
        "  print(\"Matrix-A is: \")\n",
        "  matDisp(matA,rows,cols)\n",
        "  print(\"Matrix-B is: \")\n",
        "  matDisp(matB,rows,cols)\n",
        "  print(\"Multiplication of Matrices is: \")\n",
        "  matDisp(matMul,rows,cols)\n",
        "\n",
        "else:\n",
        "  print(\"Matrices Multiplication is not possible\")"
      ],
      "execution_count": null,
      "outputs": [
        {
          "output_type": "stream",
          "text": [
            "Enter row size of the Matrix: 2\n",
            "Enter column size of the Matrix: 2\n",
            "Enter Matrix-A: \n",
            "Enter [0,0] value: 2\n",
            "Enter [0,1] value: 3\n",
            "Enter [1,0] value: 5\n",
            "Enter [1,1] value: 6\n",
            "Enter Matrix-B: \n",
            "Enter [0,0] value: 1\n",
            "Enter [0,1] value: 2\n",
            "Enter [1,0] value: 3\n",
            "Enter [1,1] value: 4\n",
            "Matrix-A is: \n",
            "2\t3\t\n",
            "5\t6\t\n",
            "Matrix-B is: \n",
            "1\t2\t\n",
            "3\t4\t\n",
            "Multiplication of Matrices is: \n",
            "11\t16\t\n",
            "23\t34\t\n"
          ],
          "name": "stdout"
        }
      ]
    },
    {
      "cell_type": "markdown",
      "metadata": {
        "id": "26QRTVYxS6QK"
      },
      "source": [
        "Excercise 12:\n",
        "b) write a script that mports requests and fetch contents from the page"
      ]
    },
    {
      "cell_type": "code",
      "metadata": {
        "colab": {
          "base_uri": "https://localhost:8080/"
        },
        "id": "rzE8Q8DgTFXp",
        "outputId": "de73344a-c16d-4184-fd38-59ebc81efda8"
      },
      "source": [
        "import requests\n",
        "\n",
        "r=requests.get('https://www.google.com')\n",
        "\n",
        "print(\"Statuscode: \",r.status_code)\n",
        "\n",
        "print(\"Header Content: \", r.headers['content-type'])\n",
        "\n",
        "print(r.text)"
      ],
      "execution_count": null,
      "outputs": [
        {
          "output_type": "stream",
          "text": [
            "Statuscode:  200\n",
            "Header Content:  text/html; charset=ISO-8859-1\n",
            "<!doctype html><html itemscope=\"\" itemtype=\"http://schema.org/WebPage\" lang=\"en\"><head><meta content=\"Search the world's information, including webpages, images, videos and more. Google has many special features to help you find exactly what you're looking for.\" name=\"description\"><meta content=\"noodp\" name=\"robots\"><meta content=\"text/html; charset=UTF-8\" http-equiv=\"Content-Type\"><meta content=\"/logos/doodles/2021/pedro-linares-lopezs-115th-birthday-6753651837108435.30-l.png\" itemprop=\"image\"><meta content=\"Pedro Linares López's 115th Birthday\" property=\"twitter:title\"><meta content=\"Pedro Linares López's 115th Birthday! #GoogleDoodle\" property=\"twitter:description\"><meta content=\"Pedro Linares López's 115th Birthday! #GoogleDoodle\" property=\"og:description\"><meta content=\"summary_large_image\" property=\"twitter:card\"><meta content=\"@GoogleDoodles\" property=\"twitter:site\"><meta content=\"https://www.google.com/logos/doodles/2021/pedro-linares-lopezs-115th-birthday-6753651837108435.4-2x.png\" property=\"twitter:image\"><meta content=\"https://www.google.com/logos/doodles/2021/pedro-linares-lopezs-115th-birthday-6753651837108435.4-2x.png\" property=\"og:image\"><meta content=\"1400\" property=\"og:image:width\"><meta content=\"460\" property=\"og:image:height\"><title>Google</title><script nonce=\"6p6FmzbFheL3SAIEr+RPdQ==\">(function(){window.google={kEI:'sbPaYIrVOPaDwbkPjYKFyAQ',kEXPI:'0,772215,1,530320,92,56781,954,5105,206,2415,2389,926,1390,383,246,5,1354,4936,314,16232,10,1106274,1197713,569,328985,51223,16115,28684,17572,4859,1361,9290,3026,17583,4020,978,13228,3847,4192,6430,1142,13386,4517,2777,920,5080,1593,1279,2212,530,149,1103,840,1983,3,4311,3514,606,2023,1777,520,14670,3227,2845,7,5599,6755,5096,7540,336,3749,1180,108,1456,27,1924,908,2,940,15325,432,3,346,1244,1,5445,148,5990,5333,2652,4,1528,2304,1236,5226,577,74,1983,2626,2015,3791,276,7434,3824,3050,2658,4243,2293,821,30,1677,9736,2215,1591,714,638,37,1457,619,4967,9765,770,665,5824,2533,992,1055,2047,17,3121,6,908,3,3541,1,5349,3277,6087,1,1810,283,38,874,5992,6754,984,4788,2,1394,756,769,8,1,1272,1715,2,3057,483,1532,523,1,2,2,3172,440,627,4,32,4,1341,3930,2,114,4,683,442,185,157,255,55,4,434,1453,926,91,30,286,2014,1275,1076,3096,407,1575,3,512,1606,3759,1378,586,3,1040,644,516,1269,1798,1627,3,1493,2,507,604,837,33,906,137,1204,1,56,4309,685,36,2,631,204,3,56,64,30,1454,784,1399,1628,58,13,695,753,320,2066,67,1,12,3,1,704,242,345,236,225,166,655,1078,693,1,8,10,1,8,41,1745,439,119,395,84,1635,276,5,57,994,591,1001,276,595,51,401,29,4,7,24,92,246,384,37,2,295,145,416,1531,592,229,5622542,194,32,63,155,2,59,32,1802798,4193979,46,2800651,882,444,1,2,80,1,1796,1,9,2,2551,1,748,141,795,563,1,4265,1,1,2,1331,3299,843,2609,155,17,13,72,139,4,2,20,2,169,13,19,46,5,39,96,548,29,2,2,1,2,1,2,2,7,4,1,2,2,2,2,2,2,353,513,186,1,1,27,4,13,2,6,2,14,19,16,5,24,1,2,23,3,2,2,2,2,2,4,2,3,3,23954992,2857454,1152819,268,1835,24965,1502,2,2374,3,120,3,6,338,3,1453,386,501,74,1157,623',kBL:'agTH'};google.sn='webhp';google.kHL='en';})();(function(){\n",
            "var f=this||self;var h,k=[];function l(a){for(var b;a&&(!a.getAttribute||!(b=a.getAttribute(\"eid\")));)a=a.parentNode;return b||h}function m(a){for(var b=null;a&&(!a.getAttribute||!(b=a.getAttribute(\"leid\")));)a=a.parentNode;return b}\n",
            "function n(a,b,c,d,g){var e=\"\";c||-1!==b.search(\"&ei=\")||(e=\"&ei=\"+l(d),-1===b.search(\"&lei=\")&&(d=m(d))&&(e+=\"&lei=\"+d));d=\"\";!c&&f._cshid&&-1===b.search(\"&cshid=\")&&\"slh\"!==a&&(d=\"&cshid=\"+f._cshid);c=c||\"/\"+(g||\"gen_204\")+\"?atyp=i&ct=\"+a+\"&cad=\"+b+e+\"&zx=\"+Date.now()+d;/^http:/i.test(c)&&\"https:\"===window.location.protocol&&(google.ml&&google.ml(Error(\"a\"),!1,{src:c,glmm:1}),c=\"\");return c};h=google.kEI;google.getEI=l;google.getLEI=m;google.ml=function(){return null};google.log=function(a,b,c,d,g){if(c=n(a,b,c,d,g)){a=new Image;var e=k.length;k[e]=a;a.onerror=a.onload=a.onabort=function(){delete k[e]};a.src=c}};google.logUrl=n;}).call(this);(function(){\n",
            "google.y={};google.sy=[];google.x=function(a,b){if(a)var c=a.id;else{do c=Math.random();while(google.y[c])}google.y[c]=[a,b];return!1};google.sx=function(a){google.sy.push(a)};google.lm=[];google.plm=function(a){google.lm.push.apply(google.lm,a)};google.lq=[];google.load=function(a,b,c){google.lq.push([[a],b,c])};google.loadAll=function(a,b){google.lq.push([a,b])};google.bx=!1;google.lx=function(){};}).call(this);google.f={};(function(){\n",
            "document.documentElement.addEventListener(\"submit\",function(b){var a;if(a=b.target){var c=a.getAttribute(\"data-submitfalse\");a=\"1\"==c||\"q\"==c&&!a.elements.q.value?!0:!1}else a=!1;a&&(b.preventDefault(),b.stopPropagation())},!0);document.documentElement.addEventListener(\"click\",function(b){var a;a:{for(a=b.target;a&&a!=document.documentElement;a=a.parentElement)if(\"A\"==a.tagName){a=\"1\"==a.getAttribute(\"data-nohref\");break a}a=!1}a&&b.preventDefault()},!0);}).call(this);</script><style>#gbar,#guser{font-size:13px;padding-top:1px !important;}#gbar{height:22px}#guser{padding-bottom:7px !important;text-align:right}.gbh,.gbd{border-top:1px solid #c9d7f1;font-size:1px}.gbh{height:0;position:absolute;top:24px;width:100%}@media all{.gb1{height:22px;margin-right:.5em;vertical-align:top}#gbar{float:left}}a.gb1,a.gb4{text-decoration:underline !important}a.gb1,a.gb4{color:#00c !important}.gbi .gb4{color:#dd8e27 !important}.gbf .gb4{color:#900 !important}\n",
            "</style><style>body,td,a,p,.h{font-family:arial,sans-serif}body{margin:0;overflow-y:scroll}#gog{padding:3px 8px 0}td{line-height:.8em}.gac_m td{line-height:17px}form{margin-bottom:20px}.h{color:#1558d6}em{font-weight:bold;font-style:normal}.lst{height:25px;width:496px}.gsfi,.lst{font:18px arial,sans-serif}.gsfs{font:17px arial,sans-serif}.ds{display:inline-box;display:inline-block;margin:3px 0 4px;margin-left:4px}input{font-family:inherit}body{background:#fff;color:#000}a{color:#4b11a8;text-decoration:none}a:hover,a:active{text-decoration:underline}.fl a{color:#1558d6}a:visited{color:#4b11a8}.sblc{padding-top:5px}.sblc a{display:block;margin:2px 0;margin-left:13px;font-size:11px}.lsbb{background:#f8f9fa;border:solid 1px;border-color:#dadce0 #70757a #70757a #dadce0;height:30px}.lsbb{display:block}#WqQANb a{display:inline-block;margin:0 12px}.lsb{background:url(/images/nav_logo229.png) 0 -261px repeat-x;border:none;color:#000;cursor:pointer;height:30px;margin:0;outline:0;font:15px arial,sans-serif;vertical-align:top}.lsb:active{background:#dadce0}.lst:focus{outline:none}</style><script nonce=\"6p6FmzbFheL3SAIEr+RPdQ==\"></script></head><body bgcolor=\"#fff\"><script nonce=\"6p6FmzbFheL3SAIEr+RPdQ==\">(function(){var src='/images/nav_logo229.png';var iesg=false;document.body.onload = function(){window.n && window.n();if (document.images){new Image().src=src;}\n",
            "if (!iesg){document.f&&document.f.q.focus();document.gbqf&&document.gbqf.q.focus();}\n",
            "}\n",
            "})();</script><div id=\"mngb\"><div id=gbar><nobr><b class=gb1>Search</b> <a class=gb1 href=\"https://www.google.com/imghp?hl=en&tab=wi\">Images</a> <a class=gb1 href=\"https://maps.google.com/maps?hl=en&tab=wl\">Maps</a> <a class=gb1 href=\"https://play.google.com/?hl=en&tab=w8\">Play</a> <a class=gb1 href=\"https://www.youtube.com/?gl=US&tab=w1\">YouTube</a> <a class=gb1 href=\"https://news.google.com/?tab=wn\">News</a> <a class=gb1 href=\"https://mail.google.com/mail/?tab=wm\">Gmail</a> <a class=gb1 href=\"https://drive.google.com/?tab=wo\">Drive</a> <a class=gb1 style=\"text-decoration:none\" href=\"https://www.google.com/intl/en/about/products?tab=wh\"><u>More</u> &raquo;</a></nobr></div><div id=guser width=100%><nobr><span id=gbn class=gbi></span><span id=gbf class=gbf></span><span id=gbe></span><a href=\"http://www.google.com/history/optout?hl=en\" class=gb4>Web History</a> | <a  href=\"/preferences?hl=en\" class=gb4>Settings</a> | <a target=_top id=gb_70 href=\"https://accounts.google.com/ServiceLogin?hl=en&passive=true&continue=https://www.google.com/&ec=GAZAAQ\" class=gb4>Sign in</a></nobr></div><div class=gbh style=left:0></div><div class=gbh style=right:0></div></div><center><br clear=\"all\" id=\"lgpd\"><div id=\"lga\"><a href=\"/search?ie=UTF-8&amp;q=Pedro+Linares+L%C3%B3pez&amp;oi=ddle&amp;ct=144867176&amp;hl=en&amp;kgmid=/m/08g16c&amp;sa=X&amp;ved=0ahUKEwjK8baDkrzxAhX2QTABHQ1BAUkQPQgD\"><img alt=\"Pedro Linares López's 115th Birthday\" border=\"0\" height=\"220\" src=\"/logos/doodles/2021/pedro-linares-lopezs-115th-birthday-6753651837108435.30-l.png\" title=\"Pedro Linares López's 115th Birthday\" width=\"700\" id=\"hplogo\"><br></a><br></div><form action=\"/search\" name=\"f\"><table cellpadding=\"0\" cellspacing=\"0\"><tr valign=\"top\"><td width=\"25%\">&nbsp;</td><td align=\"center\" nowrap=\"\"><input name=\"ie\" value=\"ISO-8859-1\" type=\"hidden\"><input value=\"en\" name=\"hl\" type=\"hidden\"><input name=\"source\" type=\"hidden\" value=\"hp\"><input name=\"biw\" type=\"hidden\"><input name=\"bih\" type=\"hidden\"><div class=\"ds\" style=\"height:32px;margin:4px 0\"><input class=\"lst\" style=\"margin:0;padding:5px 8px 0 6px;vertical-align:top;color:#000\" autocomplete=\"off\" value=\"\" title=\"Google Search\" maxlength=\"2048\" name=\"q\" size=\"57\"></div><br style=\"line-height:0\"><span class=\"ds\"><span class=\"lsbb\"><input class=\"lsb\" value=\"Google Search\" name=\"btnG\" type=\"submit\"></span></span><span class=\"ds\"><span class=\"lsbb\"><input class=\"lsb\" id=\"tsuid1\" value=\"I'm Feeling Lucky\" name=\"btnI\" type=\"submit\"><script nonce=\"6p6FmzbFheL3SAIEr+RPdQ==\">(function(){var id='tsuid1';document.getElementById(id).onclick = function(){if (this.form.q.value){this.checked = 1;if (this.form.iflsig)this.form.iflsig.disabled = false;}\n",
            "else top.location='/doodles/';};})();</script><input value=\"AINFCbYAAAAAYNrBwQyMTAT4rKf2ITtOxzBC5c6d_HVQ\" name=\"iflsig\" type=\"hidden\"></span></span></td><td class=\"fl sblc\" align=\"left\" nowrap=\"\" width=\"25%\"><a href=\"/advanced_search?hl=en&amp;authuser=0\">Advanced search</a></td></tr></table><input id=\"gbv\" name=\"gbv\" type=\"hidden\" value=\"1\"><script nonce=\"6p6FmzbFheL3SAIEr+RPdQ==\">(function(){\n",
            "var a,b=\"1\";if(document&&document.getElementById)if(\"undefined\"!=typeof XMLHttpRequest)b=\"2\";else if(\"undefined\"!=typeof ActiveXObject){var c,d,e=[\"MSXML2.XMLHTTP.6.0\",\"MSXML2.XMLHTTP.3.0\",\"MSXML2.XMLHTTP\",\"Microsoft.XMLHTTP\"];for(c=0;d=e[c++];)try{new ActiveXObject(d),b=\"2\"}catch(h){}}a=b;if(\"2\"==a&&-1==location.search.indexOf(\"&gbv=2\")){var f=google.gbvu,g=document.getElementById(\"gbv\");g&&(g.value=a);f&&window.setTimeout(function(){location.href=f},0)};}).call(this);</script></form><div id=\"gac_scont\"></div><div style=\"font-size:83%;min-height:3.5em\"><br></div><span id=\"footer\"><div style=\"font-size:10pt\"><div style=\"margin:19px auto;text-align:center\" id=\"WqQANb\"><a href=\"/intl/en/ads/\">Advertising Programs</a><a href=\"/services/\">Business Solutions</a><a href=\"/intl/en/about.html\">About Google</a></div></div><p style=\"font-size:8pt;color:#70757a\">&copy; 2021 - <a href=\"/intl/en/policies/privacy/\">Privacy</a> - <a href=\"/intl/en/policies/terms/\">Terms</a></p></span></center><script nonce=\"6p6FmzbFheL3SAIEr+RPdQ==\">(function(){window.google.cdo={height:757,width:1440};(function(){\n",
            "var a=window.innerWidth,b=window.innerHeight;if(!a||!b){var c=window.document,d=\"CSS1Compat\"==c.compatMode?c.documentElement:c.body;a=d.clientWidth;b=d.clientHeight}a&&b&&(a!=google.cdo.width||b!=google.cdo.height)&&google.log(\"\",\"\",\"/client_204?&atyp=i&biw=\"+a+\"&bih=\"+b+\"&ei=\"+google.kEI);}).call(this);})();</script> <script nonce=\"6p6FmzbFheL3SAIEr+RPdQ==\">(function(){google.xjs={ck:'',cs:'',excm:[],pml:false};})();</script>  <script nonce=\"6p6FmzbFheL3SAIEr+RPdQ==\">(function(){var u='/xjs/_/js/k\\x3dxjs.hp.en_US.JRh4tN6N9QQ.O/m\\x3dsb_he,d/am\\x3dAHgCLA/d\\x3d1/ed\\x3d1/rs\\x3dACT90oGq1Ln_99CJXORDJChcIkowqosPIA';\n",
            "var e=this||self,f=function(a){return a};var g;var l=function(a,b){this.g=b===h?a:\"\"};l.prototype.toString=function(){return this.g+\"\"};var h={};function m(){var a=u;google.lx=function(){n(a);google.lx=function(){}};google.bx||google.lx()}\n",
            "function n(a){google.timers&&google.timers.load&&google.tick&&google.tick(\"load\",\"xjsls\");var b=document;var c=\"SCRIPT\";\"application/xhtml+xml\"===b.contentType&&(c=c.toLowerCase());c=b.createElement(c);if(void 0===g){b=null;var k=e.trustedTypes;if(k&&k.createPolicy){try{b=k.createPolicy(\"goog#html\",{createHTML:f,createScript:f,createScriptURL:f})}catch(p){e.console&&e.console.error(p.message)}g=b}else g=b}a=(b=g)?b.createScriptURL(a):a;a=new l(a,h);c.src=a instanceof l&&a.constructor===l?a.g:\"type_error:TrustedResourceUrl\";var d;a=(c.ownerDocument&&c.ownerDocument.defaultView||window).document;(d=(a=null===(d=a.querySelector)||void 0===d?void 0:d.call(a,\"script[nonce]\"))?a.nonce||a.getAttribute(\"nonce\")||\"\":\"\")&&c.setAttribute(\"nonce\",d);document.body.appendChild(c);google.psa=!0};setTimeout(function(){m()},0);})();(function(){window.google.xjsu='/xjs/_/js/k\\x3dxjs.hp.en_US.JRh4tN6N9QQ.O/m\\x3dsb_he,d/am\\x3dAHgCLA/d\\x3d1/ed\\x3d1/rs\\x3dACT90oGq1Ln_99CJXORDJChcIkowqosPIA';})();function _DumpException(e){throw e;}\n",
            "function _F_installCss(c){}\n",
            "(function(){google.jl={attn:false,blt:'none',dw:false,emtn:0,ine:false,lls:'default',pdt:0,snet:true,ubm:false,uwp:true};})();(function(){var pmc='{\\x22d\\x22:{},\\x22sb_he\\x22:{\\x22agen\\x22:false,\\x22cgen\\x22:false,\\x22client\\x22:\\x22heirloom-hp\\x22,\\x22dh\\x22:true,\\x22dhqt\\x22:true,\\x22ds\\x22:\\x22\\x22,\\x22ffql\\x22:\\x22en\\x22,\\x22fl\\x22:true,\\x22host\\x22:\\x22google.com\\x22,\\x22isbh\\x22:28,\\x22jsonp\\x22:true,\\x22msgs\\x22:{\\x22cibl\\x22:\\x22Clear Search\\x22,\\x22dym\\x22:\\x22Did you mean:\\x22,\\x22lcky\\x22:\\x22I\\\\u0026#39;m Feeling Lucky\\x22,\\x22lml\\x22:\\x22Learn more\\x22,\\x22oskt\\x22:\\x22Input tools\\x22,\\x22psrc\\x22:\\x22This search was removed from your \\\\u003Ca href\\x3d\\\\\\x22/history\\\\\\x22\\\\u003EWeb History\\\\u003C/a\\\\u003E\\x22,\\x22psrl\\x22:\\x22Remove\\x22,\\x22sbit\\x22:\\x22Search by image\\x22,\\x22srch\\x22:\\x22Google Search\\x22},\\x22nrft\\x22:false,\\x22ovr\\x22:{},\\x22pq\\x22:\\x22\\x22,\\x22refpd\\x22:true,\\x22rfs\\x22:[],\\x22sbas\\x22:\\x220 3px 8px 0 rgba(0,0,0,0.2),0 0 0 1px rgba(0,0,0,0.08)\\x22,\\x22sbpl\\x22:16,\\x22sbpr\\x22:16,\\x22scd\\x22:10,\\x22stok\\x22:\\x22LpEpVhi_2iNAPNn2vRjfe3dNoXE\\x22,\\x22uhde\\x22:false}}';google.pmc=JSON.parse(pmc);})();</script>        </body></html>\n"
          ],
          "name": "stdout"
        }
      ]
    },
    {
      "cell_type": "markdown",
      "metadata": {
        "id": "NZ4ZhFV8Tq4-"
      },
      "source": [
        ""
      ]
    },
    {
      "cell_type": "code",
      "metadata": {
        "colab": {
          "base_uri": "https://localhost:8080/"
        },
        "id": "KRoFzNIJT4Q1",
        "outputId": "0882c7ce-3569-4028-b8b2-22b1411ae18e"
      },
      "source": [
        "from flask import Flask,render_template\n",
        "app=Flask(__name__)\n",
        "print(app)\n",
        "@app.route(\"/\")\n",
        "\n",
        "def main():\n",
        "  return render_template('login.html')\n",
        "\n",
        "if __name__== \"__main__\":\n",
        "  app.run(host=\"127.0.0.1\",port=2500)"
      ],
      "execution_count": null,
      "outputs": [
        {
          "output_type": "stream",
          "text": [
            "<Flask '__main__'>\n",
            " * Serving Flask app \"__main__\" (lazy loading)\n",
            " * Environment: production\n",
            "\u001b[31m   WARNING: This is a development server. Do not use it in a production deployment.\u001b[0m\n",
            "\u001b[2m   Use a production WSGI server instead.\u001b[0m\n",
            " * Debug mode: off\n"
          ],
          "name": "stdout"
        },
        {
          "output_type": "stream",
          "text": [
            " * Running on http://127.0.0.1:2500/ (Press CTRL+C to quit)\n"
          ],
          "name": "stderr"
        }
      ]
    },
    {
      "cell_type": "markdown",
      "metadata": {
        "id": "6fxtIpXVVezd"
      },
      "source": [
        "Exercise 13:\n",
        "i) class variable instance variable and illustrate of the self-variable"
      ]
    },
    {
      "cell_type": "code",
      "metadata": {
        "colab": {
          "base_uri": "https://localhost:8080/"
        },
        "id": "9fm0eja6VxVe",
        "outputId": "d9f89535-1607-4000-c8bd-d89be1984749"
      },
      "source": [
        "class Robot:\n",
        "  what=\"Machine\"\n",
        "  name=\"Chitti\" \n",
        "  version=1.0\n",
        "  speed=\"1THz\"\n",
        "  memory=\"1ZB\"\n",
        "  def update(upd):\n",
        "    upd.version=2.0\n",
        "    upd.speed=\"2THz\"\n",
        "    upd.memory=\"2ZB\"\n",
        "  def disp(self):\n",
        "    print(\"Myself is a\",robj.what)\n",
        "    print(\"MyName is a\",robj.name)\n",
        "    print(\"Speed: \",robj.speed)\n",
        "    print(\"Memory: \",robj.memory)\n",
        "    print(\"Version :\",robj.version)\n",
        "\n",
        "robj=Robot()\n",
        "robj.disp()\n",
        "\n",
        "print(\"------Update-----\")\n",
        "\n",
        "robj.update()\n",
        "\n",
        "robj.disp()"
      ],
      "execution_count": null,
      "outputs": [
        {
          "output_type": "stream",
          "text": [
            "Myself is a Machine\n",
            "MyName is a Chitti\n",
            "Speed:  1THz\n",
            "Memory:  1ZB\n",
            "Version : 1.0\n",
            "------Update-----\n",
            "Myself is a Machine\n",
            "MyName is a Chitti\n",
            "Speed:  2THz\n",
            "Memory:  2ZB\n",
            "Version : 2.0\n"
          ],
          "name": "stdout"
        }
      ]
    },
    {
      "cell_type": "markdown",
      "metadata": {
        "id": "I_HFltfWUuVA"
      },
      "source": [
        "ii) ATM Machine"
      ]
    },
    {
      "cell_type": "code",
      "metadata": {
        "id": "Kv2QtyAvXlhp",
        "colab": {
          "base_uri": "https://localhost:8080/"
        },
        "outputId": "2b47c90c-01e7-4c54-bd97-840bf6430b30"
      },
      "source": [
        "class ATM:\n",
        "  balance=0\n",
        "    \n",
        "  def enquire(self): \n",
        "    print(\"Balance: \",self.balance)\n",
        "  def deposit(self):\n",
        "    amount=int(input(\"Enter the Deposit Amount:\"))\n",
        "    self.balance+=amount\n",
        "    self.enquire()\n",
        "  def withdraw(self):\n",
        "    amount=int(input(\"Enter the Withdraw Amount: \"))\n",
        "    if self.balance<amount:\n",
        "      print(\"Insufficient Balance.....!\")\n",
        "    else:\n",
        "      self.balance-=amount\n",
        "      self.enquire()\n",
        "\n",
        "\n",
        "aobj=ATM()\n",
        "while(True):\n",
        "  print(\"*****Menu****\")\n",
        "  print(\"1.Deposit\")\n",
        "  print(\"2.Withdarw\")\n",
        "  print(\"3.Balance\")\n",
        "  print(\"0.Exit\")\n",
        "  ch=int(input(\"Enter Your Choice: \"))\n",
        "  if ch==0:\n",
        "    break\n",
        "  elif ch==1:\n",
        "    aobj.deposit()\n",
        "  elif ch==2:\n",
        "    aobj.withdraw()\n",
        "  elif ch==3:\n",
        "    aobj.enquire()\n",
        "  else:\n",
        "    print(\"Invalid choice:\")\n",
        "    pass"
      ],
      "execution_count": 2,
      "outputs": [
        {
          "output_type": "stream",
          "text": [
            "*****Menu****\n",
            "1.Deposit\n",
            "2.Withdarw\n",
            "3.Balance\n",
            "0.Exit\n",
            "Enter Your Choice: 1\n",
            "Enter the Deposit Amount:1000\n",
            "Balance:  1000\n",
            "*****Menu****\n",
            "1.Deposit\n",
            "2.Withdarw\n",
            "3.Balance\n",
            "0.Exit\n",
            "Enter Your Choice: 2\n",
            "Enter the Withdraw Amount: 500\n",
            "Balance:  500\n",
            "*****Menu****\n",
            "1.Deposit\n",
            "2.Withdarw\n",
            "3.Balance\n",
            "0.Exit\n",
            "Enter Your Choice: 3\n",
            "Balance:  500\n",
            "*****Menu****\n",
            "1.Deposit\n",
            "2.Withdarw\n",
            "3.Balance\n",
            "0.Exit\n",
            "Enter Your Choice: 0\n"
          ],
          "name": "stdout"
        }
      ]
    }
  ]
}