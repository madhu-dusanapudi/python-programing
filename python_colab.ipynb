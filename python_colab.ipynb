{
  "nbformat": 4,
  "nbformat_minor": 0,
  "metadata": {
    "colab": {
      "name": "Python lab.ipynb",
      "provenance": [],
      "collapsed_sections": [],
      "authorship_tag": "ABX9TyM1mxvCExmShRp+UGj/htPr",
      "include_colab_link": true
    },
    "kernelspec": {
      "name": "python3",
      "display_name": "Python 3"
    },
    "language_info": {
      "name": "python"
    }
  },
  "cells": [
    {
      "cell_type": "markdown",
      "metadata": {
        "id": "view-in-github",
        "colab_type": "text"
      },
      "source": [
        "<a href=\"https://colab.research.google.com/github/madhu-dusanapudi/python-programing/blob/main/python_colab.ipynb\" target=\"_parent\"><img src=\"https://colab.research.google.com/assets/colab-badge.svg\" alt=\"Open In Colab\"/></a>"
      ]
    },
    {
      "cell_type": "markdown",
      "metadata": {
        "id": "CscjWxuBFp7P"
      },
      "source": [
        "Name:D.V.S.madhu varma\n",
        "Regno:20A25A0504\n",
        "section-CSE-A"
      ]
    },
    {
      "cell_type": "markdown",
      "metadata": {
        "id": "Z0Ih86DxE8ne"
      },
      "source": [
        "**AIM**:\n",
        "a)Running instructions in interactive interpreter and a python script\n",
        "**DESCRIPTION**:\n",
        "Python is a high-level, interpreted, interactive and object-oriented scripting language. Python is\n",
        "designed to be highly readable. It uses English keywords frequently where as other languages\n",
        "use punctuation, and it has fewer syntactical constructions than other languages.\n",
        "Python is Interpreted\n",
        "\n",
        "Python is Interactive\n",
        "Python is Object-Oriented\n",
        "Python is a Beginner's Language\n",
        "Python Programming Running Python Scripts\n",
        "Running Python in THREE ways:\n",
        "a) Running Python Interpreter\n",
        "b) Running Python Scripts in IDLE\n",
        "c) Running python scripts in Command Prompt\n",
        "a) Running Python Interpreter: Python comes with an interactive interpreter. When you type\n",
        "python in your shell or command prompt, the python interpreter becomes active with a >>>\n",
        "prompt and waits for your commands\n",
        "b) Running Python Scripts in IDLE: . Go to File menu click on New File (CTRL+N) and write the\n",
        "code and save first.py\n",
        "c) Running python scripts in Command Prompt: ** **bold text · Before going to run we have to\n",
        "check the PATH in environment variables."
      ]
    },
    {
      "cell_type": "code",
      "metadata": {
        "colab": {
          "base_uri": "https://localhost:8080/"
        },
        "id": "T198rE-MFb4R",
        "outputId": "1a1df6fb-a877-4ea6-b11e-b47622f29558"
      },
      "source": [
        "print(\"Hello, Madhu\")"
      ],
      "execution_count": null,
      "outputs": [
        {
          "output_type": "stream",
          "text": [
            "Hello, Madhu\n"
          ],
          "name": "stdout"
        }
      ]
    },
    {
      "cell_type": "markdown",
      "metadata": {
        "id": "kDdTIC5G8bQE"
      },
      "source": [
        "**AIM**:\n",
        "b)Write a program to purposefully raise Indentation Error and Correct it\n",
        "**DESCRIPTION**:\n",
        "Indentation\n",
        "Python does not support braces to indicate blocks of code for class and function\n",
        "definitions or flow control.\n",
        "Blocks of code are denoted by line indentation.\n",
        "All the continuous lines indented with same number of spaces would form a block.\n",
        "Python strictly follow indentation rules to indicate the blocks."
      ]
    },
    {
      "cell_type": "code",
      "metadata": {
        "colab": {
          "base_uri": "https://localhost:8080/",
          "height": 129
        },
        "id": "SJfpeyi88nvZ",
        "outputId": "9cd96ecf-fe6c-4297-be41-d334122b6c19"
      },
      "source": [
        "if True:\n",
        "print(\"True\");\n",
        "else:\n",
        "print(\"false\");"
      ],
      "execution_count": 1,
      "outputs": [
        {
          "output_type": "error",
          "ename": "IndentationError",
          "evalue": "ignored",
          "traceback": [
            "\u001b[0;36m  File \u001b[0;32m\"<ipython-input-1-4502fa0e4835>\"\u001b[0;36m, line \u001b[0;32m2\u001b[0m\n\u001b[0;31m    print(\"True\");\u001b[0m\n\u001b[0m        ^\u001b[0m\n\u001b[0;31mIndentationError\u001b[0m\u001b[0;31m:\u001b[0m expected an indented block\n"
          ]
        }
      ]
    },
    {
      "cell_type": "markdown",
      "metadata": {
        "id": "gZgAZ1e68zz3"
      },
      "source": [
        "Correct program"
      ]
    },
    {
      "cell_type": "code",
      "metadata": {
        "colab": {
          "base_uri": "https://localhost:8080/"
        },
        "id": "zDdT1uxb83Ql",
        "outputId": "cc9402dc-18d1-4b76-ba1c-de29099ff797"
      },
      "source": [
        "if True:\n",
        "  print(\"True\");\n",
        "else:\n",
        "  print(\"false\");"
      ],
      "execution_count": 2,
      "outputs": [
        {
          "output_type": "stream",
          "name": "stdout",
          "text": [
            "True\n"
          ]
        }
      ]
    },
    {
      "cell_type": "markdown",
      "metadata": {
        "id": "YxSAEkexs351"
      },
      "source": [
        "exercise:2\n",
        "**AIM**:\n",
        "a) write a program to compute distance between 2 points by taking inputs\n",
        "**DESCRIPTION**:\n",
        "\n",
        "Taking Input From the User: A function is defined as a block of organized, reusable code used to\n",
        "perform a single, related action. Python has many built-in functions; you can also create your\n",
        "own.\n",
        "Python has an input function which lets you ask a user for some text input. You call this function\n",
        "to tell the program to stop and wait for the user to key in the data.\n",
        "In Python 2, you have a built-in function raw_input(), whereas in Python 3, you have input(). The\n",
        "program will resume once the user presses the ENTER or RETURN key.\n",
        "Input Function\n",
        "input(prompt=None,/).\n",
        "Read a string from standard input. The trailing newline is stripped.\n",
        "The prompt string, if given, is printed to standard output without a trailing newline before reading\n",
        "input.\n",
        "If the user hits EOF (*nix: Ctrl-D, Windows: Ctrl Z+Return), raise EOFError.\n"
      ]
    },
    {
      "cell_type": "code",
      "metadata": {
        "colab": {
          "base_uri": "https://localhost:8080/"
        },
        "id": "8DCqsKcYs5dh",
        "outputId": "c4f16c67-7ee1-4a8b-e49e-07cc4da231b4"
      },
      "source": [
        "import math\n",
        "x1=int(input(\"enter x1 value:\"))\n",
        "x2=int(input(\"enter x2 value:\"))\n",
        "y1=int(input(\"enter y1 value:\"))\n",
        "y2=int(input(\"enter y2 value:\"))\n",
        "d=math.sqrt(((x2-x1)**2)+((y2-y1)**2))\n",
        "print(\"distanse of two points:\",d)"
      ],
      "execution_count": null,
      "outputs": [
        {
          "output_type": "stream",
          "text": [
            "enter x1 value:10\n",
            "enter x2 value:5\n",
            "enter y1 value:8\n",
            "enter y2 value:6\n",
            "distanse of two points: 5.385164807134504\n"
          ],
          "name": "stdout"
        }
      ]
    },
    {
      "cell_type": "markdown",
      "metadata": {
        "id": "3goP4x0_9kj9"
      },
      "source": [
        "**AIM**:\n",
        "b) Write a program add.py that takes 2 numbers as command line arguments and prints its sum\n",
        "**DESCRIPTION**:\n",
        "The arguments that are given after the name of the program in the command line shell of\n",
        "the operating system are known as Command Line Arguments. Python provides various\n",
        "ways of dealing with these types of arguments. The three most common are:\n",
        "Using sys.argv\n",
        "Using getopt module\n",
        "Using argparse module\n",
        "Using sys.argv\n",
        "The sys module provides functions and variables used to manipulate different parts of the\n",
        "Python runtime environment. This module provides access to some variables used or\n",
        "maintained by the interpreter and to functions that interact strongly with the interpreter.\n",
        "One such variable is sys.argv which is a simple list structure. It’s main purpose are:\n",
        "It is a list of command line arguments.\n",
        "len(sys.argv) provides the number of command line arguments.\n",
        "sys.argv[0] is the name of the current Python script."
      ]
    },
    {
      "cell_type": "code",
      "metadata": {
        "colab": {
          "base_uri": "https://localhost:8080/",
          "height": 231
        },
        "id": "ddf74Qc39Qhg",
        "outputId": "590fc217-4d60-4cb2-b785-ead9971340f9"
      },
      "source": [
        "import sys\n",
        "x=int(sys.argv[1])\n",
        "y=int(sys.argv[2])\n",
        "sum=x+y\n",
        "print(\"The addition is :\",sum)"
      ],
      "execution_count": 4,
      "outputs": [
        {
          "output_type": "error",
          "ename": "ValueError",
          "evalue": "ignored",
          "traceback": [
            "\u001b[0;31m---------------------------------------------------------------------------\u001b[0m",
            "\u001b[0;31mValueError\u001b[0m                                Traceback (most recent call last)",
            "\u001b[0;32m<ipython-input-4-bb7f8e7f5297>\u001b[0m in \u001b[0;36m<module>\u001b[0;34m()\u001b[0m\n\u001b[1;32m      1\u001b[0m \u001b[0;32mimport\u001b[0m \u001b[0msys\u001b[0m\u001b[0;34m\u001b[0m\u001b[0;34m\u001b[0m\u001b[0m\n\u001b[0;32m----> 2\u001b[0;31m \u001b[0mx\u001b[0m\u001b[0;34m=\u001b[0m\u001b[0mint\u001b[0m\u001b[0;34m(\u001b[0m\u001b[0msys\u001b[0m\u001b[0;34m.\u001b[0m\u001b[0margv\u001b[0m\u001b[0;34m[\u001b[0m\u001b[0;36m1\u001b[0m\u001b[0;34m]\u001b[0m\u001b[0;34m)\u001b[0m\u001b[0;34m\u001b[0m\u001b[0;34m\u001b[0m\u001b[0m\n\u001b[0m\u001b[1;32m      3\u001b[0m \u001b[0my\u001b[0m\u001b[0;34m=\u001b[0m\u001b[0mint\u001b[0m\u001b[0;34m(\u001b[0m\u001b[0msys\u001b[0m\u001b[0;34m.\u001b[0m\u001b[0margv\u001b[0m\u001b[0;34m[\u001b[0m\u001b[0;36m2\u001b[0m\u001b[0;34m]\u001b[0m\u001b[0;34m)\u001b[0m\u001b[0;34m\u001b[0m\u001b[0;34m\u001b[0m\u001b[0m\n\u001b[1;32m      4\u001b[0m \u001b[0msum\u001b[0m\u001b[0;34m=\u001b[0m\u001b[0mx\u001b[0m\u001b[0;34m+\u001b[0m\u001b[0my\u001b[0m\u001b[0;34m\u001b[0m\u001b[0;34m\u001b[0m\u001b[0m\n\u001b[1;32m      5\u001b[0m \u001b[0mprint\u001b[0m\u001b[0;34m(\u001b[0m\u001b[0;34m\"The addition is :\"\u001b[0m\u001b[0;34m,\u001b[0m\u001b[0msum\u001b[0m\u001b[0;34m)\u001b[0m\u001b[0;34m\u001b[0m\u001b[0;34m\u001b[0m\u001b[0m\n",
            "\u001b[0;31mValueError\u001b[0m: invalid literal for int() with base 10: '-f'"
          ]
        }
      ]
    },
    {
      "cell_type": "markdown",
      "metadata": {
        "id": "FTIZMjkLAJwm"
      },
      "source": [
        "exercise 3:\n",
        "**AIM**:\n",
        "a) write a program to find the given number is even or odd\n",
        "**DESCRIPTION**:\n",
        "if..else Statement When there is an alternate operation in control flow, use an else statement\n",
        "alongside with if statement"
      ]
    },
    {
      "cell_type": "code",
      "metadata": {
        "colab": {
          "base_uri": "https://localhost:8080/"
        },
        "id": "_dkENehWufjc",
        "outputId": "efe07a51-0083-428f-e680-8d3aad433956"
      },
      "source": [
        "n=int(input(\"enter a number:\"))\n",
        "if(n%2==0):\n",
        "  print(\"given number is even\")\n",
        "else:\n",
        "  print(\"given number is odd\")"
      ],
      "execution_count": null,
      "outputs": [
        {
          "output_type": "stream",
          "text": [
            "enter a number:4\n",
            "given number is even\n"
          ],
          "name": "stdout"
        }
      ]
    },
    {
      "cell_type": "markdown",
      "metadata": {
        "id": "Hk4qGDZLF6WV"
      },
      "source": [
        "**AIM**:\n",
        "b) Using a for loop, write a program that prints out the decimal equivalents of 1/2, 1/3, 1/4, . .\n",
        ".1/10\n",
        "**DESCRIPTION**\n",
        "For Loop: For loops can iterate over a sequence of numbers using the \"range\" and \"xrange\"\n",
        "functions. The difference between range and xrange is that the range function returns a new list\n",
        "with numbers of that specified range, whereas xrange returns an iterator, which is more eficient.\n",
        "The general format is\n",
        "for x in range(start,stop,step):\n",
        "statements"
      ]
    },
    {
      "cell_type": "code",
      "metadata": {
        "colab": {
          "base_uri": "https://localhost:8080/"
        },
        "id": "lqOBTx5bF6xa",
        "outputId": "c68be7b8-ac8f-45bb-ed37-2d3d7f23e6cd"
      },
      "source": [
        "n=int(input(\"enter a number:\"))\n",
        "for i in range(1,n):\n",
        "  d=1/i\n",
        "  print(\"1/\",i,\"=\",d)\n"
      ],
      "execution_count": null,
      "outputs": [
        {
          "output_type": "stream",
          "text": [
            "enter a number:5\n",
            "1/ 1 = 1.0\n",
            "1/ 2 = 0.5\n",
            "1/ 3 = 0.3333333333333333\n",
            "1/ 4 = 0.25\n"
          ],
          "name": "stdout"
        }
      ]
    },
    {
      "cell_type": "markdown",
      "metadata": {
        "id": "W-jqTv_WG4o5"
      },
      "source": [
        "**AIM**:\n",
        "c) Write a program using a for loop that loops over a sequence. What is sequence?\n",
        "**DESCRIPTION**:\n",
        "For Loop: For loops can iterate over a sequence of numbers using the \"range\" and \"xrange\"\n",
        "functions. The difference between range and xrange is that the range function returns a new list\n",
        "with numbers of that specified range, whereas xrange returns an iterator, which is more eficient.\n",
        "The general format is\n",
        "for x in range(start,stop,step):\n",
        "statements"
      ]
    },
    {
      "cell_type": "code",
      "metadata": {
        "colab": {
          "base_uri": "https://localhost:8080/"
        },
        "id": "esFIrGKBG-FO",
        "outputId": "e0fe5e81-e5ca-46d8-feb2-f2b834e2345d"
      },
      "source": [
        "arr=[4,\"abc\",-45,'C',10.5,True,5,106,\"xyz\"]\n",
        "print(\"Given Array: \",arr)\n",
        "\n",
        "for x in arr:\n",
        "  print(x)"
      ],
      "execution_count": null,
      "outputs": [
        {
          "output_type": "stream",
          "text": [
            "Given Array:  [4, 'abc', -45, 'C', 10.5, True, 5, 106, 'xyz']\n",
            "4\n",
            "abc\n",
            "-45\n",
            "C\n",
            "10.5\n",
            "True\n",
            "5\n",
            "106\n",
            "xyz\n"
          ],
          "name": "stdout"
        }
      ]
    },
    {
      "cell_type": "markdown",
      "metadata": {
        "id": "Y5Jtb5z6HqL_"
      },
      "source": [
        "**AIM**:\n",
        "D) Write a program using a while loop that asks the user for a number, and prints a\n",
        "countdownfrom that number to zero.\n",
        "**DESCRIPTION**:\n",
        "While Loop is used to execute a block of statements repeatedly until a given condition is\n",
        "satisfied. And when the condition becomes false, the line immediately after the loop in the\n",
        "program is executed. While loop falls under the category of indefinite iteration\n",
        "The syntax for a while loop is:\n",
        "while [ condition]"
      ]
    },
    {
      "cell_type": "code",
      "metadata": {
        "colab": {
          "base_uri": "https://localhost:8080/"
        },
        "id": "yxE2c6tFHuFl",
        "outputId": "d501a8cb-9da2-4d8d-b28e-6989167b7470"
      },
      "source": [
        "n=int(input(\"Enter value of n:\"))\n",
        "\n",
        "while n>=0:\n",
        "  print(n)\n",
        "  n-=1"
      ],
      "execution_count": null,
      "outputs": [
        {
          "output_type": "stream",
          "text": [
            "Enter value of n:7\n",
            "7\n",
            "6\n",
            "5\n",
            "4\n",
            "3\n",
            "2\n",
            "1\n",
            "0\n"
          ],
          "name": "stdout"
        }
      ]
    },
    {
      "cell_type": "markdown",
      "metadata": {
        "id": "PK_84FmsIAR5"
      },
      "source": [
        "exercise 4:\n",
        "**AIM**:\n",
        "a) Find the sum of all the primes below two million. Each new term in the Fibonacci sequence is\n",
        "generated by adding the previous two terms. Bystarting with 1 and 2, the first 10 terms will be: 1,\n",
        "2, 3, 5, 8, 13, 21, 34, 55, 89, ...\n",
        "**DESCRIPTION**:\n",
        "A Fibonacci sequence is the integer sequence of 0, 1, 1, 2, 3, 5, 8....\n",
        "The first two terms are 0 and 1. All other terms are obtained by adding the preceding two terms.\n",
        "This means to say the nth term is the sum of (n-1)th and (n-2)th term\n",
        "Here, we store the number of terms in nterms. We initialize the first term to 0 and the second\n",
        "term to 1.\n",
        "If the number of terms is more than 2, we use a while loop to find the next term in the sequence\n",
        "by adding the preceding two terms. We then interchange the variables (update it) and continue\n",
        "on with the process."
      ]
    },
    {
      "cell_type": "code",
      "metadata": {
        "colab": {
          "base_uri": "https://localhost:8080/"
        },
        "id": "BmP-EoykILyK",
        "outputId": "5938e131-207c-4c91-dcdf-ab32e256a7e4"
      },
      "source": [
        "#sum of all the primes of given number below \n",
        "n=int(input(\"Enter an Ending Number: \"))\n",
        "st=\"\"\n",
        "sum=0\n",
        "\n",
        "for i in range(2,n):\n",
        "  state=True\n",
        "  for j in range(2,i):\n",
        "    if(i%j)==0:\n",
        "      state=False\n",
        "      break;\n",
        "      \n",
        "  if state==True:\n",
        "    st+=\" \"+str(i)\n",
        "    sum+=i\n",
        "\n",
        "print(\"Prime Numbers: \")\n",
        "\n",
        "print(st)\n",
        "\n",
        "print(\"Sum of the prime Numbers: \",sum)"
      ],
      "execution_count": null,
      "outputs": [
        {
          "output_type": "stream",
          "text": [
            "Enter an Ending Number: 100\n",
            "Prime Numbers: \n",
            " 2 3 5 7 11 13 17 19 23 29 31 37 41 43 47 53 59 61 67 71 73 79 83 89 97\n",
            "Sum of the prime Numbers:  1060\n"
          ],
          "name": "stdout"
        }
      ]
    },
    {
      "cell_type": "markdown",
      "metadata": {
        "id": "FPG2Wt8dJe-v"
      },
      "source": [
        "**AIM**:\n",
        "b) Each new term in the Fibonacci sequence is generated by adding the previous two terms. By starting with 1 and 2, the first 10 terms will be: 1, 2, 3, 5, 8, 13, 21, 34, 55,89"
      ]
    },
    {
      "cell_type": "code",
      "metadata": {
        "colab": {
          "base_uri": "https://localhost:8080/"
        },
        "id": "_VYGvh3uJlh_",
        "outputId": "dcf55e19-748e-4619-8351-b56b34831a38"
      },
      "source": [
        "#Fibonacci Series\n",
        "\n",
        "n=int (input(\"Enter value of n: \"))\n",
        "\n",
        "a=0\n",
        "b=1\n",
        "c=a+b\n",
        "\n",
        "while c<n:\n",
        "   print(c,end=' ')\n",
        "   a=b\n",
        "   b=c\n",
        "   c=a+b"
      ],
      "execution_count": null,
      "outputs": [
        {
          "output_type": "stream",
          "text": [
            "Enter value of n: 1000\n",
            "1 2 3 5 8 13 21 34 55 89 144 233 377 610 987 "
          ],
          "name": "stdout"
        }
      ]
    },
    {
      "cell_type": "markdown",
      "metadata": {
        "id": "ainQweoPKvg_"
      },
      "source": [
        "**AIM**:\n",
        "c) By considering the terms in the Fibonacci sequence whose values do not exceed\n",
        "\n",
        "million, find the sum of the even-valued terms.\n",
        "**DESCRIPTION**:\n",
        "A Fibonacci sequence is the integer sequence of 0, 1, 1, 2, 3, 5, 8....\n",
        "The first two terms are 0 and 1. All other terms are obtained by adding the preceding two terms.\n",
        "This means to say the nth term is the sum of (n-1)th and (n-2)th term\n",
        "Here, we store the number of terms in nterms. We initialize the first term to 0 and the second\n",
        "term to 1.\n",
        "If the number of terms is more than 2, we use a while loop to find the next term in the sequence\n",
        "by adding the preceding two terms. We then interchange the variables (update it) and continue\n",
        "on with the process."
      ]
    },
    {
      "cell_type": "code",
      "metadata": {
        "colab": {
          "base_uri": "https://localhost:8080/"
        },
        "id": "05AJF71iKyBz",
        "outputId": "7aac7b58-8cd8-4b9c-9bfa-b4f61d975590"
      },
      "source": [
        "n=int (input(\"Enter value of n: \"))\n",
        "a=0\n",
        "b=1\n",
        "\n",
        "c=a+b\n",
        "\n",
        "sum=0\n",
        "\n",
        "print(\"Even numbers in Fibonacci series: \")\n",
        "\n",
        "while c<=n: \n",
        "  if c%2==0:\n",
        "    print(c,end=' ') \n",
        "    sum+=c\n",
        "  a=b\n",
        "  b=c\n",
        "  c=a+b\n",
        "\n",
        "print(\"sum of Fibonacci Series is: \",sum)"
      ],
      "execution_count": null,
      "outputs": [
        {
          "output_type": "stream",
          "text": [
            "Enter value of n: 4000000\n",
            "Even numbers in Fibonacci series: \n",
            "2 8 34 144 610 2584 10946 46368 196418 832040 3524578 sum of Fibonacci Series is:  4613732\n"
          ],
          "name": "stdout"
        }
      ]
    },
    {
      "cell_type": "markdown",
      "metadata": {
        "id": "sYzM0NFbL-KM"
      },
      "source": [
        "exercise 5:\n",
        "**AIM**:\n",
        "a) Write a program to count the numbers of characters in the string and store them in\n",
        "adictionary data structure\n",
        "**DESCRIPTION**:\n",
        "Given a string, the task is to find the frequencies of all the characters in that string and return a\n",
        "dictionary with key as the character and its value as its frequency in the given string.\n",
        "Method #1 : Naive method\n",
        "Simply iterate through the string and form a key in dictionary of newly occurred element or if\n",
        "element is already occurred, increase its value by 1.\n",
        "Method #2 : Using collections.Counter()\n",
        "The most suggested method that could be used to find all occurrences is this method, this\n",
        "actually gets all element frequency and could also be used to print single element frequency if\n",
        "required."
      ]
    },
    {
      "cell_type": "code",
      "metadata": {
        "colab": {
          "base_uri": "https://localhost:8080/"
        },
        "id": "5Sp4Wb3HMH6C",
        "outputId": "3d079b6c-c0fc-46e8-f562-8bef21421dfc"
      },
      "source": [
        "name=input(\"Enter a Name: \")\n",
        "\n",
        "dic= {}\n",
        "\n",
        "for ch in name:\n",
        "   keys=dic.keys()\n",
        "   if (ch in keys):\n",
        "     dic[ch]=dic[ch]+1\n",
        "   else:\n",
        "     dic[ch]=1\n",
        "print(\"Dictionary is \",dic)"
      ],
      "execution_count": null,
      "outputs": [
        {
          "output_type": "stream",
          "text": [
            "Enter a Name: madhuvarma\n",
            "Dictionary is  {'m': 2, 'a': 3, 'd': 1, 'h': 1, 'u': 1, 'v': 1, 'r': 1}\n"
          ],
          "name": "stdout"
        }
      ]
    },
    {
      "cell_type": "markdown",
      "metadata": {
        "id": "LkSfZJiXNRyq"
      },
      "source": [
        "**AIM**:\n",
        "b) Write a program to use split and join methods in the string and trace a birthday with a dictionary data structure.\n",
        "\n",
        "**DESCRIPTION**:\n",
        "Python program to Split a string based on a delimiter and join the string using another delimiter.\n",
        "Split a string can be quite useful sometimes, especially when you need only certain parts of\n",
        "strings. A simple yet effective example is splitting the First-name and Last-name of a person.\n",
        "Another application is CSV(Comma Separated Files). We use split to get data from CSV and join\n",
        "to write data to CSV.\n",
        "In Python, we can use the function split() to split a string and\n",
        "join() to join a string.\n",
        "\n"
      ]
    },
    {
      "cell_type": "code",
      "metadata": {
        "colab": {
          "base_uri": "https://localhost:8080/"
        },
        "id": "FuyB3YrZNVpl",
        "outputId": "6e5f937d-0945-4b91-b6b6-7962cbcc8311"
      },
      "source": [
        "dob={\"madhu\":\"01-Jan-2002\",\"Varma\":\"15-05-2000\"}\n",
        "\n",
        "name=input(\"Which person DOB you want: \")\n",
        "\n",
        "I=name.split()\n",
        "\n",
        "birth=\"\"\n",
        "\n",
        "for i in dob:\n",
        "  if i in dob.keys():\n",
        "    pers=i\n",
        "\n",
        "print(\" \".join([pers,\"Birthday is\",dob[pers]]))"
      ],
      "execution_count": null,
      "outputs": [
        {
          "output_type": "stream",
          "text": [
            "Which person DOB you want: madhu\n",
            "Varma Birthday is 15-05-2000\n"
          ],
          "name": "stdout"
        }
      ]
    },
    {
      "cell_type": "markdown",
      "metadata": {
        "id": "s40kZwyuOgy0"
      },
      "source": [
        "Exercise 6:\n",
        "**AIM**:\n",
        "a) Write a program combine lists that combines these lists into a dictionary.\n",
        "\n",
        "**DESCRIPTION**:\n",
        "For this, simply declare a dictionary, and then run nested loop for both the lists and assign key\n",
        "and value pairs to from list values to dictionary.\n",
        "Most pythonic and generic method to perform this very task is by using zip(). This function pairs\n",
        "the list element with other list element at corresponding index in form of key-value pairs."
      ]
    },
    {
      "cell_type": "code",
      "metadata": {
        "colab": {
          "base_uri": "https://localhost:8080/"
        },
        "id": "9fGWjS8TO2b6",
        "outputId": "f0a99a34-b4d5-4744-f15e-6fd72e7a1ca6"
      },
      "source": [
        "subj=[\"DAA\",\"OS\",\"DBMS\",\"P&S\",\"PPL\",\"SE\"]\n",
        "\n",
        "marks=[185,96,78,68,98,56]\n",
        "\n",
        "print(\"Given Lists are: \") \n",
        "print(\"Subject Names: \",subj)\n",
        "print(\" Mark values: \",marks)\n",
        "\n",
        "dic=dict(zip(subj,marks))\n",
        "print(\"\\n Dictionary: \",dic)"
      ],
      "execution_count": null,
      "outputs": [
        {
          "output_type": "stream",
          "text": [
            "Given Lists are: \n",
            "Subject Names:  ['DAA', 'OS', 'DBMS', 'P&S', 'PPL', 'SE']\n",
            " Mark values:  [185, 96, 78, 68, 98, 56]\n",
            "\n",
            " Dictionary:  {'DAA': 185, 'OS': 96, 'DBMS': 78, 'P&S': 68, 'PPL': 98, 'SE': 56}\n"
          ],
          "name": "stdout"
        }
      ]
    },
    {
      "cell_type": "markdown",
      "metadata": {
        "id": "kmHSxpF7Pa6G"
      },
      "source": [
        "**AIM**:\n",
        "b) Write a program to count frequency of characters in a given file. Can you\n",
        "use character frequency to tell wheather the given file is a Python program file, C program file or a text file?\n",
        "**DESCRIPTION**:\n",
        "approaches to count the number of times a letter appears in a text file in Python.\n",
        "Method 1: Using the in-built count() method.\n",
        "Approach:\n",
        "1. Read the file.\n",
        "2. Store the content of the file in a variable.\n",
        "3. Use the count() method with the argument as a letter whose frequency is required.\n",
        "4. Display the count of the letter."
      ]
    },
    {
      "cell_type": "code",
      "metadata": {
        "id": "MMJH_ObdPcZp"
      },
      "source": [
        "filetypes=['.py','.c','.txt']\n",
        "\n",
        "fn=input(\"Enter the file name: \") \n",
        "f=open(fn,\"r\") \n",
        "count=dict()\n",
        "\n",
        "print(\"Given file is \",end=\"\") \n",
        "for ft in filetypes: \n",
        "  if(ft in fn):\n",
        "    if(ft=='.py'):\n",
        "      print(\"Python File\")\n",
        "    elif(ft=='.c'):\n",
        "      print(\"C File\")\n",
        "    elif(ft=='.txt'):\n",
        "      print(\"Text File\")\n",
        "\n",
        "for line in f:\n",
        "  for ch in line:\n",
        "    if ch in count:\n",
        "      count[ch]=count[ch]+1\n",
        "    else:\n",
        "      count[ch]=1\n",
        "\n",
        "print(count)\n",
        "\n",
        "f.close()"
      ],
      "execution_count": null,
      "outputs": []
    },
    {
      "cell_type": "markdown",
      "metadata": {
        "id": "3Asw00XVRj1-"
      },
      "source": [
        "exercise-7:\n",
        "**AIM**:\n",
        "a) Write a program to print each line of a file in reverse order.\n",
        "**DESCRIPTION**:\n",
        "The file handling plays an important role when the data needs to be stored permanently into the\n",
        "file. A file is a named location on disk to store related information. We can access the stored\n",
        "information (non-volatile) after the program termination. In Python, files are treated in two\n",
        "modes as text or binary. The file may be in the text or binary format, and each line of a file is\n",
        "ended with the special character. Hence, a file operation can be done in the following order.\n",
        "□ Open a file\n",
        "□ Read or write - Performing operation\n",
        "□ Close the file"
      ]
    },
    {
      "cell_type": "code",
      "metadata": {
        "id": "upjix_CkRvAZ"
      },
      "source": [
        "obj=open(\"me.txt\",\"r\")\n",
        "\n",
        "if obj:\n",
        "  st=obj.read()\n",
        "  print(\"File content is: \\n\",st)\n",
        "\n",
        "obj.close()\n",
        "\n",
        "print()\n",
        "\n",
        "lines=st.split('\\n')\n",
        "\n",
        "for In in lines:\n",
        "  i=len(In)-1\n",
        "  while(i>=0):\n",
        "    print(In[i],end=\" \") \n",
        "    i=i-1\n",
        "\n",
        "print()"
      ],
      "execution_count": null,
      "outputs": []
    },
    {
      "cell_type": "markdown",
      "metadata": {
        "id": "-8VkBMotSWxE"
      },
      "source": [
        "**AIM**:\n",
        "b) Write a program to compute the number of characters, words and lines in a file\n",
        "**DESCRIPTION**:\n",
        "Given a text file fname, the task is to count the total number of characters, words, spaces and\n",
        "lines in the file.\n",
        "As we know, Python provides multiple in-built features and modules for handling files. Let’s\n",
        "discuss different ways to calculate total number of characters, words, spaces and lines in a file\n",
        "using Python.\n",
        "Method #1: Naive approach\n",
        "In this approach, the idea is to solve the task by developing our own logic. Without using any\n",
        "built-in function of Python, the total number of characters, words, spaces and lines of the file will\n",
        "be calculated.\n",
        "Method #2: Using some built-in functions and OS module functions\n",
        "In this approach, the idea is to use the os.linesep() method of OS module to separate the lines\n",
        "on the current platform. When the interpreter’s scanner encounter os.linesep it replaces it with\n",
        "\\n character. After that strip() and split() functions will be used to carry out the task."
      ]
    },
    {
      "cell_type": "code",
      "metadata": {
        "id": "SHH5eJO6SriX"
      },
      "source": [
        "nc=nw=nl=0 file = open(\"abc.txt\", \"r\")\n",
        "\n",
        "nl=nw=nc=0\n",
        "\n",
        "print(\"File Content:\\n\") \n",
        "for line in file:\n",
        "  In = line.strip(\"\\n\")\n",
        "  words=ln.split()\n",
        "  nw += len(words)\n",
        "\n",
        "print(In)\n",
        "\n",
        "nl += 1\n",
        "\n",
        "nc += len(line)\n",
        "file.close()\n",
        "print(\"\\n No.of lines\",nl,\"words:\",nw,\"characters\",nc)\n"
      ],
      "execution_count": null,
      "outputs": []
    },
    {
      "cell_type": "markdown",
      "metadata": {
        "id": "JPBskih2TTEP"
      },
      "source": [
        "Exeecise-8\n",
        "**AIM**:\n",
        "a) Write a function ball collide that takes two balls as parameters and computes if they\n",
        "arecolliding. Your function should return a Boolean representing whether or not the balls\n",
        "arecolliding.\n",
        "Hint: Represent a ball on a plane as a tuple of (x, y, r), r being the radius If (distance between two\n",
        "balls centers) <= (sum of their radii) then (they are colliding)\n",
        "**DESCRIPTION**:\n",
        "Functions A function in python is a block of code that is defined for doing frequent operations in\n",
        "a particular task. The general format is\n",
        "def Functionname(arguments):\n",
        "Statements\n",
        "**Calling a Function**:\n",
        "A function can be called by its name followed by arguments within parenthesis.\n",
        "function()"
      ]
    },
    {
      "cell_type": "code",
      "metadata": {
        "colab": {
          "base_uri": "https://localhost:8080/"
        },
        "id": "ZZAukjtmTrTP",
        "outputId": "69a0edb2-e3d0-4cd7-c700-7f8b3a5f68ed"
      },
      "source": [
        "import math\n",
        "\n",
        "def collide(ball_tup1,ball_tup2):\n",
        "  x1,y1,r1=ball_tup1\n",
        "  x2,y2,r2=ball_tup2\n",
        "  print(\"Ball-01: \",ball_tup1)\n",
        "  print(\"Ball-02: \",ball_tup2)\n",
        "  d=math.sqrt((x2-x1)**2 + (y2-y1)**2)\n",
        "  print(\"Centroid Distance of two balls: \",d)\n",
        "  print(\"Sum of Radius Ball-01 & Balu-02 is: {}+{}={}\".format(r1,r2,r1+r2))\n",
        "  if d<=r1+r2: \n",
        "    return True\n",
        "  else:\n",
        "    return False\n",
        "\n",
        "b1=(-2,-4,3)\n",
        "\n",
        "b2=(4,6,3)\n",
        "\n",
        "if collide(b1,b2):\n",
        "  print(\"Balls are Colliode....!\")\n",
        "else:\n",
        "  print(\"Balls are NOT Collide.....!\")"
      ],
      "execution_count": null,
      "outputs": [
        {
          "output_type": "stream",
          "text": [
            "Ball-01:  (-2, -4, 3)\n",
            "Ball-02:  (4, 6, 3)\n",
            "Centroid Distance of two balls:  11.661903789690601\n",
            "Sum of Radius Ball-01 & Balu-02 is: 3+3=6\n",
            "Balls are NOT Collide.....!\n"
          ],
          "name": "stdout"
        }
      ]
    },
    {
      "cell_type": "markdown",
      "metadata": {
        "id": "k3QF-ZwvVMT7"
      },
      "source": [
        "**AIM**:\n",
        "b) Find mean, median, mode for the given set of numbers in a list\n",
        "**DESCRIPTION**:\n",
        "Mean : The mean is the average of all numbers and is sometimes called the arithmetic mean.\n",
        "This code calculates Mean or Average of a list containing numbers:\n",
        "Median : The median is the middle number in a group of numbers. This code calculates Median\n",
        "of a list containing numbers:\n",
        "Mode : The mode is the number that occurs most often within a set of numbers. This code\n",
        "calculates Mode of a list containing numbers:\n",
        "We will import Counter from collections library which is a built-in module in Python 2 and 3. This\n",
        "module will help us count duplicate elements in a list. We define a list of numbers and calculate\n",
        "the length of the list. We then call Counter (a dict subclass) which helps to count hashable\n",
        "objects, and we then convert it to dict object. We then initialize a list with a For Loop to compare\n",
        "all the dict values (Number of elements) to the max of all dict values (count of most occurring\n",
        "element) and it returns all the elements equal to max count. If the elements returned are equal to\n",
        "the number of total elements in a list then we print out ‘No mode’, else we print out the modes\n",
        "returned."
      ]
    },
    {
      "cell_type": "code",
      "metadata": {
        "colab": {
          "base_uri": "https://localhost:8080/"
        },
        "id": "bGhYYdQWVRvQ",
        "outputId": "eddca4cf-d1b7-40f1-c53f-5b5ed24cb546"
      },
      "source": [
        "def list_mean(num_list):\n",
        "  return sum(num_list)/len(num_list)\n",
        "\n",
        "def sum(num_list):\n",
        "  sum=0\n",
        "  for i in num_list:\n",
        "    sum=sum+i\n",
        "  return sum\n",
        "def list_median(num_list):\n",
        "  num_list.sort()\n",
        "  n=len(num_list)\n",
        "  mid=n//2\n",
        "  if(n%2==1):\n",
        "    return num_list[mid]\n",
        "  else:\n",
        "    return (num_list[mid-1]+num_list[mid])/2\n",
        "\n",
        "def list_mode(num_list):\n",
        "  num_list.sort()\n",
        "  temp=[]\n",
        "  i=0\n",
        "  while i<len(num_list):\n",
        "    temp.append(num_list.count(num_list[i]))\n",
        "    i+=1\n",
        "    dic=dict(zip(num_list,temp))\n",
        "    mode={k for(k,v) in dic.items() if v==max(temp)}\n",
        "    return mode\n",
        "\n",
        "lst=[1,1,2,2,2,3,4,5,3]\n",
        "\n",
        "print(\"Given list is; \",lst)\n",
        "\n",
        "print(\"Mean of the given list: \",list_mean(lst))\n",
        "print(\"Median of the given list: \",list_median(lst))\n",
        "print(\"Mode of the given list: \",list_mode(lst))"
      ],
      "execution_count": null,
      "outputs": [
        {
          "output_type": "stream",
          "text": [
            "Given list is;  [1, 1, 2, 2, 2, 3, 4, 5, 3]\n",
            "Mean of the given list:  2.5555555555555554\n",
            "Median of the given list:  2\n",
            "Mode of the given list:  {1}\n"
          ],
          "name": "stdout"
        }
      ]
    },
    {
      "cell_type": "markdown",
      "metadata": {
        "id": "gYQVUhIfXyrG"
      },
      "source": [
        "exercise-9\n",
        "**AIM**:\n",
        "a) Write a function nearly equal to test whether two strings are nearly equal. Two strings a and b are nearly equal when a can be generated by a single mutation on b.\n",
        "**DESCRIPTION**:\n",
        "strlen() function is used to check wether the two string are nearly equal or not by basis of the\n",
        "Length of those Strings\n",
        "len() function is an inbuilt function in Python programming language that returns the length of\n",
        "the string.\n",
        "len() is a built-in function in python.You can use the len() to get the length of the given string,\n",
        "array, list, tuple, dictionary, etc.\n",
        "Value: the given value you want the length of.\n",
        "Return value a return an integer value i.e. the length of the given string, or array, or list, or\n",
        "collections."
      ]
    },
    {
      "cell_type": "code",
      "metadata": {
        "colab": {
          "base_uri": "https://localhost:8080/"
        },
        "id": "VvbBmpqlX5kP",
        "outputId": "e8d3b855-c360-4ddf-c28e-1a7ab450e22f"
      },
      "source": [
        "def nearly_eq(str1,str2):\n",
        "  count=0\n",
        "  i=j=0\n",
        "  while(i<len(str1) and j<len(str2)):\n",
        "    if (str1[i]!=str2[j]):\n",
        "      count+=1\n",
        "      if(len(str1)>len(str2)):\n",
        "        i+=1\n",
        "      elif(len(str1)==len(str2)):\n",
        "        pass\n",
        "      else:\n",
        "        i-=1\n",
        "      if(count>1):\n",
        "        return False\n",
        "      i+=1\n",
        "      j+=1\n",
        "  if(count<2):\n",
        "    return True\n",
        "\n",
        "s1=input(\"Enter String1: \")\n",
        "\n",
        "s2=input(\"Enter String2: \")\n",
        "bln=nearly_eq(s1,s2)\n",
        "if(bln):\n",
        "  print(\"Strings are nearly equal.\")\n",
        "else: \n",
        "  print(\"String are NOT equal.\")"
      ],
      "execution_count": null,
      "outputs": [
        {
          "output_type": "stream",
          "text": [
            "Enter String1: jajjhjd\n",
            "Enter String2: hdhkdsu\n",
            "String are NOT equal.\n"
          ],
          "name": "stdout"
        }
      ]
    },
    {
      "cell_type": "markdown",
      "metadata": {
        "id": "DWK5e0RaIJ1v"
      },
      "source": [
        "**AIM**:\n",
        "b) Write a function dup to find all duplicates in the list.\n",
        "**DESCRIPTION**:\n",
        "To check if a list contains any duplicate element follow the following steps,\n",
        "1. Add the contents of list in a set.\n",
        "2. Compare the size of set and list.\n",
        "If size of list & set is equal then it means no duplicates in list.\n",
        "3. If size of list & set are different then it means yes, there are duplicates in list."
      ]
    },
    {
      "cell_type": "code",
      "metadata": {
        "colab": {
          "base_uri": "https://localhost:8080/"
        },
        "id": "oEsfiMB2IWB6",
        "outputId": "e767e334-d3ee-442d-de71-bf75b3c8f530"
      },
      "source": [
        "def dups(numlist):\n",
        "  temp=[]\n",
        "  for i in numlist:\n",
        "    cnt=numlist.count(i)\n",
        "    if(cnt>1 and (i not in temp)):\n",
        "      temp.append(i)\n",
        "  print(\"Duplicates in the list: \",temp)\n",
        "\n",
        "lst=[1,2,6,9,1,3,5,2,1]\n",
        "\n",
        "print(\"Given elements in the list: \",lst) \n",
        "dups(lst)"
      ],
      "execution_count": null,
      "outputs": [
        {
          "output_type": "stream",
          "text": [
            "Given elements in the list:  [1, 2, 6, 9, 1, 3, 5, 2, 1]\n",
            "Duplicates in the list:  [1, 2]\n"
          ],
          "name": "stdout"
        }
      ]
    },
    {
      "cell_type": "markdown",
      "metadata": {
        "id": "ZmKrXF2dI8Zx"
      },
      "source": [
        "**AIM**:\n",
        "c) Write a function unique to find all the unique elements of a list.\n",
        "**DESCRIPTION**:\n",
        "To find the unique in the list .There is a Specific Method i.e.,\n",
        "Method : Traversal of list\n",
        "Using traversal, we can traverse for every element in the list and check if the element is in the\n",
        "unique_list already if it is not over there, then we can append it in the unique_list.\n",
        "This is done using one for loop and other if statement which check if the value is in the unique\n",
        "list or not which is equivalent to another for loop."
      ]
    },
    {
      "cell_type": "code",
      "metadata": {
        "colab": {
          "base_uri": "https://localhost:8080/"
        },
        "id": "FwAWwm37JPd_",
        "outputId": "9d892b17-f79a-4bad-a701-ee6f2d4af56d"
      },
      "source": [
        "def unique(numlist): \n",
        "  temp=[] \n",
        "  for i in numlist:\n",
        "    cnt=numlist.count(i)\n",
        "    if cnt==1:\n",
        "      temp.append(i)\n",
        "  print(\"Unique Elements in the list: \",temp)\n",
        "\n",
        "lst=[1,2,6,9,1,3,5,2,1]\n",
        "\n",
        "print(\"Given elements in the list: \",lst) \n",
        "unique(lst)"
      ],
      "execution_count": null,
      "outputs": [
        {
          "output_type": "stream",
          "text": [
            "Given elements in the list:  [1, 2, 6, 9, 1, 3, 5, 2, 1]\n",
            "Unique Elements in the list:  [6, 9, 3, 5]\n"
          ],
          "name": "stdout"
        }
      ]
    },
    {
      "cell_type": "markdown",
      "metadata": {
        "id": "iS-uv0KyKDkc"
      },
      "source": [
        "Exercise 10:\n",
        "**AIM**:\n",
        "a) Write a function cumulative product to compute cumulative product of a list of numbers.\n",
        "**DESCRIPTION**:\n",
        "A cumulative product is a sequence of partial products of a given sequence. For example, the\n",
        "cumulative products of the sequence. , are , , .. Cumulative products can be implemented in the\n",
        "Wolfram Language as Rest[FoldList[Times, 1, list]]\n",
        "cumprod(A,1) works on successive elements in the columns of A and returns the\n",
        "cumulative products of each column. cumprod(A,2) works on successive elements in the\n",
        "rows of A and returns the cumulative products of each row.\n",
        "umprod() function is used when we want to compute the cumulative product of array elements\n",
        "over a given axis. Syntax : numpy.cumprod(arr, axis=None, dtype=None, out=None) Parameters :\n",
        "arr : [array_like] Array containing numbers whose cumulative product is desired."
      ]
    },
    {
      "cell_type": "code",
      "metadata": {
        "colab": {
          "base_uri": "https://localhost:8080/"
        },
        "id": "y9LX4dqGKRV7",
        "outputId": "eeea3466-51a7-402e-dad2-eb2765424e7e"
      },
      "source": [
        "def cum_prod(numlist):\n",
        "  prod=1\n",
        "  temp=[]\n",
        "  for i in numlist:\n",
        "    prod*=i\n",
        "    temp.append(prod)\n",
        "  return temp\n",
        "\n",
        "lst=[1,2,4,5,3]\n",
        "\n",
        "print(\"Given list is: \",lst)\n",
        "print(\"Cumulative Product list is: \",cum_prod(lst))"
      ],
      "execution_count": null,
      "outputs": [
        {
          "output_type": "stream",
          "text": [
            "Given list is:  [1, 2, 4, 5, 3]\n",
            "Cumulative Product list is:  [1, 2, 8, 40, 120]\n"
          ],
          "name": "stdout"
        }
      ]
    },
    {
      "cell_type": "markdown",
      "metadata": {
        "id": "sfqHvwLiKp4m"
      },
      "source": [
        "AIM:\n",
        "b) Write a function reverse to reverse a list. Without using the reverse function.\n",
        "DESCRIPTION:\n",
        "In this Python code snippet post, we are going to implement a list reverse function from the\n",
        "scratch without using any builtin functions.\n",
        "Let us see how...\n",
        "Iterative solution\n",
        "We can use a for loop to swap the first and last items, the second and the one before the last\n",
        "item and so on until the list is reversed in place. The number of iterations needed is half the list\n",
        "size. If the list has an odd number of items then the middle item will stay in its place."
      ]
    },
    {
      "cell_type": "code",
      "metadata": {
        "colab": {
          "base_uri": "https://localhost:8080/"
        },
        "id": "IH-xwPMWK1CN",
        "outputId": "c38674a3-8825-4c51-9af9-2d54c547a2cc"
      },
      "source": [
        "def reverse_list(numlist):\n",
        "  i=0\n",
        "  j=len(numlist)-1\n",
        "  while(i<=j):\n",
        "    temp=numlist[i]\n",
        "    numlist[i]=numlist[j]\n",
        "    numlist[j]=temp\n",
        "    j-=1 \n",
        "    i+=1\n",
        "  return numlist\n",
        "\n",
        "lst=[1,2,3,4]\n",
        "\n",
        "print(\"Given list is: \",lst) \n",
        "reverse_list(lst) \n",
        "print(\"Reverse of the given list is: \",lst)"
      ],
      "execution_count": null,
      "outputs": [
        {
          "output_type": "stream",
          "text": [
            "Given list is:  [1, 2, 3, 4]\n",
            "Reverse of the given list is:  [4, 3, 2, 1]\n"
          ],
          "name": "stdout"
        }
      ]
    },
    {
      "cell_type": "markdown",
      "metadata": {
        "id": "eb2L5ynsLUxr"
      },
      "source": [
        "**AIM**:\n",
        "c) Write function to compute gcd, lcm of two numbers. Each function shouldn’t exceed one line.\n",
        "**DESCRIPTION**:\n",
        "Python provides you an anonymous function called lambda. It can take any number of\n",
        "arguments, but can only have one expression. It can be used to find LCM and GCD values\n",
        "without exceeding each from from one line.\n",
        "The general format is\n",
        "lambda arguments: expression\n",
        "The expression is executed during the function call and the result is returned.\n",
        "Lambda as a Function\n",
        "The power of using a lambda expression is implementing it using a function"
      ]
    },
    {
      "cell_type": "code",
      "metadata": {
        "colab": {
          "base_uri": "https://localhost:8080/"
        },
        "id": "GKA3fQPGL015",
        "outputId": "5253ad01-ccf0-4de3-8b14-7986ddd34e31"
      },
      "source": [
        "gcd=lambda a,b: a if b==0 else gcd(a,a%b)\n",
        "lcm=lambda a,b: (a*b)/gcd(a,b)\n",
        "\n",
        "x=4\n",
        "\n",
        "y=24\n",
        "\n",
        "print(\"The Given Numbers: \",x,y)\n",
        "print(\"GCD is: \", gcd(x,y))\n",
        "\n",
        "print(\"LCM is: \", lcm(x,y))"
      ],
      "execution_count": null,
      "outputs": [
        {
          "output_type": "stream",
          "text": [
            "The Given Numbers:  4 24\n",
            "GCD is:  4\n",
            "LCM is:  24.0\n"
          ],
          "name": "stdout"
        }
      ]
    },
    {
      "cell_type": "markdown",
      "metadata": {
        "id": "5nf0WrV7MMBs"
      },
      "source": [
        "exercise 11:\n",
        "**AIM**:\n",
        "a) Write a program that defines a matrix and prints\n",
        "**DESCRIPTION**:\n",
        "Lists are a very widely use data structure in python. They contain a list of elements separated by\n",
        "comma. But sometimes lists can also contain lists within them. These are called nested lists or\n",
        "multidimensional lists. In this article we will see how to create and access elements in a\n",
        "multidimensional list.\n",
        "Methods on Multidimensional lists\n",
        "1. append(): Adds an element at the end of the list.\n",
        "2. extend(): Add the elements of a list (or any iterable), to the end of the current list.\n",
        "3. reverse(): Reverses the order of the list."
      ]
    },
    {
      "cell_type": "code",
      "metadata": {
        "colab": {
          "base_uri": "https://localhost:8080/"
        },
        "id": "Kp2dGR59MVyt",
        "outputId": "39d7fb32-0213-468e-e9ed-dd7dbd40263d"
      },
      "source": [
        "matA=[[]]\n",
        "\n",
        "rows=int(input(\"Enter row size of Matrix: \")) \n",
        "cols=int(input(\"Enter column size of Matrix: \"))\n",
        "\n",
        "matA=[[int(input(\"Enter [%d,%d] value: \"%(i,j)))for j in range(cols)]for i in range(rows)]\n",
        "\n",
        "print(\"Matrix is: \") \n",
        "for i in range(rows):\n",
        "  for j in range(cols):\n",
        "    print(matA[i][j],end='\\t')\n",
        "  print()"
      ],
      "execution_count": null,
      "outputs": [
        {
          "output_type": "stream",
          "text": [
            "Enter row size of Matrix: 3\n",
            "Enter column size of Matrix: 2\n",
            "Enter [0,0] value: 7\n",
            "Enter [0,1] value: 2\n",
            "Enter [1,0] value: 1\n",
            "Enter [1,1] value: 6\n",
            "Enter [2,0] value: 9\n",
            "Enter [2,1] value: 8\n",
            "Matrix is: \n",
            "7\t2\t\n",
            "1\t6\t\n",
            "9\t8\t\n"
          ],
          "name": "stdout"
        }
      ]
    },
    {
      "cell_type": "markdown",
      "metadata": {
        "id": "dKn-F40KNJyN"
      },
      "source": [
        "**AIM**:\n",
        "b) Write a program to perform addition of two square matrices\n",
        "**DESCRIPTION**:\n",
        "We can perform matrix addition in following ways in Python.\n",
        "1. Using for loop:\n",
        "Explanation :- In this program we have used nested for loops to iterate through each row and\n",
        "each column. At each point we add the corresponding elements in the two matrices and store it\n",
        "in the result.\n",
        "2. Using nested list comprehension :\n",
        "In Python, we can implement a matrix as nested list (list inside a list). We can treat each\n",
        "element as a row of the matrix.\n",
        "Explanation :-\n",
        "The output of this program is the same as above. We have used nested list comprehension to\n",
        "iterate through each element in the matrix. List comprehension allows us to write concise codes\n",
        "and we must try to use them frequently in Python. They are very helpful.\n",
        "3. uising zip function\n",
        "Explanation :\n",
        "The zip function accepts iterator i of each element(list) of matrix, mapping them, adding them\n",
        "using sum() and storing them in the map form."
      ]
    },
    {
      "cell_type": "code",
      "metadata": {
        "colab": {
          "base_uri": "https://localhost:8080/"
        },
        "id": "U79LYm-qOBFa",
        "outputId": "68826119-5b83-402d-c2e2-9d8fb65a3139"
      },
      "source": [
        "def matRead(r,c):\n",
        "  return [[int(input(\"Enter [%d,%d] value: \"%(i,j)))for j in range(cols)]for i in range(rows)]\n",
        "\n",
        "\n",
        "def matDisp(mat,r,c):\n",
        "  for i in range(r):\n",
        "    for j in range(c):\n",
        "      print(mat[i][j],end='\\t')\n",
        "    print()\n",
        "\n",
        "matA=[[]]\n",
        "\n",
        "matB=[[]]\n",
        "\n",
        "matSum=[[]]\n",
        "\n",
        "rows=int(input(\"Enter row size of the Matrix: \"))\n",
        "\n",
        "cols=int(input(\"Enter column size of the Matrix: \"))\n",
        "\n",
        "if rows==cols:\n",
        "  print(\"Enter Matrix-A elements:\") \n",
        "  matA=matRead(rows,cols)\n",
        "  print(\"Enter Matrix-B elements: \") \n",
        "  matB=matRead(rows,cols)\n",
        "  print(\"Matrix-A is: \")\n",
        "  matDisp(matA,rows,cols)\n",
        "  print(\"Matrix-B is: \")\n",
        "  matDisp(matB,rows,cols)\n",
        "  matSum=[[matA[i][j]+matB[i][j] for j in range(cols)]for i in range(rows)]\n",
        "  print(\"Sum of Matrices is: \")\n",
        "  matDisp(matSum,rows,cols)\n",
        "\n",
        "else:\n",
        "  print(\"Matrices Addition is Not possible\")"
      ],
      "execution_count": null,
      "outputs": [
        {
          "output_type": "stream",
          "text": [
            "Enter row size of the Matrix: 2\n",
            "Enter column size of the Matrix: 2\n",
            "Enter Matrix-A elements:\n",
            "Enter [0,0] value: 1\n",
            "Enter [0,1] value: 2\n",
            "Enter [1,0] value: 3\n",
            "Enter [1,1] value: 4\n",
            "Enter Matrix-B elements: \n",
            "Enter [0,0] value: 5\n",
            "Enter [0,1] value: 6\n",
            "Enter [1,0] value: 7\n",
            "Enter [1,1] value: 8\n",
            "Matrix-A is: \n",
            "1\t2\t\n",
            "3\t4\t\n",
            "Matrix-B is: \n",
            "5\t6\t\n",
            "7\t8\t\n",
            "Sum of Matrices is: \n",
            "6\t8\t\n",
            "10\t12\t\n"
          ],
          "name": "stdout"
        }
      ]
    },
    {
      "cell_type": "markdown",
      "metadata": {
        "id": "dtFtUKaZQ5ff"
      },
      "source": [
        "AIM:\n",
        "c) Write a program to perform multiplication of two square\n",
        "DESCRIPTION:\n",
        "In Python, we can implement a matrix as nested list (list inside a list).\n",
        "We can treat each element as a row of the matrix.\n",
        "For example X = [[1, 2], [4, 5], [3, 6]] would represent a 3x2 matrix.\n",
        "The first row can be selected as X[0]. And, the element in first row, first column can be selected\n",
        "as X[0][0].\n",
        "Multiplication of two matrices X and Y is defined only if the number of columns in X is equal to\n",
        "the number of rows Y.\n",
        "If X is a n x m matrix and Y is a m x l matrix then, XY is defined and has the dimension n x l (but\n",
        "YX is not defined). Here are a couple of ways to implement matrix multiplication in Python.\n"
      ]
    },
    {
      "cell_type": "code",
      "metadata": {
        "colab": {
          "base_uri": "https://localhost:8080/"
        },
        "id": "gPXMh5Z_RdlN",
        "outputId": "0a56173b-0f44-48cb-bc1e-1d223f614841"
      },
      "source": [
        "def matRead(r,c):\n",
        "  return [[int(input(\"Enter [%d,%d] value: \"%(i,j)))for j in range(cols)]for i in range(rows)]\n",
        "\n",
        "\n",
        "def matDisp(mat,r,c):\n",
        "  for i in range(r):\n",
        "    for j in range(c):\n",
        "      print(mat[i][j],end='\\t')\n",
        "    print()\n",
        "\n",
        "matA=[[]]\n",
        "\n",
        "matB=[[]]\n",
        "\n",
        "matSum=[[]]\n",
        "\n",
        "rows=int(input(\"Enter row size of the Matrix: \"))\n",
        "\n",
        "cols=int(input(\"Enter column size of the Matrix: \"))\n",
        "if rows==cols:\n",
        "  print(\"Enter Matrix-A: \")\n",
        "  matA=matRead(rows,cols)\n",
        "  print(\"Enter Matrix-B: \")\n",
        "  matB=matRead(rows,cols)\n",
        "  matMul=[[0 for j in range(cols)] for i in range(rows) ]\n",
        "  for i in range(rows):\n",
        "    for j in range(cols):\n",
        "      for k in range(cols): \n",
        "        matMul[i][j]+=matA[i][k]*matB[k][j]\n",
        "  print(\"Matrix-A is: \")\n",
        "  matDisp(matA,rows,cols)\n",
        "  print(\"Matrix-B is: \")\n",
        "  matDisp(matB,rows,cols)\n",
        "  print(\"Multiplication of Matrices is: \")\n",
        "  matDisp(matMul,rows,cols)\n",
        "\n",
        "else:\n",
        "  print(\"Matrices Multiplication is not possible\")"
      ],
      "execution_count": null,
      "outputs": [
        {
          "output_type": "stream",
          "text": [
            "Enter row size of the Matrix: 2\n",
            "Enter column size of the Matrix: 2\n",
            "Enter Matrix-A: \n",
            "Enter [0,0] value: 2\n",
            "Enter [0,1] value: 3\n",
            "Enter [1,0] value: 5\n",
            "Enter [1,1] value: 6\n",
            "Enter Matrix-B: \n",
            "Enter [0,0] value: 1\n",
            "Enter [0,1] value: 2\n",
            "Enter [1,0] value: 3\n",
            "Enter [1,1] value: 4\n",
            "Matrix-A is: \n",
            "2\t3\t\n",
            "5\t6\t\n",
            "Matrix-B is: \n",
            "1\t2\t\n",
            "3\t4\t\n",
            "Multiplication of Matrices is: \n",
            "11\t16\t\n",
            "23\t34\t\n"
          ],
          "name": "stdout"
        }
      ]
    },
    {
      "cell_type": "markdown",
      "metadata": {
        "id": "26QRTVYxS6QK"
      },
      "source": [
        "Excercise 12:\n",
        "**AIM**:\n",
        "b) Write a scripts that imports requests and fetch content from the page.Eg. (Wiki)code:\n",
        "**DESCRIPTION**:\n",
        "The Hypertext Transfer Protocol (HTTP) is an application protocol for distributed, collaborative,\n",
        "hypermedia information systems. HTTP is the foundation of data communication for the World\n",
        "Wide Web.\n",
        "Python requests\n",
        "Requests is a simple and elegant Python HTTP library. It provides methods for accessing Web\n",
        "resources via HTTP.\n",
        "Python requests reading a web page\n",
        "The get() method issues a GET request; it fetches documents identified by the given URL."
      ]
    },
    {
      "cell_type": "code",
      "metadata": {
        "colab": {
          "base_uri": "https://localhost:8080/"
        },
        "id": "rzE8Q8DgTFXp",
        "outputId": "de73344a-c16d-4184-fd38-59ebc81efda8"
      },
      "source": [
        "import requests\n",
        "\n",
        "r=requests.get('https://www.google.com')\n",
        "\n",
        "print(\"Statuscode: \",r.status_code)\n",
        "\n",
        "print(\"Header Content: \", r.headers['content-type'])\n",
        "\n",
        "print(r.text)"
      ],
      "execution_count": null,
      "outputs": [
        {
          "output_type": "stream",
          "text": [
            "Statuscode:  200\n",
            "Header Content:  text/html; charset=ISO-8859-1\n",
            "<!doctype html><html itemscope=\"\" itemtype=\"http://schema.org/WebPage\" lang=\"en\"><head><meta content=\"Search the world's information, including webpages, images, videos and more. Google has many special features to help you find exactly what you're looking for.\" name=\"description\"><meta content=\"noodp\" name=\"robots\"><meta content=\"text/html; charset=UTF-8\" http-equiv=\"Content-Type\"><meta content=\"/logos/doodles/2021/pedro-linares-lopezs-115th-birthday-6753651837108435.30-l.png\" itemprop=\"image\"><meta content=\"Pedro Linares López's 115th Birthday\" property=\"twitter:title\"><meta content=\"Pedro Linares López's 115th Birthday! #GoogleDoodle\" property=\"twitter:description\"><meta content=\"Pedro Linares López's 115th Birthday! #GoogleDoodle\" property=\"og:description\"><meta content=\"summary_large_image\" property=\"twitter:card\"><meta content=\"@GoogleDoodles\" property=\"twitter:site\"><meta content=\"https://www.google.com/logos/doodles/2021/pedro-linares-lopezs-115th-birthday-6753651837108435.4-2x.png\" property=\"twitter:image\"><meta content=\"https://www.google.com/logos/doodles/2021/pedro-linares-lopezs-115th-birthday-6753651837108435.4-2x.png\" property=\"og:image\"><meta content=\"1400\" property=\"og:image:width\"><meta content=\"460\" property=\"og:image:height\"><title>Google</title><script nonce=\"6p6FmzbFheL3SAIEr+RPdQ==\">(function(){window.google={kEI:'sbPaYIrVOPaDwbkPjYKFyAQ',kEXPI:'0,772215,1,530320,92,56781,954,5105,206,2415,2389,926,1390,383,246,5,1354,4936,314,16232,10,1106274,1197713,569,328985,51223,16115,28684,17572,4859,1361,9290,3026,17583,4020,978,13228,3847,4192,6430,1142,13386,4517,2777,920,5080,1593,1279,2212,530,149,1103,840,1983,3,4311,3514,606,2023,1777,520,14670,3227,2845,7,5599,6755,5096,7540,336,3749,1180,108,1456,27,1924,908,2,940,15325,432,3,346,1244,1,5445,148,5990,5333,2652,4,1528,2304,1236,5226,577,74,1983,2626,2015,3791,276,7434,3824,3050,2658,4243,2293,821,30,1677,9736,2215,1591,714,638,37,1457,619,4967,9765,770,665,5824,2533,992,1055,2047,17,3121,6,908,3,3541,1,5349,3277,6087,1,1810,283,38,874,5992,6754,984,4788,2,1394,756,769,8,1,1272,1715,2,3057,483,1532,523,1,2,2,3172,440,627,4,32,4,1341,3930,2,114,4,683,442,185,157,255,55,4,434,1453,926,91,30,286,2014,1275,1076,3096,407,1575,3,512,1606,3759,1378,586,3,1040,644,516,1269,1798,1627,3,1493,2,507,604,837,33,906,137,1204,1,56,4309,685,36,2,631,204,3,56,64,30,1454,784,1399,1628,58,13,695,753,320,2066,67,1,12,3,1,704,242,345,236,225,166,655,1078,693,1,8,10,1,8,41,1745,439,119,395,84,1635,276,5,57,994,591,1001,276,595,51,401,29,4,7,24,92,246,384,37,2,295,145,416,1531,592,229,5622542,194,32,63,155,2,59,32,1802798,4193979,46,2800651,882,444,1,2,80,1,1796,1,9,2,2551,1,748,141,795,563,1,4265,1,1,2,1331,3299,843,2609,155,17,13,72,139,4,2,20,2,169,13,19,46,5,39,96,548,29,2,2,1,2,1,2,2,7,4,1,2,2,2,2,2,2,353,513,186,1,1,27,4,13,2,6,2,14,19,16,5,24,1,2,23,3,2,2,2,2,2,4,2,3,3,23954992,2857454,1152819,268,1835,24965,1502,2,2374,3,120,3,6,338,3,1453,386,501,74,1157,623',kBL:'agTH'};google.sn='webhp';google.kHL='en';})();(function(){\n",
            "var f=this||self;var h,k=[];function l(a){for(var b;a&&(!a.getAttribute||!(b=a.getAttribute(\"eid\")));)a=a.parentNode;return b||h}function m(a){for(var b=null;a&&(!a.getAttribute||!(b=a.getAttribute(\"leid\")));)a=a.parentNode;return b}\n",
            "function n(a,b,c,d,g){var e=\"\";c||-1!==b.search(\"&ei=\")||(e=\"&ei=\"+l(d),-1===b.search(\"&lei=\")&&(d=m(d))&&(e+=\"&lei=\"+d));d=\"\";!c&&f._cshid&&-1===b.search(\"&cshid=\")&&\"slh\"!==a&&(d=\"&cshid=\"+f._cshid);c=c||\"/\"+(g||\"gen_204\")+\"?atyp=i&ct=\"+a+\"&cad=\"+b+e+\"&zx=\"+Date.now()+d;/^http:/i.test(c)&&\"https:\"===window.location.protocol&&(google.ml&&google.ml(Error(\"a\"),!1,{src:c,glmm:1}),c=\"\");return c};h=google.kEI;google.getEI=l;google.getLEI=m;google.ml=function(){return null};google.log=function(a,b,c,d,g){if(c=n(a,b,c,d,g)){a=new Image;var e=k.length;k[e]=a;a.onerror=a.onload=a.onabort=function(){delete k[e]};a.src=c}};google.logUrl=n;}).call(this);(function(){\n",
            "google.y={};google.sy=[];google.x=function(a,b){if(a)var c=a.id;else{do c=Math.random();while(google.y[c])}google.y[c]=[a,b];return!1};google.sx=function(a){google.sy.push(a)};google.lm=[];google.plm=function(a){google.lm.push.apply(google.lm,a)};google.lq=[];google.load=function(a,b,c){google.lq.push([[a],b,c])};google.loadAll=function(a,b){google.lq.push([a,b])};google.bx=!1;google.lx=function(){};}).call(this);google.f={};(function(){\n",
            "document.documentElement.addEventListener(\"submit\",function(b){var a;if(a=b.target){var c=a.getAttribute(\"data-submitfalse\");a=\"1\"==c||\"q\"==c&&!a.elements.q.value?!0:!1}else a=!1;a&&(b.preventDefault(),b.stopPropagation())},!0);document.documentElement.addEventListener(\"click\",function(b){var a;a:{for(a=b.target;a&&a!=document.documentElement;a=a.parentElement)if(\"A\"==a.tagName){a=\"1\"==a.getAttribute(\"data-nohref\");break a}a=!1}a&&b.preventDefault()},!0);}).call(this);</script><style>#gbar,#guser{font-size:13px;padding-top:1px !important;}#gbar{height:22px}#guser{padding-bottom:7px !important;text-align:right}.gbh,.gbd{border-top:1px solid #c9d7f1;font-size:1px}.gbh{height:0;position:absolute;top:24px;width:100%}@media all{.gb1{height:22px;margin-right:.5em;vertical-align:top}#gbar{float:left}}a.gb1,a.gb4{text-decoration:underline !important}a.gb1,a.gb4{color:#00c !important}.gbi .gb4{color:#dd8e27 !important}.gbf .gb4{color:#900 !important}\n",
            "</style><style>body,td,a,p,.h{font-family:arial,sans-serif}body{margin:0;overflow-y:scroll}#gog{padding:3px 8px 0}td{line-height:.8em}.gac_m td{line-height:17px}form{margin-bottom:20px}.h{color:#1558d6}em{font-weight:bold;font-style:normal}.lst{height:25px;width:496px}.gsfi,.lst{font:18px arial,sans-serif}.gsfs{font:17px arial,sans-serif}.ds{display:inline-box;display:inline-block;margin:3px 0 4px;margin-left:4px}input{font-family:inherit}body{background:#fff;color:#000}a{color:#4b11a8;text-decoration:none}a:hover,a:active{text-decoration:underline}.fl a{color:#1558d6}a:visited{color:#4b11a8}.sblc{padding-top:5px}.sblc a{display:block;margin:2px 0;margin-left:13px;font-size:11px}.lsbb{background:#f8f9fa;border:solid 1px;border-color:#dadce0 #70757a #70757a #dadce0;height:30px}.lsbb{display:block}#WqQANb a{display:inline-block;margin:0 12px}.lsb{background:url(/images/nav_logo229.png) 0 -261px repeat-x;border:none;color:#000;cursor:pointer;height:30px;margin:0;outline:0;font:15px arial,sans-serif;vertical-align:top}.lsb:active{background:#dadce0}.lst:focus{outline:none}</style><script nonce=\"6p6FmzbFheL3SAIEr+RPdQ==\"></script></head><body bgcolor=\"#fff\"><script nonce=\"6p6FmzbFheL3SAIEr+RPdQ==\">(function(){var src='/images/nav_logo229.png';var iesg=false;document.body.onload = function(){window.n && window.n();if (document.images){new Image().src=src;}\n",
            "if (!iesg){document.f&&document.f.q.focus();document.gbqf&&document.gbqf.q.focus();}\n",
            "}\n",
            "})();</script><div id=\"mngb\"><div id=gbar><nobr><b class=gb1>Search</b> <a class=gb1 href=\"https://www.google.com/imghp?hl=en&tab=wi\">Images</a> <a class=gb1 href=\"https://maps.google.com/maps?hl=en&tab=wl\">Maps</a> <a class=gb1 href=\"https://play.google.com/?hl=en&tab=w8\">Play</a> <a class=gb1 href=\"https://www.youtube.com/?gl=US&tab=w1\">YouTube</a> <a class=gb1 href=\"https://news.google.com/?tab=wn\">News</a> <a class=gb1 href=\"https://mail.google.com/mail/?tab=wm\">Gmail</a> <a class=gb1 href=\"https://drive.google.com/?tab=wo\">Drive</a> <a class=gb1 style=\"text-decoration:none\" href=\"https://www.google.com/intl/en/about/products?tab=wh\"><u>More</u> &raquo;</a></nobr></div><div id=guser width=100%><nobr><span id=gbn class=gbi></span><span id=gbf class=gbf></span><span id=gbe></span><a href=\"http://www.google.com/history/optout?hl=en\" class=gb4>Web History</a> | <a  href=\"/preferences?hl=en\" class=gb4>Settings</a> | <a target=_top id=gb_70 href=\"https://accounts.google.com/ServiceLogin?hl=en&passive=true&continue=https://www.google.com/&ec=GAZAAQ\" class=gb4>Sign in</a></nobr></div><div class=gbh style=left:0></div><div class=gbh style=right:0></div></div><center><br clear=\"all\" id=\"lgpd\"><div id=\"lga\"><a href=\"/search?ie=UTF-8&amp;q=Pedro+Linares+L%C3%B3pez&amp;oi=ddle&amp;ct=144867176&amp;hl=en&amp;kgmid=/m/08g16c&amp;sa=X&amp;ved=0ahUKEwjK8baDkrzxAhX2QTABHQ1BAUkQPQgD\"><img alt=\"Pedro Linares López's 115th Birthday\" border=\"0\" height=\"220\" src=\"/logos/doodles/2021/pedro-linares-lopezs-115th-birthday-6753651837108435.30-l.png\" title=\"Pedro Linares López's 115th Birthday\" width=\"700\" id=\"hplogo\"><br></a><br></div><form action=\"/search\" name=\"f\"><table cellpadding=\"0\" cellspacing=\"0\"><tr valign=\"top\"><td width=\"25%\">&nbsp;</td><td align=\"center\" nowrap=\"\"><input name=\"ie\" value=\"ISO-8859-1\" type=\"hidden\"><input value=\"en\" name=\"hl\" type=\"hidden\"><input name=\"source\" type=\"hidden\" value=\"hp\"><input name=\"biw\" type=\"hidden\"><input name=\"bih\" type=\"hidden\"><div class=\"ds\" style=\"height:32px;margin:4px 0\"><input class=\"lst\" style=\"margin:0;padding:5px 8px 0 6px;vertical-align:top;color:#000\" autocomplete=\"off\" value=\"\" title=\"Google Search\" maxlength=\"2048\" name=\"q\" size=\"57\"></div><br style=\"line-height:0\"><span class=\"ds\"><span class=\"lsbb\"><input class=\"lsb\" value=\"Google Search\" name=\"btnG\" type=\"submit\"></span></span><span class=\"ds\"><span class=\"lsbb\"><input class=\"lsb\" id=\"tsuid1\" value=\"I'm Feeling Lucky\" name=\"btnI\" type=\"submit\"><script nonce=\"6p6FmzbFheL3SAIEr+RPdQ==\">(function(){var id='tsuid1';document.getElementById(id).onclick = function(){if (this.form.q.value){this.checked = 1;if (this.form.iflsig)this.form.iflsig.disabled = false;}\n",
            "else top.location='/doodles/';};})();</script><input value=\"AINFCbYAAAAAYNrBwQyMTAT4rKf2ITtOxzBC5c6d_HVQ\" name=\"iflsig\" type=\"hidden\"></span></span></td><td class=\"fl sblc\" align=\"left\" nowrap=\"\" width=\"25%\"><a href=\"/advanced_search?hl=en&amp;authuser=0\">Advanced search</a></td></tr></table><input id=\"gbv\" name=\"gbv\" type=\"hidden\" value=\"1\"><script nonce=\"6p6FmzbFheL3SAIEr+RPdQ==\">(function(){\n",
            "var a,b=\"1\";if(document&&document.getElementById)if(\"undefined\"!=typeof XMLHttpRequest)b=\"2\";else if(\"undefined\"!=typeof ActiveXObject){var c,d,e=[\"MSXML2.XMLHTTP.6.0\",\"MSXML2.XMLHTTP.3.0\",\"MSXML2.XMLHTTP\",\"Microsoft.XMLHTTP\"];for(c=0;d=e[c++];)try{new ActiveXObject(d),b=\"2\"}catch(h){}}a=b;if(\"2\"==a&&-1==location.search.indexOf(\"&gbv=2\")){var f=google.gbvu,g=document.getElementById(\"gbv\");g&&(g.value=a);f&&window.setTimeout(function(){location.href=f},0)};}).call(this);</script></form><div id=\"gac_scont\"></div><div style=\"font-size:83%;min-height:3.5em\"><br></div><span id=\"footer\"><div style=\"font-size:10pt\"><div style=\"margin:19px auto;text-align:center\" id=\"WqQANb\"><a href=\"/intl/en/ads/\">Advertising Programs</a><a href=\"/services/\">Business Solutions</a><a href=\"/intl/en/about.html\">About Google</a></div></div><p style=\"font-size:8pt;color:#70757a\">&copy; 2021 - <a href=\"/intl/en/policies/privacy/\">Privacy</a> - <a href=\"/intl/en/policies/terms/\">Terms</a></p></span></center><script nonce=\"6p6FmzbFheL3SAIEr+RPdQ==\">(function(){window.google.cdo={height:757,width:1440};(function(){\n",
            "var a=window.innerWidth,b=window.innerHeight;if(!a||!b){var c=window.document,d=\"CSS1Compat\"==c.compatMode?c.documentElement:c.body;a=d.clientWidth;b=d.clientHeight}a&&b&&(a!=google.cdo.width||b!=google.cdo.height)&&google.log(\"\",\"\",\"/client_204?&atyp=i&biw=\"+a+\"&bih=\"+b+\"&ei=\"+google.kEI);}).call(this);})();</script> <script nonce=\"6p6FmzbFheL3SAIEr+RPdQ==\">(function(){google.xjs={ck:'',cs:'',excm:[],pml:false};})();</script>  <script nonce=\"6p6FmzbFheL3SAIEr+RPdQ==\">(function(){var u='/xjs/_/js/k\\x3dxjs.hp.en_US.JRh4tN6N9QQ.O/m\\x3dsb_he,d/am\\x3dAHgCLA/d\\x3d1/ed\\x3d1/rs\\x3dACT90oGq1Ln_99CJXORDJChcIkowqosPIA';\n",
            "var e=this||self,f=function(a){return a};var g;var l=function(a,b){this.g=b===h?a:\"\"};l.prototype.toString=function(){return this.g+\"\"};var h={};function m(){var a=u;google.lx=function(){n(a);google.lx=function(){}};google.bx||google.lx()}\n",
            "function n(a){google.timers&&google.timers.load&&google.tick&&google.tick(\"load\",\"xjsls\");var b=document;var c=\"SCRIPT\";\"application/xhtml+xml\"===b.contentType&&(c=c.toLowerCase());c=b.createElement(c);if(void 0===g){b=null;var k=e.trustedTypes;if(k&&k.createPolicy){try{b=k.createPolicy(\"goog#html\",{createHTML:f,createScript:f,createScriptURL:f})}catch(p){e.console&&e.console.error(p.message)}g=b}else g=b}a=(b=g)?b.createScriptURL(a):a;a=new l(a,h);c.src=a instanceof l&&a.constructor===l?a.g:\"type_error:TrustedResourceUrl\";var d;a=(c.ownerDocument&&c.ownerDocument.defaultView||window).document;(d=(a=null===(d=a.querySelector)||void 0===d?void 0:d.call(a,\"script[nonce]\"))?a.nonce||a.getAttribute(\"nonce\")||\"\":\"\")&&c.setAttribute(\"nonce\",d);document.body.appendChild(c);google.psa=!0};setTimeout(function(){m()},0);})();(function(){window.google.xjsu='/xjs/_/js/k\\x3dxjs.hp.en_US.JRh4tN6N9QQ.O/m\\x3dsb_he,d/am\\x3dAHgCLA/d\\x3d1/ed\\x3d1/rs\\x3dACT90oGq1Ln_99CJXORDJChcIkowqosPIA';})();function _DumpException(e){throw e;}\n",
            "function _F_installCss(c){}\n",
            "(function(){google.jl={attn:false,blt:'none',dw:false,emtn:0,ine:false,lls:'default',pdt:0,snet:true,ubm:false,uwp:true};})();(function(){var pmc='{\\x22d\\x22:{},\\x22sb_he\\x22:{\\x22agen\\x22:false,\\x22cgen\\x22:false,\\x22client\\x22:\\x22heirloom-hp\\x22,\\x22dh\\x22:true,\\x22dhqt\\x22:true,\\x22ds\\x22:\\x22\\x22,\\x22ffql\\x22:\\x22en\\x22,\\x22fl\\x22:true,\\x22host\\x22:\\x22google.com\\x22,\\x22isbh\\x22:28,\\x22jsonp\\x22:true,\\x22msgs\\x22:{\\x22cibl\\x22:\\x22Clear Search\\x22,\\x22dym\\x22:\\x22Did you mean:\\x22,\\x22lcky\\x22:\\x22I\\\\u0026#39;m Feeling Lucky\\x22,\\x22lml\\x22:\\x22Learn more\\x22,\\x22oskt\\x22:\\x22Input tools\\x22,\\x22psrc\\x22:\\x22This search was removed from your \\\\u003Ca href\\x3d\\\\\\x22/history\\\\\\x22\\\\u003EWeb History\\\\u003C/a\\\\u003E\\x22,\\x22psrl\\x22:\\x22Remove\\x22,\\x22sbit\\x22:\\x22Search by image\\x22,\\x22srch\\x22:\\x22Google Search\\x22},\\x22nrft\\x22:false,\\x22ovr\\x22:{},\\x22pq\\x22:\\x22\\x22,\\x22refpd\\x22:true,\\x22rfs\\x22:[],\\x22sbas\\x22:\\x220 3px 8px 0 rgba(0,0,0,0.2),0 0 0 1px rgba(0,0,0,0.08)\\x22,\\x22sbpl\\x22:16,\\x22sbpr\\x22:16,\\x22scd\\x22:10,\\x22stok\\x22:\\x22LpEpVhi_2iNAPNn2vRjfe3dNoXE\\x22,\\x22uhde\\x22:false}}';google.pmc=JSON.parse(pmc);})();</script>        </body></html>\n"
          ],
          "name": "stdout"
        }
      ]
    },
    {
      "cell_type": "markdown",
      "metadata": {
        "id": "NZ4ZhFV8Tq4-"
      },
      "source": [
        "**AIM**:\n",
        "c) Write a simple script that serves a simple HTTPResponse and Simple HTML page.\n",
        "**DESCRIPTION**:\n",
        "**HTTP Protocol**\n",
        "The most important part of a web server is HTTP protocol.So now we will see what exactly this\n",
        "is –\n",
        "It stands for Hyper Text Transfer Protocol.\n",
        "It is an application layer protocol that allows web based applications to communicate and\n",
        "exchange data.\n",
        "The HTTP is the messenger of web.\n",
        "The computer that communicate via the HTTP must speak the HTTP protocol.\n",
        "It is a TCP/IP based protocol.\n",
        "It is used to deliver contents, for eg. images, audios, videos, documents etc.\n",
        "Using HTTP is the most convenient way to quickly and reliably move data on the web.\n",
        "HTML stands for hypertext markup language. It is the standard markup language for web pages\n",
        "that define the structure of the content. These elements are the building blocks of any website"
      ]
    },
    {
      "cell_type": "code",
      "metadata": {
        "colab": {
          "base_uri": "https://localhost:8080/"
        },
        "id": "KRoFzNIJT4Q1",
        "outputId": "0882c7ce-3569-4028-b8b2-22b1411ae18e"
      },
      "source": [
        "from flask import Flask,render_template\n",
        "app=Flask(__name__)\n",
        "print(app)\n",
        "@app.route(\"/\")\n",
        "\n",
        "def main():\n",
        "  return render_template('login.html')\n",
        "\n",
        "if __name__== \"__main__\":\n",
        "  app.run(host=\"127.0.0.1\",port=2500)"
      ],
      "execution_count": null,
      "outputs": [
        {
          "output_type": "stream",
          "text": [
            "<Flask '__main__'>\n",
            " * Serving Flask app \"__main__\" (lazy loading)\n",
            " * Environment: production\n",
            "\u001b[31m   WARNING: This is a development server. Do not use it in a production deployment.\u001b[0m\n",
            "\u001b[2m   Use a production WSGI server instead.\u001b[0m\n",
            " * Debug mode: off\n"
          ],
          "name": "stdout"
        },
        {
          "output_type": "stream",
          "text": [
            " * Running on http://127.0.0.1:2500/ (Press CTRL+C to quit)\n"
          ],
          "name": "stderr"
        }
      ]
    },
    {
      "cell_type": "markdown",
      "metadata": {
        "id": "6fxtIpXVVezd"
      },
      "source": [
        "Exercise 13:\n",
        "**AIM**:\n",
        "a)class variables and instance variable and illustration of the self -variable\n",
        "**DESCRIPTION**:\n",
        "Variables are named storage location. In python variables are not defined by its type instead it\n",
        "will be automatically determined by the value assigned to it. To determine the type of a variable\n",
        "a function called type () is used.\n",
        "class variable is shared by all object instances of a class. .... They are not defined inside any\n",
        "methods of a class. Because a class variable is shared by instances of a class, the Python class\n",
        "owns the variable. As a result, all instances of the class will be able to access that variable\n",
        "Instance variables are owned by instances of the class. This means that for each object or\n",
        "instance of a class, the instance variables are different..... Instance variables, owned by objects\n",
        "of the class, allow for each object or instance to have different values assigned to those\n",
        "variables\n",
        "self variable is used to bind the instance of the class to the instance method. We have to\n",
        "explicitly declare it as the first method argument to access the instance variables and methods.\n",
        "This variable is used only with the instance methods."
      ]
    },
    {
      "cell_type": "code",
      "metadata": {
        "colab": {
          "base_uri": "https://localhost:8080/"
        },
        "id": "9fm0eja6VxVe",
        "outputId": "d9f89535-1607-4000-c8bd-d89be1984749"
      },
      "source": [
        "class Robot:\n",
        "  what=\"Machine\"\n",
        "  name=\"Chitti\" \n",
        "  version=1.0\n",
        "  speed=\"1THz\"\n",
        "  memory=\"1ZB\"\n",
        "  def update(upd):\n",
        "    upd.version=2.0\n",
        "    upd.speed=\"2THz\"\n",
        "    upd.memory=\"2ZB\"\n",
        "  def disp(self):\n",
        "    print(\"Myself is a\",robj.what)\n",
        "    print(\"MyName is a\",robj.name)\n",
        "    print(\"Speed: \",robj.speed)\n",
        "    print(\"Memory: \",robj.memory)\n",
        "    print(\"Version :\",robj.version)\n",
        "\n",
        "robj=Robot()\n",
        "robj.disp()\n",
        "\n",
        "print(\"------Update-----\")\n",
        "\n",
        "robj.update()\n",
        "\n",
        "robj.disp()"
      ],
      "execution_count": null,
      "outputs": [
        {
          "output_type": "stream",
          "text": [
            "Myself is a Machine\n",
            "MyName is a Chitti\n",
            "Speed:  1THz\n",
            "Memory:  1ZB\n",
            "Version : 1.0\n",
            "------Update-----\n",
            "Myself is a Machine\n",
            "MyName is a Chitti\n",
            "Speed:  2THz\n",
            "Memory:  2ZB\n",
            "Version : 2.0\n"
          ],
          "name": "stdout"
        }
      ]
    },
    {
      "cell_type": "markdown",
      "metadata": {
        "id": "I_HFltfWUuVA"
      },
      "source": [
        "ii)**ATM Machine**"
      ]
    },
    {
      "cell_type": "code",
      "metadata": {
        "id": "Kv2QtyAvXlhp",
        "colab": {
          "base_uri": "https://localhost:8080/"
        },
        "outputId": "2b47c90c-01e7-4c54-bd97-840bf6430b30"
      },
      "source": [
        "class ATM:\n",
        "  balance=0\n",
        "    \n",
        "  def enquire(self): \n",
        "    print(\"Balance: \",self.balance)\n",
        "  def deposit(self):\n",
        "    amount=int(input(\"Enter the Deposit Amount:\"))\n",
        "    self.balance+=amount\n",
        "    self.enquire()\n",
        "  def withdraw(self):\n",
        "    amount=int(input(\"Enter the Withdraw Amount: \"))\n",
        "    if self.balance<amount:\n",
        "      print(\"Insufficient Balance.....!\")\n",
        "    else:\n",
        "      self.balance-=amount\n",
        "      self.enquire()\n",
        "\n",
        "\n",
        "aobj=ATM()\n",
        "while(True):\n",
        "  print(\"*****Menu****\")\n",
        "  print(\"1.Deposit\")\n",
        "  print(\"2.Withdarw\")\n",
        "  print(\"3.Balance\")\n",
        "  print(\"0.Exit\")\n",
        "  ch=int(input(\"Enter Your Choice: \"))\n",
        "  if ch==0:\n",
        "    break\n",
        "  elif ch==1:\n",
        "    aobj.deposit()\n",
        "  elif ch==2:\n",
        "    aobj.withdraw()\n",
        "  elif ch==3:\n",
        "    aobj.enquire()\n",
        "  else:\n",
        "    print(\"Invalid choice:\")\n",
        "    pass"
      ],
      "execution_count": null,
      "outputs": [
        {
          "output_type": "stream",
          "text": [
            "*****Menu****\n",
            "1.Deposit\n",
            "2.Withdarw\n",
            "3.Balance\n",
            "0.Exit\n",
            "Enter Your Choice: 1\n",
            "Enter the Deposit Amount:1000\n",
            "Balance:  1000\n",
            "*****Menu****\n",
            "1.Deposit\n",
            "2.Withdarw\n",
            "3.Balance\n",
            "0.Exit\n",
            "Enter Your Choice: 2\n",
            "Enter the Withdraw Amount: 500\n",
            "Balance:  500\n",
            "*****Menu****\n",
            "1.Deposit\n",
            "2.Withdarw\n",
            "3.Balance\n",
            "0.Exit\n",
            "Enter Your Choice: 3\n",
            "Balance:  500\n",
            "*****Menu****\n",
            "1.Deposit\n",
            "2.Withdarw\n",
            "3.Balance\n",
            "0.Exit\n",
            "Enter Your Choice: 0\n"
          ],
          "name": "stdout"
        }
      ]
    },
    {
      "cell_type": "markdown",
      "metadata": {
        "id": "A-0fjK0sMhus"
      },
      "source": [
        "Exercise 14: \n",
        "**AIM**:\n",
        "a. Write a GUI for an Expression Calculator using tk\n",
        "DESCRIPTION:\n",
        "Tkinter is a Python package which comes with many functions and methods that can be used to\n",
        "create an application. In order to create a tkinter application, we generally create an instance of\n",
        "tkinter frame, i.e., Tk(). It helps to display the root window and manages all the other\n",
        "components of the tkinter application. We can initialize the tkinter instance by assigning the\n",
        "variable to it."
      ]
    },
    {
      "cell_type": "code",
      "metadata": {
        "colab": {
          "base_uri": "https://localhost:8080/",
          "height": 350
        },
        "id": "zAwITFYwNFad",
        "outputId": "dca55570-99f8-47cc-8901-b67c349d237e"
      },
      "source": [
        "from tkinter import *\n",
        "\n",
        "win=Tk()\n",
        "win.geometry(\"312x324\")  \n",
        "win.resizable(0, 0) \n",
        "win.title(\"Calculator\")\n",
        "\n",
        "\n",
        "\n",
        "def btn_click(item):\n",
        "    global expression\n",
        "    expression = expression + str(item)\n",
        "    input_text.set(expression)\n",
        "\n",
        "\n",
        "def bt_clear(): \n",
        "    global expression \n",
        "    expression = \"\"\n",
        "    input_text.set(\"\")\n",
        "\n",
        "\n",
        "\n",
        "def bt_equal():\n",
        "    global expression\n",
        "    result = str(eval(expression))\n",
        "    input_text.set(result)\n",
        "    expression = \"\"\n",
        "\n",
        "expression = \"\"\n",
        "\n",
        "\n",
        "input_text = StringVar()\n",
        "\n",
        "\n",
        "\n",
        "input_frame = Frame(win, width=312, height=50, bd=0, highlightbackground=\"black\", highlightcolor=\"black\", highlightthickness=2)\n",
        "\n",
        "input_frame.pack(side=TOP)\n",
        "input_field = Entry(input_frame, font=('arial', 18, 'bold'), textvariable=input_text, width=50, bg=\"#eee\", bd=0, justify=RIGHT)\n",
        "\n",
        "input_field.grid(row=0, column=0)\n",
        "\n",
        "input_field.pack(ipady=10)\n",
        "\n",
        "\n",
        "btns_frame = Frame(win, width=312, height=272.5, bg=\"grey\")\n",
        "\n",
        "btns_frame.pack()\n",
        "\n",
        "# first row\n",
        "\n",
        "clear = Button(btns_frame, text = \"C\", fg = \"black\", width = 32, height = 3, bd = 0, bg = \"#eee\", cursor = \"hand2\", command = lambda: bt_clear()).grid(row = 0, column = 0, columnspan = 3, padx = 1, pady = 1)\n",
        "\n",
        "divide = Button(btns_frame, text = \"/\", fg = \"black\", width = 10, height = 3, bd = 0, bg = \"#eee\", cursor = \"hand2\", command = lambda: btn_click(\"/\")).grid(row = 0, column = 3, padx = 1, pady = 1)\n",
        "\n",
        "# second row\n",
        "\n",
        "seven = Button(btns_frame, text = \"7\", fg = \"black\", width = 10, height = 3, bd = 0, bg = \"#fff\", cursor = \"hand2\", command = lambda: btn_click(7)).grid(row = 1, column = 0, padx = 1, pady = 1)\n",
        "\n",
        "eight = Button(btns_frame, text = \"8\", fg = \"black\", width = 10, height = 3, bd = 0, bg = \"#fff\", cursor = \"hand2\", command = lambda: btn_click(8)).grid(row = 1, column = 1, padx = 1, pady = 1)\n",
        "\n",
        "nine = Button(btns_frame, text = \"9\", fg = \"black\", width = 10, height = 3, bd = 0, bg = \"#fff\", cursor = \"hand2\", command = lambda: btn_click(9)).grid(row = 1, column = 2, padx = 1, pady = 1)\n",
        "\n",
        "multiply = Button(btns_frame, text = \"\", fg = \"black\", width = 10, height = 3, bd = 0, bg = \"#eee\", cursor = \"hand2\", command = lambda: btn_click(\"\")).grid(row = 1, column = 3, padx = 1, pady = 1)\n",
        "\n",
        "# third row\n",
        "\n",
        "four = Button(btns_frame, text = \"4\", fg = \"black\", width = 10, height = 3, bd = 0, bg = \"#fff\", cursor = \"hand2\", command = lambda: btn_click(4)).grid(row = 2, column = 0, padx = 1, pady = 1)\n",
        "\n",
        "five = Button(btns_frame, text = \"5\", fg = \"black\", width = 10, height = 3, bd = 0, bg = \"#fff\", cursor = \"hand2\", command = lambda: btn_click(5)).grid(row = 2, column = 1, padx = 1, pady = 1)\n",
        "\n",
        "six = Button(btns_frame, text = \"6\", fg = \"black\", width = 10, height = 3, bd = 0, bg = \"#fff\", cursor = \"hand2\", command = lambda: btn_click(6)).grid(row = 2, column = 2, padx = 1, pady = 1)\n",
        "\n",
        "minus = Button(btns_frame, text = \"-\", fg = \"black\", width = 10, height = 3, bd = 0, bg = \"#eee\", cursor = \"hand2\", command = lambda: btn_click(\"-\")).grid(row = 2, column = 3, padx = 1, pady = 1)\n",
        "# fourth row\n",
        "\n",
        "one = Button(btns_frame, text = \"1\", fg = \"black\", width = 10, height = 3, bd = 0, bg = \"#fff\", cursor = \"hand2\", command = lambda: btn_click(1)).grid(row = 3, column = 0, padx = 1, pady = 1)\n",
        "\n",
        "two = Button(btns_frame, text = \"2\", fg = \"black\", width = 10, height = 3, bd = 0, bg = \"#fff\", cursor = \"hand2\", command = lambda: btn_click(2)).grid(row = 3, column = 1, padx = 1, pady = 1)\n",
        "\n",
        "three = Button(btns_frame, text = \"3\", fg = \"black\", width = 10, height = 3, bd = 0, bg = \"#fff\", cursor = \"hand2\", command = lambda: btn_click(3)).grid(row = 3, column = 2, padx = 1, pady = 1)\n",
        "\n",
        "plus = Button(btns_frame, text = \"+\", fg = \"black\", width = 10, height = 3, bd = 0, bg = \"#eee\", cursor = \"hand2\", command = lambda: btn_click(\"+\")).grid(row = 3, column = 3, padx = 1, pady = 1)\n",
        "\n",
        "# fifth row\n",
        "\n",
        "zero = Button(btns_frame, text = \"0\", fg = \"black\", width = 21, height = 3, bd = 0, bg = \"#fff\", cursor = \"hand2\", command = lambda: btn_click(0)).grid(row = 4, column = 0, columnspan = 2, padx = 1, pady = 1)\n",
        "\n",
        "point = Button(btns_frame, text = \".\", fg = \"black\", width = 10, height = 3, bd = 0, bg = \"#eee\", cursor = \"hand2\", command = lambda: btn_click(\".\")).grid(row = 4, column = 2, padx = 1, pady = 1)\n",
        "\n",
        "equals = Button(btns_frame, text = \"=\", fg = \"black\", width = 10, height = 3, bd = 0, bg = \"#eee\", cursor = \"hand2\", command = lambda: bt_equal()).grid(row = 4, column = 3, padx = 1, pady = 1)\n",
        "\n",
        "win.mainloop()"
      ],
      "execution_count": null,
      "outputs": [
        {
          "output_type": "error",
          "ename": "TclError",
          "evalue": "ignored",
          "traceback": [
            "\u001b[0;31m---------------------------------------------------------------------------\u001b[0m",
            "\u001b[0;31mTclError\u001b[0m                                  Traceback (most recent call last)",
            "\u001b[0;32m<ipython-input-6-9d2a63f4cc04>\u001b[0m in \u001b[0;36m<module>\u001b[0;34m()\u001b[0m\n\u001b[1;32m      1\u001b[0m \u001b[0;32mfrom\u001b[0m \u001b[0mtkinter\u001b[0m \u001b[0;32mimport\u001b[0m \u001b[0mTk\u001b[0m\u001b[0;34m\u001b[0m\u001b[0;34m\u001b[0m\u001b[0m\n\u001b[1;32m      2\u001b[0m \u001b[0;34m\u001b[0m\u001b[0m\n\u001b[0;32m----> 3\u001b[0;31m \u001b[0mwin\u001b[0m\u001b[0;34m=\u001b[0m\u001b[0mTk\u001b[0m\u001b[0;34m(\u001b[0m\u001b[0;34m)\u001b[0m\u001b[0;34m\u001b[0m\u001b[0;34m\u001b[0m\u001b[0m\n\u001b[0m\u001b[1;32m      4\u001b[0m \u001b[0mwin\u001b[0m\u001b[0;34m.\u001b[0m\u001b[0mgeometry\u001b[0m\u001b[0;34m(\u001b[0m\u001b[0;34m\"312x324\"\u001b[0m\u001b[0;34m)\u001b[0m  \u001b[0;31m#for the size of the window\u001b[0m\u001b[0;34m\u001b[0m\u001b[0;34m\u001b[0m\u001b[0m\n\u001b[1;32m      5\u001b[0m \u001b[0mwin\u001b[0m\u001b[0;34m.\u001b[0m\u001b[0mresizable\u001b[0m\u001b[0;34m(\u001b[0m\u001b[0;36m0\u001b[0m\u001b[0;34m,\u001b[0m \u001b[0;36m0\u001b[0m\u001b[0;34m)\u001b[0m  \u001b[0;31m# to prevent from resizing the window\u001b[0m\u001b[0;34m\u001b[0m\u001b[0;34m\u001b[0m\u001b[0m\n",
            "\u001b[0;32m/usr/lib/python3.7/tkinter/__init__.py\u001b[0m in \u001b[0;36m__init__\u001b[0;34m(self, screenName, baseName, className, useTk, sync, use)\u001b[0m\n\u001b[1;32m   2021\u001b[0m                 \u001b[0mbaseName\u001b[0m \u001b[0;34m=\u001b[0m \u001b[0mbaseName\u001b[0m \u001b[0;34m+\u001b[0m \u001b[0mext\u001b[0m\u001b[0;34m\u001b[0m\u001b[0;34m\u001b[0m\u001b[0m\n\u001b[1;32m   2022\u001b[0m         \u001b[0minteractive\u001b[0m \u001b[0;34m=\u001b[0m \u001b[0;36m0\u001b[0m\u001b[0;34m\u001b[0m\u001b[0;34m\u001b[0m\u001b[0m\n\u001b[0;32m-> 2023\u001b[0;31m         \u001b[0mself\u001b[0m\u001b[0;34m.\u001b[0m\u001b[0mtk\u001b[0m \u001b[0;34m=\u001b[0m \u001b[0m_tkinter\u001b[0m\u001b[0;34m.\u001b[0m\u001b[0mcreate\u001b[0m\u001b[0;34m(\u001b[0m\u001b[0mscreenName\u001b[0m\u001b[0;34m,\u001b[0m \u001b[0mbaseName\u001b[0m\u001b[0;34m,\u001b[0m \u001b[0mclassName\u001b[0m\u001b[0;34m,\u001b[0m \u001b[0minteractive\u001b[0m\u001b[0;34m,\u001b[0m \u001b[0mwantobjects\u001b[0m\u001b[0;34m,\u001b[0m \u001b[0museTk\u001b[0m\u001b[0;34m,\u001b[0m \u001b[0msync\u001b[0m\u001b[0;34m,\u001b[0m \u001b[0muse\u001b[0m\u001b[0;34m)\u001b[0m\u001b[0;34m\u001b[0m\u001b[0;34m\u001b[0m\u001b[0m\n\u001b[0m\u001b[1;32m   2024\u001b[0m         \u001b[0;32mif\u001b[0m \u001b[0museTk\u001b[0m\u001b[0;34m:\u001b[0m\u001b[0;34m\u001b[0m\u001b[0;34m\u001b[0m\u001b[0m\n\u001b[1;32m   2025\u001b[0m             \u001b[0mself\u001b[0m\u001b[0;34m.\u001b[0m\u001b[0m_loadtk\u001b[0m\u001b[0;34m(\u001b[0m\u001b[0;34m)\u001b[0m\u001b[0;34m\u001b[0m\u001b[0;34m\u001b[0m\u001b[0m\n",
            "\u001b[0;31mTclError\u001b[0m: no display name and no $DISPLAY environment variable"
          ]
        }
      ]
    },
    {
      "cell_type": "markdown",
      "metadata": {
        "id": "xAH5ASroPDRb"
      },
      "source": [
        "**AIM**:\n",
        "b. Write a program to implement the following figures using turtle\n",
        "**DESCRIPTION**:\n",
        "The turtle module is an extended reimplementation of the same-named module from the Python\n",
        "standard distribution up to version Python 2.5.\n",
        "It tries to keep the merits of the old turtle module and to be (nearly) 100% compatible with it.\n",
        "This means in the first place to enable the learning programmer to use all the commands,\n",
        "classes and methods interactively when using the module from within IDLE run with the -n\n",
        "switch.\n",
        "The turtle module provides turtle graphics primitives, in both object-oriented and procedure-\n",
        "oriented ways. Because it uses tkinter for the underlying graphics, it needs a version of Python installed with Tk support"
      ]
    },
    {
      "cell_type": "code",
      "metadata": {
        "colab": {
          "base_uri": "https://localhost:8080/",
          "height": 374
        },
        "id": "Eibunzc3PXB1",
        "outputId": "479603b0-03da-4402-92f7-c67bfbca0c0f"
      },
      "source": [
        "import turtle as t\n",
        "\n",
        "c=[\"red\",\"green\",\"blue\"] \n",
        "i=0\n",
        "t.pensize(5)\n",
        "\n",
        "for angle in range(0,360,30): \n",
        "  if i>2:\n",
        "    i=0turtle\n",
        "  t.color(c[i])\n",
        "  t.seth(angle)\n",
        "  t.circle(50)\n",
        "  i+=1"
      ],
      "execution_count": null,
      "outputs": [
        {
          "output_type": "error",
          "ename": "TclError",
          "evalue": "ignored",
          "traceback": [
            "\u001b[0;31m---------------------------------------------------------------------------\u001b[0m",
            "\u001b[0;31mTclError\u001b[0m                                  Traceback (most recent call last)",
            "\u001b[0;32m<ipython-input-10-a33ccd7c65e6>\u001b[0m in \u001b[0;36m<module>\u001b[0;34m()\u001b[0m\n\u001b[1;32m      3\u001b[0m \u001b[0mc\u001b[0m\u001b[0;34m=\u001b[0m\u001b[0;34m[\u001b[0m\u001b[0;34m\"red\"\u001b[0m\u001b[0;34m,\u001b[0m\u001b[0;34m\"green\"\u001b[0m\u001b[0;34m,\u001b[0m\u001b[0;34m\"blue\"\u001b[0m\u001b[0;34m]\u001b[0m\u001b[0;34m\u001b[0m\u001b[0;34m\u001b[0m\u001b[0m\n\u001b[1;32m      4\u001b[0m \u001b[0mi\u001b[0m\u001b[0;34m=\u001b[0m\u001b[0;36m0\u001b[0m\u001b[0;34m\u001b[0m\u001b[0;34m\u001b[0m\u001b[0m\n\u001b[0;32m----> 5\u001b[0;31m \u001b[0mt\u001b[0m\u001b[0;34m.\u001b[0m\u001b[0mpensize\u001b[0m\u001b[0;34m(\u001b[0m\u001b[0;36m5\u001b[0m\u001b[0;34m)\u001b[0m\u001b[0;34m\u001b[0m\u001b[0;34m\u001b[0m\u001b[0m\n\u001b[0m\u001b[1;32m      6\u001b[0m \u001b[0;34m\u001b[0m\u001b[0m\n\u001b[1;32m      7\u001b[0m \u001b[0;32mfor\u001b[0m \u001b[0mangle\u001b[0m \u001b[0;32min\u001b[0m \u001b[0mrange\u001b[0m\u001b[0;34m(\u001b[0m\u001b[0;36m0\u001b[0m\u001b[0;34m,\u001b[0m\u001b[0;36m360\u001b[0m\u001b[0;34m,\u001b[0m\u001b[0;36m30\u001b[0m\u001b[0;34m)\u001b[0m\u001b[0;34m:\u001b[0m\u001b[0;34m\u001b[0m\u001b[0;34m\u001b[0m\u001b[0m\n",
            "\u001b[0;32m/usr/lib/python3.7/turtle.py\u001b[0m in \u001b[0;36mpensize\u001b[0;34m(width)\u001b[0m\n",
            "\u001b[0;32m/usr/lib/python3.7/turtle.py\u001b[0m in \u001b[0;36m__init__\u001b[0;34m(self, shape, undobuffersize, visible)\u001b[0m\n\u001b[1;32m   3810\u001b[0m                  visible=_CFG[\"visible\"]):\n\u001b[1;32m   3811\u001b[0m         \u001b[0;32mif\u001b[0m \u001b[0mTurtle\u001b[0m\u001b[0;34m.\u001b[0m\u001b[0m_screen\u001b[0m \u001b[0;32mis\u001b[0m \u001b[0;32mNone\u001b[0m\u001b[0;34m:\u001b[0m\u001b[0;34m\u001b[0m\u001b[0;34m\u001b[0m\u001b[0m\n\u001b[0;32m-> 3812\u001b[0;31m             \u001b[0mTurtle\u001b[0m\u001b[0;34m.\u001b[0m\u001b[0m_screen\u001b[0m \u001b[0;34m=\u001b[0m \u001b[0mScreen\u001b[0m\u001b[0;34m(\u001b[0m\u001b[0;34m)\u001b[0m\u001b[0;34m\u001b[0m\u001b[0;34m\u001b[0m\u001b[0m\n\u001b[0m\u001b[1;32m   3813\u001b[0m         RawTurtle.__init__(self, Turtle._screen,\n\u001b[1;32m   3814\u001b[0m                            \u001b[0mshape\u001b[0m\u001b[0;34m=\u001b[0m\u001b[0mshape\u001b[0m\u001b[0;34m,\u001b[0m\u001b[0;34m\u001b[0m\u001b[0;34m\u001b[0m\u001b[0m\n",
            "\u001b[0;32m/usr/lib/python3.7/turtle.py\u001b[0m in \u001b[0;36mScreen\u001b[0;34m()\u001b[0m\n\u001b[1;32m   3660\u001b[0m     else return the existing one.\"\"\"\n\u001b[1;32m   3661\u001b[0m     \u001b[0;32mif\u001b[0m \u001b[0mTurtle\u001b[0m\u001b[0;34m.\u001b[0m\u001b[0m_screen\u001b[0m \u001b[0;32mis\u001b[0m \u001b[0;32mNone\u001b[0m\u001b[0;34m:\u001b[0m\u001b[0;34m\u001b[0m\u001b[0;34m\u001b[0m\u001b[0m\n\u001b[0;32m-> 3662\u001b[0;31m         \u001b[0mTurtle\u001b[0m\u001b[0;34m.\u001b[0m\u001b[0m_screen\u001b[0m \u001b[0;34m=\u001b[0m \u001b[0m_Screen\u001b[0m\u001b[0;34m(\u001b[0m\u001b[0;34m)\u001b[0m\u001b[0;34m\u001b[0m\u001b[0;34m\u001b[0m\u001b[0m\n\u001b[0m\u001b[1;32m   3663\u001b[0m     \u001b[0;32mreturn\u001b[0m \u001b[0mTurtle\u001b[0m\u001b[0;34m.\u001b[0m\u001b[0m_screen\u001b[0m\u001b[0;34m\u001b[0m\u001b[0;34m\u001b[0m\u001b[0m\n\u001b[1;32m   3664\u001b[0m \u001b[0;34m\u001b[0m\u001b[0m\n",
            "\u001b[0;32m/usr/lib/python3.7/turtle.py\u001b[0m in \u001b[0;36m__init__\u001b[0;34m(self)\u001b[0m\n\u001b[1;32m   3676\u001b[0m         \u001b[0;31m# preserved (perhaps by passing it as an optional parameter)\u001b[0m\u001b[0;34m\u001b[0m\u001b[0;34m\u001b[0m\u001b[0;34m\u001b[0m\u001b[0m\n\u001b[1;32m   3677\u001b[0m         \u001b[0;32mif\u001b[0m \u001b[0m_Screen\u001b[0m\u001b[0;34m.\u001b[0m\u001b[0m_root\u001b[0m \u001b[0;32mis\u001b[0m \u001b[0;32mNone\u001b[0m\u001b[0;34m:\u001b[0m\u001b[0;34m\u001b[0m\u001b[0;34m\u001b[0m\u001b[0m\n\u001b[0;32m-> 3678\u001b[0;31m             \u001b[0m_Screen\u001b[0m\u001b[0;34m.\u001b[0m\u001b[0m_root\u001b[0m \u001b[0;34m=\u001b[0m \u001b[0mself\u001b[0m\u001b[0;34m.\u001b[0m\u001b[0m_root\u001b[0m \u001b[0;34m=\u001b[0m \u001b[0m_Root\u001b[0m\u001b[0;34m(\u001b[0m\u001b[0;34m)\u001b[0m\u001b[0;34m\u001b[0m\u001b[0;34m\u001b[0m\u001b[0m\n\u001b[0m\u001b[1;32m   3679\u001b[0m             \u001b[0mself\u001b[0m\u001b[0;34m.\u001b[0m\u001b[0m_root\u001b[0m\u001b[0;34m.\u001b[0m\u001b[0mtitle\u001b[0m\u001b[0;34m(\u001b[0m\u001b[0m_Screen\u001b[0m\u001b[0;34m.\u001b[0m\u001b[0m_title\u001b[0m\u001b[0;34m)\u001b[0m\u001b[0;34m\u001b[0m\u001b[0;34m\u001b[0m\u001b[0m\n\u001b[1;32m   3680\u001b[0m             \u001b[0mself\u001b[0m\u001b[0;34m.\u001b[0m\u001b[0m_root\u001b[0m\u001b[0;34m.\u001b[0m\u001b[0mondestroy\u001b[0m\u001b[0;34m(\u001b[0m\u001b[0mself\u001b[0m\u001b[0;34m.\u001b[0m\u001b[0m_destroy\u001b[0m\u001b[0;34m)\u001b[0m\u001b[0;34m\u001b[0m\u001b[0;34m\u001b[0m\u001b[0m\n",
            "\u001b[0;32m/usr/lib/python3.7/turtle.py\u001b[0m in \u001b[0;36m__init__\u001b[0;34m(self)\u001b[0m\n\u001b[1;32m    432\u001b[0m     \u001b[0;34m\"\"\"Root class for Screen based on Tkinter.\"\"\"\u001b[0m\u001b[0;34m\u001b[0m\u001b[0;34m\u001b[0m\u001b[0m\n\u001b[1;32m    433\u001b[0m     \u001b[0;32mdef\u001b[0m \u001b[0m__init__\u001b[0m\u001b[0;34m(\u001b[0m\u001b[0mself\u001b[0m\u001b[0;34m)\u001b[0m\u001b[0;34m:\u001b[0m\u001b[0;34m\u001b[0m\u001b[0;34m\u001b[0m\u001b[0m\n\u001b[0;32m--> 434\u001b[0;31m         \u001b[0mTK\u001b[0m\u001b[0;34m.\u001b[0m\u001b[0mTk\u001b[0m\u001b[0;34m.\u001b[0m\u001b[0m__init__\u001b[0m\u001b[0;34m(\u001b[0m\u001b[0mself\u001b[0m\u001b[0;34m)\u001b[0m\u001b[0;34m\u001b[0m\u001b[0;34m\u001b[0m\u001b[0m\n\u001b[0m\u001b[1;32m    435\u001b[0m \u001b[0;34m\u001b[0m\u001b[0m\n\u001b[1;32m    436\u001b[0m     \u001b[0;32mdef\u001b[0m \u001b[0msetupcanvas\u001b[0m\u001b[0;34m(\u001b[0m\u001b[0mself\u001b[0m\u001b[0;34m,\u001b[0m \u001b[0mwidth\u001b[0m\u001b[0;34m,\u001b[0m \u001b[0mheight\u001b[0m\u001b[0;34m,\u001b[0m \u001b[0mcwidth\u001b[0m\u001b[0;34m,\u001b[0m \u001b[0mcheight\u001b[0m\u001b[0;34m)\u001b[0m\u001b[0;34m:\u001b[0m\u001b[0;34m\u001b[0m\u001b[0;34m\u001b[0m\u001b[0m\n",
            "\u001b[0;32m/usr/lib/python3.7/tkinter/__init__.py\u001b[0m in \u001b[0;36m__init__\u001b[0;34m(self, screenName, baseName, className, useTk, sync, use)\u001b[0m\n\u001b[1;32m   2021\u001b[0m                 \u001b[0mbaseName\u001b[0m \u001b[0;34m=\u001b[0m \u001b[0mbaseName\u001b[0m \u001b[0;34m+\u001b[0m \u001b[0mext\u001b[0m\u001b[0;34m\u001b[0m\u001b[0;34m\u001b[0m\u001b[0m\n\u001b[1;32m   2022\u001b[0m         \u001b[0minteractive\u001b[0m \u001b[0;34m=\u001b[0m \u001b[0;36m0\u001b[0m\u001b[0;34m\u001b[0m\u001b[0;34m\u001b[0m\u001b[0m\n\u001b[0;32m-> 2023\u001b[0;31m         \u001b[0mself\u001b[0m\u001b[0;34m.\u001b[0m\u001b[0mtk\u001b[0m \u001b[0;34m=\u001b[0m \u001b[0m_tkinter\u001b[0m\u001b[0;34m.\u001b[0m\u001b[0mcreate\u001b[0m\u001b[0;34m(\u001b[0m\u001b[0mscreenName\u001b[0m\u001b[0;34m,\u001b[0m \u001b[0mbaseName\u001b[0m\u001b[0;34m,\u001b[0m \u001b[0mclassName\u001b[0m\u001b[0;34m,\u001b[0m \u001b[0minteractive\u001b[0m\u001b[0;34m,\u001b[0m \u001b[0mwantobjects\u001b[0m\u001b[0;34m,\u001b[0m \u001b[0museTk\u001b[0m\u001b[0;34m,\u001b[0m \u001b[0msync\u001b[0m\u001b[0;34m,\u001b[0m \u001b[0muse\u001b[0m\u001b[0;34m)\u001b[0m\u001b[0;34m\u001b[0m\u001b[0;34m\u001b[0m\u001b[0m\n\u001b[0m\u001b[1;32m   2024\u001b[0m         \u001b[0;32mif\u001b[0m \u001b[0museTk\u001b[0m\u001b[0;34m:\u001b[0m\u001b[0;34m\u001b[0m\u001b[0;34m\u001b[0m\u001b[0m\n\u001b[1;32m   2025\u001b[0m             \u001b[0mself\u001b[0m\u001b[0;34m.\u001b[0m\u001b[0m_loadtk\u001b[0m\u001b[0;34m(\u001b[0m\u001b[0;34m)\u001b[0m\u001b[0;34m\u001b[0m\u001b[0;34m\u001b[0m\u001b[0m\n",
            "\u001b[0;31mTclError\u001b[0m: no display name and no $DISPLAY environment variable"
          ]
        }
      ]
    },
    {
      "cell_type": "markdown",
      "metadata": {
        "id": "teJy3e0bQEjD"
      },
      "source": [
        "Exercise 15: \n",
        "**AIM**:\n",
        "a)write a test-case to check the function even numbers which return true on passing a list of all even numbers\n",
        "**DESCRIPTION**:\n",
        "TestCase is used to create test cases by subclassing it. The last block of the code at the bottom\n",
        "allows us to run all the tests just by running the file. Basic terms used in the code : assertEqual()\n",
        "– This statement is used to check if the result obtained is equal to the expected result\n",
        "test case:\n",
        "A test case is a set of conditions which is used to determine whether a system under test works\n",
        "correctly."
      ]
    },
    {
      "cell_type": "code",
      "metadata": {
        "colab": {
          "base_uri": "https://localhost:8080/"
        },
        "id": "es5gI92pSjf1",
        "outputId": "42168d6a-2dc9-4921-d716-b82e1f6c86ab"
      },
      "source": [
        "def evnNo(num):\n",
        "  stat=True\n",
        "  for i in num:\n",
        "    if i%2==1:\n",
        "      stat=False\n",
        "      break\n",
        "  return stat\n",
        "\n",
        "numbers=[]\n",
        "\n",
        "print(\"Enter the FIVE numbers\")\n",
        "for i in range(0,5):\n",
        "  numbers.append(int(input(\"Enter a value: \")))\n",
        "print(evnNo(numbers))"
      ],
      "execution_count": null,
      "outputs": [
        {
          "output_type": "stream",
          "name": "stdout",
          "text": [
            "Enter the FIVE numbers\n",
            "Enter a value: 2\n",
            "Enter a value: 8\n",
            "Enter a value: 6\n",
            "Enter a value: 4\n",
            "Enter a value: 8\n",
            "True\n"
          ]
        }
      ]
    },
    {
      "cell_type": "markdown",
      "metadata": {
        "id": "8RfzRb15Ta_D"
      },
      "source": [
        "**AIM**:\n",
        "b)write a test-case to check the function reverse string which returns the reversed string\n",
        "**DESCRIPTION**:\n",
        "Python string library does’nt support the in-built “reverse()” as done by other python containers\n",
        "like list, hence knowing other methods to reverse string can prove to be useful. This article\n",
        "discusses several ways to achieve it.\n",
        "The reversed() returns the reversed iterator of the given string and then its elements are joined\n",
        "empty string separated using join(). And reversed order string is formed.\n"
      ]
    },
    {
      "cell_type": "code",
      "metadata": {
        "colab": {
          "base_uri": "https://localhost:8080/"
        },
        "id": "Y06gptKFTslY",
        "outputId": "83c63449-d212-4661-dea1-f2f6202c795c"
      },
      "source": [
        "def rev_str(st):\n",
        "  return st[::-1]\n",
        "\n",
        "st=\"Madhu varma\" \n",
        "print(\"Given String is: \",st)\n",
        "\n",
        "print(\"Reverse is: \",rev_str(st))"
      ],
      "execution_count": null,
      "outputs": [
        {
          "output_type": "stream",
          "name": "stdout",
          "text": [
            "Given String is:  Madhu varma\n",
            "Reverse is:  amrav uhdaM\n"
          ]
        }
      ]
    },
    {
      "cell_type": "markdown",
      "metadata": {
        "id": "SRJAbSAYT9Zy"
      },
      "source": [
        "Exercise 16: \n",
        "**AIM**:\n",
        "a)Build any one classical data structure\n",
        "**DESCRIPTION**:\n",
        "What is a Data Structure?\n",
        "Organizing, managing and storing data is important as it enables easier access and eficient\n",
        "modifications. Data Structures allows you to organize your data in such a way that enables you\n",
        "to store collections of data, relate them and perform operations on them accordingly.\n",
        "Stack Stacks are linear Data Structures which are based on the principle of Last-In-First-Out\n",
        "(LIFO) where data which is entered last will be the first to get accessed. It is built using the array\n",
        "structure and has operations namely, pushing (adding) elements, popping (deleting) elements\n",
        "and accessing elements only from one point in the stack called as the TOP. This TOP is the\n",
        "pointer to the current position of the stack. Stacks are prominently used in applications such as\n",
        "Recursive Programming, reversing words, undo mechanisms in word editors and so forth."
      ]
    },
    {
      "cell_type": "code",
      "metadata": {
        "colab": {
          "base_uri": "https://localhost:8080/",
          "height": 690
        },
        "id": "nOFROc0TUIwf",
        "outputId": "55269199-07c6-4934-dc77-3d713b249f04"
      },
      "source": [
        "import sys\n",
        "a=[]\n",
        "\n",
        "while True:\n",
        "  print (\"\\n1.PUSH 2.POP 3.DISPLAY 4.EXIT\")\n",
        "  ch=int(input(\"Enter Your Choice: \"))\n",
        "  if ch==1:\n",
        "    ele=int(input(\"Enter element: \"))\n",
        "    a.append(ele) \n",
        "    print(\"Inserted\")\n",
        "  elif ch==2:\n",
        "    if len(a)==0:\n",
        "      print(\"\\t STACK IS EMPTY\")\n",
        "      \n",
        "    else:\n",
        "      print(\"Deleted element is: \", a[len(a)-1])\n",
        "      a.remove(a[len(a)-1])\n",
        "  elif ch==3:\n",
        "    if len(a)==0:\n",
        "      print(\"\\t STACK IS EMPTY\")\n",
        "    else:\n",
        "      print (\"\\tThe Elements in Stack is: \")\n",
        "      for i in reversed(a):\n",
        "        print (i)\n",
        "  elif ch==4:\n",
        "      sys.exit()\n",
        "  else:\n",
        "      print (\"\\tINVALID CHOICE\")"
      ],
      "execution_count": null,
      "outputs": [
        {
          "name": "stdout",
          "output_type": "stream",
          "text": [
            "\n",
            "1.PUSH 2.POP 3.DISPLAY 4.EXIT\n",
            "Enter Your Choice: 1\n",
            "Enter element: 10\n",
            "Inserted\n",
            "\n",
            "1.PUSH 2.POP 3.DISPLAY 4.EXIT\n",
            "Enter Your Choice: 1\n",
            "Enter element: 20\n",
            "Inserted\n",
            "\n",
            "1.PUSH 2.POP 3.DISPLAY 4.EXIT\n",
            "Enter Your Choice: 1\n",
            "Enter element: 30\n",
            "Inserted\n",
            "\n",
            "1.PUSH 2.POP 3.DISPLAY 4.EXIT\n",
            "Enter Your Choice: 5\n",
            "\tINVALID CHOICE\n",
            "\n",
            "1.PUSH 2.POP 3.DISPLAY 4.EXIT\n",
            "Enter Your Choice: 2\n",
            "Deleted element is:  30\n",
            "\n",
            "1.PUSH 2.POP 3.DISPLAY 4.EXIT\n",
            "Enter Your Choice: 3\n",
            "\tThe Elements in Stack is: \n",
            "20\n",
            "10\n",
            "\n",
            "1.PUSH 2.POP 3.DISPLAY 4.EXIT\n",
            "Enter Your Choice: 4\n"
          ]
        },
        {
          "output_type": "error",
          "ename": "SystemExit",
          "evalue": "ignored",
          "traceback": [
            "An exception has occurred, use %tb to see the full traceback.\n",
            "\u001b[0;31mSystemExit\u001b[0m\n"
          ]
        },
        {
          "output_type": "stream",
          "name": "stderr",
          "text": [
            "/usr/local/lib/python3.7/dist-packages/IPython/core/interactiveshell.py:2890: UserWarning: To exit: use 'exit', 'quit', or Ctrl-D.\n",
            "  warn(\"To exit: use 'exit', 'quit', or Ctrl-D.\", stacklevel=1)\n"
          ]
        }
      ]
    },
    {
      "cell_type": "markdown",
      "metadata": {
        "id": "6tz-EnUZVqR7"
      },
      "source": [
        "**AIM**:\n",
        "b)write a program to solve knapsack problem\n",
        "**DESCRIPTION**:\n",
        "python program for 0-1 knapsack problem\n",
        "Problem statement-We are given weights and values of n items, we need to put these items in a bag of capacity W up to the maximum capacity w. We need to carry a maximum number of items and return its value."
      ]
    },
    {
      "cell_type": "code",
      "metadata": {
        "colab": {
          "base_uri": "https://localhost:8080/"
        },
        "id": "NANujIGPWL8G",
        "outputId": "7681143d-aa93-45f4-9102-eea02954faf0"
      },
      "source": [
        "def knapSack(W, wt, val, n):\n",
        "   K= [[0 for x in range(W+1)] for x in range(n+1)]\n",
        "   for i in range(n+1):\n",
        "     for w in range(W+1):\n",
        "       if i==0 or w==0:\n",
        "          K[i][w] = 0\n",
        "       elif wt[i-1]<=w:\n",
        "          K[i][w]= max(val[i-1]+K[i-1][w-wt[i-1]],K[i-1][w])\n",
        "       else:\n",
        "          K[i][w] = K[i-1][w]\n",
        "   return K[n][W]\n",
        "val = [5, 3, 4]\n",
        "wt = [3, 2, 1]\n",
        "W = 5\n",
        "n= len(val)\n",
        "print(\"Maximum value knapsack of capacity W: \", knapSack(W, wt,val,n))"
      ],
      "execution_count": null,
      "outputs": [
        {
          "output_type": "stream",
          "name": "stdout",
          "text": [
            "Maximum value knapsack of capacity W:  9\n"
          ]
        }
      ]
    },
    {
      "cell_type": "markdown",
      "metadata": {
        "id": "cGtU_aDhWl87"
      },
      "source": [
        "Exercise 17 & 18- Data analysis\n",
        "**AIM**:\n",
        "1. Data analysis or manipulation using the following packages\n",
        "a) Numpy b) Pandas a) Scipy b) matplotlib\n",
        "**DESCRIPTION**:\n",
        "Learn how to analyze data using Python..... It includes following parts: Data Analysis libraries:\n",
        "will learn to use Pandas, Numpy and Scipy libraries to work with a sample dataset. We will\n",
        "introduce you to pandas, an open-source library, and we will use it to load, manipulate, analyze,\n",
        "and visualize cool datasets.\n",
        "**SciPy** is a free and open-source Python library used for scientific computing and technical\n",
        "computing. It is a collection of mathematical algorithms and convenience functions built on the\n",
        "**NumPy** extension of Python\n",
        "NumPy is the fundamental package for scientific computing in Python. .... NumPy arrays\n",
        "facilitate advanced mathematical and other types of operations on large numbers of data.\n",
        "**Matplotlib** is a plotting library for the Python programming language and its numerical\n",
        "mathematics extension NumPy. It provides an object-oriented API for embedding plots into\n",
        "applications using general-purpose GUI toolkits like Tkinter, wxPython, Qt, or GTK\n",
        "**Pandas** is an open source Python package that is most widely used for data science/data\n",
        "analysis and machine learning tasks. It is built on top of another package named Numpy, which\n",
        "provides support for multi-dimensional arrays.\n",
        "**Scikit-learn** is probably the most useful library for machine learning in Python. The sklearn\n",
        "library contains a lot of eficient tools for machine learning and statistical modeling including\n",
        "classification, regression, clustering and dimensionality reduction.\n",
        "**Seaborn** is a library in Python predominantly used for making statistical graphics. Seaborn is a\n",
        "data visualization library built on top of matplotlib and closely integrated with pandas data\n",
        "structures in Python"
      ]
    },
    {
      "cell_type": "code",
      "metadata": {
        "colab": {
          "base_uri": "https://localhost:8080/"
        },
        "id": "drlllUXXW5yL",
        "outputId": "88b35a47-6b57-475d-b4ab-e11004e1f0ed"
      },
      "source": [
        "import sys\n",
        "print('Python : {}'.format(sys.version))"
      ],
      "execution_count": null,
      "outputs": [
        {
          "output_type": "stream",
          "name": "stdout",
          "text": [
            "Python : 3.7.11 (default, Jul  3 2021, 18:01:19) \n",
            "[GCC 7.5.0]\n"
          ]
        }
      ]
    },
    {
      "cell_type": "code",
      "metadata": {
        "colab": {
          "base_uri": "https://localhost:8080/"
        },
        "id": "SEdfVlC-XGKC",
        "outputId": "b87d7204-d4a9-4129-a1d4-2f987db7d2ef"
      },
      "source": [
        "import scipy\n",
        "print('scipy: {}'.format(scipy.__version__))"
      ],
      "execution_count": null,
      "outputs": [
        {
          "output_type": "stream",
          "name": "stdout",
          "text": [
            "scipy: 1.4.1\n"
          ]
        }
      ]
    },
    {
      "cell_type": "code",
      "metadata": {
        "colab": {
          "base_uri": "https://localhost:8080/"
        },
        "id": "yrUDepm1XZCG",
        "outputId": "8e1d88c6-4adf-4e83-b511-39b229b506b6"
      },
      "source": [
        "import numpy\n",
        "print('numpy: {}'.format(numpy.__version__))"
      ],
      "execution_count": null,
      "outputs": [
        {
          "output_type": "stream",
          "name": "stdout",
          "text": [
            "numpy: 1.19.5\n"
          ]
        }
      ]
    },
    {
      "cell_type": "code",
      "metadata": {
        "colab": {
          "base_uri": "https://localhost:8080/"
        },
        "id": "4euJk04FXk3k",
        "outputId": "c36006ee-bb1d-434a-d7b5-9dfe5cf6bae8"
      },
      "source": [
        "import matplotlib\n",
        "print('matplotlib: {}'.format(matplotlib.__version__))"
      ],
      "execution_count": null,
      "outputs": [
        {
          "output_type": "stream",
          "name": "stdout",
          "text": [
            "matplotlib: 3.2.2\n"
          ]
        }
      ]
    },
    {
      "cell_type": "code",
      "metadata": {
        "colab": {
          "base_uri": "https://localhost:8080/"
        },
        "id": "sPt_5FY-X-bY",
        "outputId": "4dc07d57-f27b-4f90-f370-2525dd6a137b"
      },
      "source": [
        "import pandas\n",
        "print('pandas: {}'.format(pandas.__version__))"
      ],
      "execution_count": null,
      "outputs": [
        {
          "output_type": "stream",
          "name": "stdout",
          "text": [
            "pandas: 1.1.5\n"
          ]
        }
      ]
    },
    {
      "cell_type": "code",
      "metadata": {
        "id": "ekSDO3d3YDjU"
      },
      "source": [
        ""
      ],
      "execution_count": null,
      "outputs": []
    },
    {
      "cell_type": "code",
      "metadata": {
        "colab": {
          "base_uri": "https://localhost:8080/"
        },
        "id": "hQZ2Tus5YDzx",
        "outputId": "4199847d-b680-45c8-cdeb-b41d9dd990ea"
      },
      "source": [
        "import sklearn\n",
        "print('sklearn: {}'.format(sklearn.__version__))"
      ],
      "execution_count": null,
      "outputs": [
        {
          "output_type": "stream",
          "name": "stdout",
          "text": [
            "sklearn: 0.22.2.post1\n"
          ]
        }
      ]
    },
    {
      "cell_type": "code",
      "metadata": {
        "colab": {
          "base_uri": "https://localhost:8080/"
        },
        "id": "gZF0k-JtYN-S",
        "outputId": "b2322912-53a8-4daf-f24b-c74fdeb40227"
      },
      "source": [
        "import seaborn\n",
        "print('seaborn: {}'.format(seaborn.__version__))"
      ],
      "execution_count": null,
      "outputs": [
        {
          "output_type": "stream",
          "name": "stdout",
          "text": [
            "seaborn: 0.11.1\n"
          ]
        }
      ]
    },
    {
      "cell_type": "code",
      "metadata": {
        "colab": {
          "base_uri": "https://localhost:8080/"
        },
        "id": "cW5VSxHpYgb6",
        "outputId": "79294271-8ed9-4eeb-851a-2a8351037357"
      },
      "source": [
        "import seaborn\n",
        "\n",
        "print('seaborn: {}'.format(seaborn.__version__))\n",
        "\n",
        "import urllib\n",
        "\n",
        "print('urlib: {}'.format(urllib.__name__))\n",
        "\n",
        "import csv \n",
        "print('csv: {}'.format(csv.__version__))"
      ],
      "execution_count": null,
      "outputs": [
        {
          "output_type": "stream",
          "name": "stdout",
          "text": [
            "seaborn: 0.11.1\n",
            "urlib: urllib\n",
            "csv: 1.0\n"
          ]
        }
      ]
    },
    {
      "cell_type": "markdown",
      "metadata": {
        "id": "FVEOM8vYY4GN"
      },
      "source": [
        "**NumPy**"
      ]
    },
    {
      "cell_type": "code",
      "metadata": {
        "colab": {
          "base_uri": "https://localhost:8080/"
        },
        "id": "_ChC8UgGY7mT",
        "outputId": "b5eedf6f-368e-4953-c9b3-609e9450dd19"
      },
      "source": [
        "import numpy as np\n",
        "a=np.array([0,1,2])\n",
        "print(type(a))\n",
        "print(a.shape)\n",
        "print(a[0])\n",
        "print(a[1])\n",
        "print(a[2])\n",
        "\n",
        "a[0]=5\n",
        "print(a)"
      ],
      "execution_count": null,
      "outputs": [
        {
          "output_type": "stream",
          "name": "stdout",
          "text": [
            "<class 'numpy.ndarray'>\n",
            "(3,)\n",
            "0\n",
            "1\n",
            "2\n",
            "[5 1 2]\n"
          ]
        }
      ]
    },
    {
      "cell_type": "code",
      "metadata": {
        "colab": {
          "base_uri": "https://localhost:8080/"
        },
        "id": "Wp-IGH4jZQ0I",
        "outputId": "3429a5b1-d96e-431b-a97c-026250ca4467"
      },
      "source": [
        "b=np.array([[0,1,2],[3,4,5]])\n",
        "print(b.shape)\n",
        "print(b)\n",
        "print(b[0,0],b[0,1],b[1,0])"
      ],
      "execution_count": null,
      "outputs": [
        {
          "output_type": "stream",
          "name": "stdout",
          "text": [
            "(2, 3)\n",
            "[[0 1 2]\n",
            " [3 4 5]]\n",
            "0 1 3\n"
          ]
        }
      ]
    },
    {
      "cell_type": "code",
      "metadata": {
        "colab": {
          "base_uri": "https://localhost:8080/"
        },
        "id": "Czs-kNebaJlr",
        "outputId": "f52260c0-f7bb-4ec5-c40b-3487aa8e5252"
      },
      "source": [
        "a=np.zeros((3,3))\n",
        "print(a)"
      ],
      "execution_count": null,
      "outputs": [
        {
          "output_type": "stream",
          "name": "stdout",
          "text": [
            "[[0. 0. 0.]\n",
            " [0. 0. 0.]\n",
            " [0. 0. 0.]]\n"
          ]
        }
      ]
    },
    {
      "cell_type": "code",
      "metadata": {
        "colab": {
          "base_uri": "https://localhost:8080/"
        },
        "id": "Ypq1LktxaMiH",
        "outputId": "1b032386-8982-490f-896a-72b0afb64d50"
      },
      "source": [
        "b=np.ones((2,2))\n",
        "print(b)"
      ],
      "execution_count": null,
      "outputs": [
        {
          "output_type": "stream",
          "name": "stdout",
          "text": [
            "[[1. 1.]\n",
            " [1. 1.]]\n"
          ]
        }
      ]
    },
    {
      "cell_type": "code",
      "metadata": {
        "colab": {
          "base_uri": "https://localhost:8080/"
        },
        "id": "JfD52wuxaU6t",
        "outputId": "12fc9556-dc20-471a-ad83-5a895101bbd0"
      },
      "source": [
        "c=np.full((3,3),7)\n",
        "print(c)"
      ],
      "execution_count": null,
      "outputs": [
        {
          "output_type": "stream",
          "name": "stdout",
          "text": [
            "[[7 7 7]\n",
            " [7 7 7]\n",
            " [7 7 7]]\n"
          ]
        }
      ]
    },
    {
      "cell_type": "code",
      "metadata": {
        "colab": {
          "base_uri": "https://localhost:8080/"
        },
        "id": "okDpXFR5acg6",
        "outputId": "492e6508-896e-46b9-cc79-e552f3e4cce4"
      },
      "source": [
        "d=np.random.random((3,3))\n",
        "print(d)"
      ],
      "execution_count": null,
      "outputs": [
        {
          "output_type": "stream",
          "name": "stdout",
          "text": [
            "[[0.12589758 0.94707854 0.03939227]\n",
            " [0.86352346 0.88141979 0.56491319]\n",
            " [0.39157924 0.0641318  0.99922073]]\n"
          ]
        }
      ]
    },
    {
      "cell_type": "code",
      "metadata": {
        "colab": {
          "base_uri": "https://localhost:8080/"
        },
        "id": "QPkOb6KyakLx",
        "outputId": "6dba9dbd-ffcf-443d-838f-72a566464cfa"
      },
      "source": [
        "e=np.eye(3)\n",
        "print(e)"
      ],
      "execution_count": null,
      "outputs": [
        {
          "output_type": "stream",
          "name": "stdout",
          "text": [
            "[[1. 0. 0.]\n",
            " [0. 1. 0.]\n",
            " [0. 0. 1.]]\n"
          ]
        }
      ]
    },
    {
      "cell_type": "code",
      "metadata": {
        "colab": {
          "base_uri": "https://localhost:8080/"
        },
        "id": "roUSVciSatj6",
        "outputId": "37a85fa9-ec80-4f6f-c7eb-6c93b8ddf58d"
      },
      "source": [
        "k=np.indices((3,3))\n",
        "print(k)"
      ],
      "execution_count": null,
      "outputs": [
        {
          "output_type": "stream",
          "name": "stdout",
          "text": [
            "[[[0 0 0]\n",
            "  [1 1 1]\n",
            "  [2 2 2]]\n",
            "\n",
            " [[0 1 2]\n",
            "  [0 1 2]\n",
            "  [0 1 2]]]\n"
          ]
        }
      ]
    },
    {
      "cell_type": "code",
      "metadata": {
        "colab": {
          "base_uri": "https://localhost:8080/"
        },
        "id": "gTKCQZ0acv_a",
        "outputId": "2f31dc4c-70e1-44e3-eb88-ef9c4b4e804c"
      },
      "source": [
        "import numpy as np\n",
        "\n",
        "x=np.array([[1,2], [3,4],[5,6]]) \n",
        "y=np.array([[7,8], [9,10],[11,12]])\n",
        "\n",
        "# Elementwise sum; both produce the\n",
        "\n",
        "print(x+y)\n",
        "\n",
        "print(np.add(x, y))\n",
        "\n",
        "# Elementwise difference; both produ\n",
        "\n",
        "print(x-y)\n",
        "\n",
        "print(np.subtract(x, y))"
      ],
      "execution_count": null,
      "outputs": [
        {
          "output_type": "stream",
          "name": "stdout",
          "text": [
            "[[ 8 10]\n",
            " [12 14]\n",
            " [16 18]]\n",
            "[[ 8 10]\n",
            " [12 14]\n",
            " [16 18]]\n",
            "[[-6 -6]\n",
            " [-6 -6]\n",
            " [-6 -6]]\n",
            "[[-6 -6]\n",
            " [-6 -6]\n",
            " [-6 -6]]\n"
          ]
        }
      ]
    },
    {
      "cell_type": "code",
      "metadata": {
        "colab": {
          "base_uri": "https://localhost:8080/"
        },
        "id": "HYQEPwMKc57t",
        "outputId": "effec0c6-38ad-4488-ff08-64be01f16c98"
      },
      "source": [
        "print(x*y)\n",
        "print(np.multiply(x,y))"
      ],
      "execution_count": null,
      "outputs": [
        {
          "output_type": "stream",
          "name": "stdout",
          "text": [
            "[[ 7 16]\n",
            " [27 40]\n",
            " [55 72]]\n",
            "[[ 7 16]\n",
            " [27 40]\n",
            " [55 72]]\n"
          ]
        }
      ]
    },
    {
      "cell_type": "code",
      "metadata": {
        "colab": {
          "base_uri": "https://localhost:8080/"
        },
        "id": "FLselyZrdFgD",
        "outputId": "7cae792c-9c9b-4d3a-e78d-95001b5c055d"
      },
      "source": [
        "print(x/y)\n",
        "print(np.divide(x,y))"
      ],
      "execution_count": null,
      "outputs": [
        {
          "output_type": "stream",
          "name": "stdout",
          "text": [
            "[[0.14285714 0.25      ]\n",
            " [0.33333333 0.4       ]\n",
            " [0.45454545 0.5       ]]\n",
            "[[0.14285714 0.25      ]\n",
            " [0.33333333 0.4       ]\n",
            " [0.45454545 0.5       ]]\n"
          ]
        }
      ]
    },
    {
      "cell_type": "code",
      "metadata": {
        "colab": {
          "base_uri": "https://localhost:8080/"
        },
        "id": "vZJAkxrfdLE4",
        "outputId": "f5808538-5de2-4e9e-c018-4fa5d8184268"
      },
      "source": [
        "print(np.sqrt(x))"
      ],
      "execution_count": null,
      "outputs": [
        {
          "output_type": "stream",
          "name": "stdout",
          "text": [
            "[[1.         1.41421356]\n",
            " [1.73205081 2.        ]\n",
            " [2.23606798 2.44948974]]\n"
          ]
        }
      ]
    },
    {
      "cell_type": "markdown",
      "metadata": {
        "id": "fCBK0g0QdprB"
      },
      "source": [
        "Pandas"
      ]
    },
    {
      "cell_type": "code",
      "metadata": {
        "id": "Ml6aSXa0d0GS"
      },
      "source": [
        "import pandas as pd\n"
      ],
      "execution_count": null,
      "outputs": []
    },
    {
      "cell_type": "markdown",
      "metadata": {
        "id": "C7uvvh-YeUW4"
      },
      "source": [
        "1. creating a series"
      ]
    },
    {
      "cell_type": "code",
      "metadata": {
        "colab": {
          "base_uri": "https://localhost:8080/"
        },
        "id": "NtiWtPvLeAAV",
        "outputId": "e65fc252-e05c-4b87-f5d8-31b5bb54b932"
      },
      "source": [
        "s=pd.Series([1,2,3,4,5], index=['A', 'B', 'C', 'D', 'E'])\n",
        "\n",
        "s"
      ],
      "execution_count": null,
      "outputs": [
        {
          "output_type": "execute_result",
          "data": {
            "text/plain": [
              "A    1\n",
              "B    2\n",
              "C    3\n",
              "D    4\n",
              "E    5\n",
              "dtype: int64"
            ]
          },
          "metadata": {},
          "execution_count": 51
        }
      ]
    },
    {
      "cell_type": "code",
      "metadata": {
        "colab": {
          "base_uri": "https://localhost:8080/"
        },
        "id": "lpmw5qrBeMSO",
        "outputId": "8c789d88-c9db-4ba0-90f3-5324fde917d9"
      },
      "source": [
        "print(s)"
      ],
      "execution_count": null,
      "outputs": [
        {
          "output_type": "stream",
          "name": "stdout",
          "text": [
            "A    1\n",
            "B    2\n",
            "C    3\n",
            "D    4\n",
            "E    5\n",
            "dtype: int64\n"
          ]
        }
      ]
    },
    {
      "cell_type": "markdown",
      "metadata": {
        "id": "ScvxlzugebuT"
      },
      "source": [
        "2.Data Frames"
      ]
    },
    {
      "cell_type": "code",
      "metadata": {
        "colab": {
          "base_uri": "https://localhost:8080/",
          "height": 142
        },
        "id": "B0CBihP9ePtq",
        "outputId": "6acbdd4a-8181-4c15-b6b6-12fa191468c8"
      },
      "source": [
        "data={'Gen':['F', 'M', 'M'], 'EiD':['E01', 'E02', 'E03'],'Age':[25,45,38]}\n",
        "\n",
        "df=pd.DataFrame(data,columns=['EiD','Age','Gen'])\n",
        "\n",
        "df"
      ],
      "execution_count": null,
      "outputs": [
        {
          "output_type": "execute_result",
          "data": {
            "text/html": [
              "<div>\n",
              "<style scoped>\n",
              "    .dataframe tbody tr th:only-of-type {\n",
              "        vertical-align: middle;\n",
              "    }\n",
              "\n",
              "    .dataframe tbody tr th {\n",
              "        vertical-align: top;\n",
              "    }\n",
              "\n",
              "    .dataframe thead th {\n",
              "        text-align: right;\n",
              "    }\n",
              "</style>\n",
              "<table border=\"1\" class=\"dataframe\">\n",
              "  <thead>\n",
              "    <tr style=\"text-align: right;\">\n",
              "      <th></th>\n",
              "      <th>EiD</th>\n",
              "      <th>Age</th>\n",
              "      <th>Gen</th>\n",
              "    </tr>\n",
              "  </thead>\n",
              "  <tbody>\n",
              "    <tr>\n",
              "      <th>0</th>\n",
              "      <td>E01</td>\n",
              "      <td>25</td>\n",
              "      <td>F</td>\n",
              "    </tr>\n",
              "    <tr>\n",
              "      <th>1</th>\n",
              "      <td>E02</td>\n",
              "      <td>45</td>\n",
              "      <td>M</td>\n",
              "    </tr>\n",
              "    <tr>\n",
              "      <th>2</th>\n",
              "      <td>E03</td>\n",
              "      <td>38</td>\n",
              "      <td>M</td>\n",
              "    </tr>\n",
              "  </tbody>\n",
              "</table>\n",
              "</div>"
            ],
            "text/plain": [
              "   EiD  Age Gen\n",
              "0  E01   25   F\n",
              "1  E02   45   M\n",
              "2  E03   38   M"
            ]
          },
          "metadata": {},
          "execution_count": 61
        }
      ]
    },
    {
      "cell_type": "markdown",
      "metadata": {
        "id": "EqyFSk1Hf-0j"
      },
      "source": [
        "**Scipy**"
      ]
    },
    {
      "cell_type": "code",
      "metadata": {
        "id": "km3rwrkbgBla"
      },
      "source": [
        "import numpy as np"
      ],
      "execution_count": null,
      "outputs": []
    },
    {
      "cell_type": "code",
      "metadata": {
        "colab": {
          "base_uri": "https://localhost:8080/"
        },
        "id": "hDtxsRitgXor",
        "outputId": "ce50cbfc-9c7a-469c-81cb-56d64097c8e0"
      },
      "source": [
        "np.linspace(1.,2.,6)"
      ],
      "execution_count": null,
      "outputs": [
        {
          "output_type": "execute_result",
          "data": {
            "text/plain": [
              "array([1. , 1.2, 1.4, 1.6, 1.8, 2. ])"
            ]
          },
          "metadata": {},
          "execution_count": 64
        }
      ]
    },
    {
      "cell_type": "code",
      "metadata": {
        "id": "ihhJX6ThgqgV"
      },
      "source": [
        "from scipy.cluster.vq import kmeans, vq, whiten\n",
        "\n",
        "from numpy import vstack, array\n",
        "\n",
        "from numpy.random import rand"
      ],
      "execution_count": null,
      "outputs": []
    },
    {
      "cell_type": "code",
      "metadata": {
        "id": "W8QLRV75gzeJ"
      },
      "source": [
        "data=vstack((rand (100,3)+ array([.5,.5,.5]), rand (100,3)))"
      ],
      "execution_count": null,
      "outputs": []
    },
    {
      "cell_type": "code",
      "metadata": {
        "colab": {
          "base_uri": "https://localhost:8080/"
        },
        "id": "UDFyBtcUg36Y",
        "outputId": "7c34560e-931c-4794-94d6-db38a5ee3810"
      },
      "source": [
        "data"
      ],
      "execution_count": null,
      "outputs": [
        {
          "output_type": "execute_result",
          "data": {
            "text/plain": [
              "array([[1.26354704, 1.20876607, 1.36106024],\n",
              "       [1.27769548, 0.55446242, 1.04007452],\n",
              "       [0.69111181, 0.56879638, 0.62788251],\n",
              "       [1.36810213, 1.3069647 , 0.52940594],\n",
              "       [0.99294301, 1.23475476, 1.24660279],\n",
              "       [0.66488411, 0.53622841, 1.35441747],\n",
              "       [0.57679764, 1.0977758 , 1.28736416],\n",
              "       [0.98495822, 0.95019165, 1.05034324],\n",
              "       [1.27370223, 0.66105521, 1.4882062 ],\n",
              "       [1.10130517, 1.49876463, 1.42854983],\n",
              "       [1.11612203, 1.37288626, 0.80769445],\n",
              "       [0.60865059, 1.13783339, 0.58759676],\n",
              "       [1.16892271, 0.65080403, 1.38521478],\n",
              "       [0.95794442, 1.49684367, 1.36196598],\n",
              "       [1.32730137, 0.95352712, 0.63275754],\n",
              "       [0.78084064, 0.73374765, 0.84591433],\n",
              "       [0.85788407, 1.14090943, 0.70851835],\n",
              "       [0.58380131, 0.80165181, 1.48837326],\n",
              "       [0.88041655, 1.36977678, 0.59448789],\n",
              "       [1.33766594, 0.87000009, 1.23459364],\n",
              "       [1.35056581, 1.25494158, 1.159734  ],\n",
              "       [0.87088089, 1.47600677, 1.15903672],\n",
              "       [0.8645273 , 1.13806519, 1.45996483],\n",
              "       [0.59628577, 1.40947949, 0.72123826],\n",
              "       [0.65661472, 1.16204356, 1.49708968],\n",
              "       [0.87931747, 1.33386931, 1.43821897],\n",
              "       [0.78521364, 1.4189744 , 1.03312322],\n",
              "       [0.88873067, 1.24464442, 0.65383803],\n",
              "       [0.51627289, 1.3437073 , 0.7017762 ],\n",
              "       [0.97941993, 1.38797015, 0.53719041],\n",
              "       [1.2070281 , 1.39284528, 1.28304159],\n",
              "       [1.00387074, 0.89082396, 0.50936483],\n",
              "       [0.82981044, 0.58274763, 0.63142928],\n",
              "       [0.96444758, 1.34357129, 0.74722574],\n",
              "       [1.22931918, 1.17280382, 0.52204781],\n",
              "       [1.17865563, 1.49039738, 0.57130143],\n",
              "       [0.95507014, 1.1472645 , 1.15904281],\n",
              "       [0.85979077, 1.22636361, 1.42974782],\n",
              "       [0.9766325 , 0.64910388, 0.86526341],\n",
              "       [1.32526609, 0.83431662, 1.06561286],\n",
              "       [1.27826213, 1.05024564, 0.75757318],\n",
              "       [1.41836124, 1.18305202, 1.25928279],\n",
              "       [0.83612394, 0.81180365, 1.38462694],\n",
              "       [0.78707703, 0.58597895, 0.88680221],\n",
              "       [0.8515207 , 1.49479392, 1.36831379],\n",
              "       [1.35343526, 1.04482249, 0.99400855],\n",
              "       [0.77011634, 1.43756511, 1.23272768],\n",
              "       [0.93270875, 1.04845438, 1.33676363],\n",
              "       [0.515957  , 1.19393459, 1.07945737],\n",
              "       [1.21397839, 1.18367747, 0.86031286],\n",
              "       [0.68744865, 0.63343034, 1.45484159],\n",
              "       [1.22899515, 0.9126244 , 0.65712637],\n",
              "       [0.53899479, 1.14356331, 0.65523399],\n",
              "       [1.39283342, 1.34692404, 1.4455787 ],\n",
              "       [1.02020532, 0.75641195, 0.56840733],\n",
              "       [0.54193211, 0.73976343, 1.26010169],\n",
              "       [0.84312639, 1.37248247, 1.34470591],\n",
              "       [1.09468107, 0.7605828 , 1.47836555],\n",
              "       [0.67450753, 1.2503136 , 1.38166506],\n",
              "       [1.43201573, 1.3422296 , 0.92590087],\n",
              "       [0.68836853, 0.72145639, 1.42325085],\n",
              "       [1.40973976, 1.05191191, 1.43109959],\n",
              "       [1.34873546, 0.8469564 , 0.57208663],\n",
              "       [1.06724793, 0.67784939, 1.38635044],\n",
              "       [1.39921534, 1.43699929, 1.34579694],\n",
              "       [1.44708394, 0.77488871, 1.06697429],\n",
              "       [1.24159079, 1.45083874, 1.28588011],\n",
              "       [0.92216551, 0.52850594, 1.45786193],\n",
              "       [0.99738493, 0.89206555, 0.59580265],\n",
              "       [0.96157503, 1.17733424, 0.98408153],\n",
              "       [0.5165089 , 1.04478333, 0.62598026],\n",
              "       [1.45161136, 0.79247165, 1.00249366],\n",
              "       [1.429786  , 1.34570641, 1.10534111],\n",
              "       [0.65354748, 0.54022574, 0.5705147 ],\n",
              "       [1.01675611, 1.19812316, 0.54646413],\n",
              "       [0.87355219, 0.53598711, 1.36648135],\n",
              "       [1.30295293, 0.63599296, 0.91575423],\n",
              "       [1.2119697 , 1.44198494, 0.50357049],\n",
              "       [0.52128101, 1.2189668 , 1.10630903],\n",
              "       [0.65914302, 1.45916946, 1.39900351],\n",
              "       [1.35844764, 0.64141575, 1.12065093],\n",
              "       [0.54356558, 0.66950149, 0.68220338],\n",
              "       [1.32977099, 1.44512034, 0.55900257],\n",
              "       [1.29560806, 0.5914566 , 0.75795926],\n",
              "       [1.17575149, 1.03542654, 0.85428787],\n",
              "       [1.34208923, 0.93174581, 1.27439905],\n",
              "       [0.76307282, 1.44718654, 0.55345537],\n",
              "       [0.60441963, 1.05582643, 0.81727726],\n",
              "       [0.81425274, 1.41059863, 1.07779121],\n",
              "       [0.77921367, 1.37966762, 1.39287832],\n",
              "       [1.38057749, 0.55826765, 1.28592848],\n",
              "       [1.29676524, 1.39341232, 1.462048  ],\n",
              "       [0.67695647, 1.07456829, 0.9994024 ],\n",
              "       [0.67310456, 1.42519157, 0.51234953],\n",
              "       [0.91594325, 1.22389883, 1.2473125 ],\n",
              "       [1.44448474, 1.43264082, 0.5671201 ],\n",
              "       [0.94632437, 1.13700332, 0.62627327],\n",
              "       [1.28461524, 1.23013583, 0.78214313],\n",
              "       [0.77282749, 0.89734821, 0.86538856],\n",
              "       [0.92241169, 0.76855321, 0.94447183],\n",
              "       [0.01751281, 0.86813645, 0.52348881],\n",
              "       [0.0952235 , 0.96810354, 0.83934998],\n",
              "       [0.9831157 , 0.8533751 , 0.74548228],\n",
              "       [0.98773697, 0.53949959, 0.80985256],\n",
              "       [0.20051352, 0.0140565 , 0.30294518],\n",
              "       [0.31996216, 0.27938189, 0.80175784],\n",
              "       [0.6685861 , 0.56048228, 0.39629875],\n",
              "       [0.12077409, 0.12047324, 0.22578607],\n",
              "       [0.39513292, 0.85011425, 0.07541768],\n",
              "       [0.34441139, 0.53984339, 0.60948013],\n",
              "       [0.48887562, 0.7198836 , 0.21864053],\n",
              "       [0.73337288, 0.2959503 , 0.69230938],\n",
              "       [0.72843978, 0.48581037, 0.06316269],\n",
              "       [0.31700348, 0.71055139, 0.15845202],\n",
              "       [0.14453263, 0.6986136 , 0.22942515],\n",
              "       [0.60794529, 0.98209037, 0.334579  ],\n",
              "       [0.00385473, 0.16337043, 0.19750938],\n",
              "       [0.21319046, 0.99074628, 0.51405649],\n",
              "       [0.39647404, 0.18362605, 0.8113346 ],\n",
              "       [0.56017585, 0.20174359, 0.7014208 ],\n",
              "       [0.18078695, 0.07222768, 0.08312848],\n",
              "       [0.31407687, 0.85623249, 0.28188866],\n",
              "       [0.94594475, 0.67123408, 0.03687157],\n",
              "       [0.0313465 , 0.70004035, 0.90412322],\n",
              "       [0.97514685, 0.56992796, 0.71360914],\n",
              "       [0.91117555, 0.12567593, 0.10866734],\n",
              "       [0.77927751, 0.69421125, 0.71081066],\n",
              "       [0.5805172 , 0.69001339, 0.80495141],\n",
              "       [0.01321286, 0.45424107, 0.7146513 ],\n",
              "       [0.6419246 , 0.41881097, 0.72257123],\n",
              "       [0.83946585, 0.25582882, 0.89643974],\n",
              "       [0.03734274, 0.47424439, 0.66162418],\n",
              "       [0.84766319, 0.91757397, 0.74562018],\n",
              "       [0.68240578, 0.92114615, 0.25093222],\n",
              "       [0.51046789, 0.71657112, 0.46329164],\n",
              "       [0.86446607, 0.05854191, 0.74790346],\n",
              "       [0.92188669, 0.73714004, 0.22396057],\n",
              "       [0.77961813, 0.76473868, 0.5831054 ],\n",
              "       [0.29422435, 0.94585759, 0.36186603],\n",
              "       [0.36463269, 0.62958666, 0.90295376],\n",
              "       [0.88551972, 0.2709162 , 0.94934984],\n",
              "       [0.20112752, 0.19924103, 0.04209032],\n",
              "       [0.67368361, 0.09178377, 0.5812391 ],\n",
              "       [0.29264755, 0.89411376, 0.21531402],\n",
              "       [0.44770027, 0.65910835, 0.65618654],\n",
              "       [0.77562922, 0.11078805, 0.04014965],\n",
              "       [0.44688156, 0.22928798, 0.33959149],\n",
              "       [0.03939023, 0.08829756, 0.70728312],\n",
              "       [0.45000571, 0.9929452 , 0.35387624],\n",
              "       [0.43341158, 0.90551579, 0.25030455],\n",
              "       [0.03500125, 0.13637126, 0.17518379],\n",
              "       [0.08019914, 0.72046286, 0.4309933 ],\n",
              "       [0.28894221, 0.03826785, 0.59868104],\n",
              "       [0.14243893, 0.12841742, 0.91758256],\n",
              "       [0.0830196 , 0.57771783, 0.40824578],\n",
              "       [0.70284007, 0.24409899, 0.73314016],\n",
              "       [0.98795681, 0.37508441, 0.71655728],\n",
              "       [0.67400324, 0.08879919, 0.89234955],\n",
              "       [0.3221868 , 0.99624395, 0.10499923],\n",
              "       [0.99852971, 0.98347452, 0.70169064],\n",
              "       [0.42813319, 0.44554861, 0.29860632],\n",
              "       [0.39280605, 0.93107768, 0.99388244],\n",
              "       [0.45203891, 0.09540924, 0.03962783],\n",
              "       [0.89296221, 0.65804017, 0.86293198],\n",
              "       [0.87419456, 0.1470688 , 0.32161475],\n",
              "       [0.96326359, 0.3235521 , 0.09845857],\n",
              "       [0.7328676 , 0.91210144, 0.70374813],\n",
              "       [0.79252211, 0.925541  , 0.32191608],\n",
              "       [0.99062422, 0.59886209, 0.67821868],\n",
              "       [0.44605237, 0.71645263, 0.79018535],\n",
              "       [0.4239698 , 0.4306769 , 0.67398689],\n",
              "       [0.79461974, 0.12477017, 0.98661551],\n",
              "       [0.94137048, 0.72712234, 0.06262433],\n",
              "       [0.09406478, 0.44636286, 0.72896532],\n",
              "       [0.72534479, 0.5494155 , 0.96019463],\n",
              "       [0.3128436 , 0.79182752, 0.09028116],\n",
              "       [0.2673136 , 0.33346915, 0.94321078],\n",
              "       [0.49041634, 0.30322966, 0.96437787],\n",
              "       [0.25727278, 0.88037906, 0.95339388],\n",
              "       [0.05851498, 0.39773571, 0.07754709],\n",
              "       [0.68935343, 0.94212184, 0.44760396],\n",
              "       [0.4254837 , 0.1447213 , 0.82248796],\n",
              "       [0.1121809 , 0.06641013, 0.51871622],\n",
              "       [0.24194908, 0.0174383 , 0.65865167],\n",
              "       [0.43883743, 0.50765196, 0.90119973],\n",
              "       [0.67975897, 0.28190517, 0.78386709],\n",
              "       [0.81098292, 0.11426931, 0.0541831 ],\n",
              "       [0.81121858, 0.89892596, 0.80837099],\n",
              "       [0.19487161, 0.08425898, 0.7552138 ],\n",
              "       [0.13902319, 0.65376753, 0.20095911],\n",
              "       [0.37305019, 0.78231841, 0.9378204 ],\n",
              "       [0.43611343, 0.84840995, 0.65245341],\n",
              "       [0.39694857, 0.03592471, 0.35037909],\n",
              "       [0.45562026, 0.21106003, 0.22716695],\n",
              "       [0.83086415, 0.79147936, 0.14977299],\n",
              "       [0.72930158, 0.530155  , 0.99734812],\n",
              "       [0.52697362, 0.45009387, 0.58722804],\n",
              "       [0.28267859, 0.68845844, 0.21902086],\n",
              "       [0.64190428, 0.03170922, 0.46192197],\n",
              "       [0.89026742, 0.51914536, 0.9097404 ]])"
            ]
          },
          "metadata": {},
          "execution_count": 67
        }
      ]
    },
    {
      "cell_type": "code",
      "metadata": {
        "colab": {
          "base_uri": "https://localhost:8080/"
        },
        "id": "vnSuDg3eg7Ic",
        "outputId": "95f9404f-9b11-4cd7-d45a-bebe628b01aa"
      },
      "source": [
        "data=whiten(data)\n",
        "data"
      ],
      "execution_count": null,
      "outputs": [
        {
          "output_type": "execute_result",
          "data": {
            "text/plain": [
              "array([[3.30768502, 2.89967253, 3.4088376 ],\n",
              "       [3.3447225 , 1.3300832 , 2.6049142 ],\n",
              "       [1.80917695, 1.36446851, 1.57256045],\n",
              "       [3.58138699, 3.13523828, 1.32592139],\n",
              "       [2.59930386, 2.96201602, 3.12217368],\n",
              "       [1.74051866, 1.2863422 , 3.39220049],\n",
              "       [1.5099279 , 2.63342132, 3.2242624 ],\n",
              "       [2.57840147, 2.27938614, 2.63063266],\n",
              "       [3.33426904, 1.58578543, 3.72728047],\n",
              "       [2.88297189, 3.59534134, 3.57786835],\n",
              "       [2.92175915, 3.29337551, 2.02290769],\n",
              "       [1.59331182, 2.72951426, 1.47166296],\n",
              "       [3.05997958, 1.56119418, 3.46933375],\n",
              "       [2.50768536, 3.5907332 , 3.41110606],\n",
              "       [3.47457966, 2.28738749, 1.5847702 ],\n",
              "       [2.04406707, 1.76016514, 2.11863112],\n",
              "       [2.24574962, 2.73689327, 1.7745166 ],\n",
              "       [1.52826194, 1.92305838, 3.72769888],\n",
              "       [2.30473463, 3.28591627, 1.4889221 ],\n",
              "       [3.50171181, 2.08701703, 3.09209623],\n",
              "       [3.5354808 , 3.01044156, 2.90460682],\n",
              "       [2.2797724 , 3.5407482 , 2.90286045],\n",
              "       [2.26314012, 2.73007031, 3.65654868],\n",
              "       [1.56094348, 3.38115792, 1.80637419],\n",
              "       [1.71887123, 2.78759132, 3.74952956],\n",
              "       [2.3018575 , 3.19977892, 3.60208516],\n",
              "       [2.0555146 , 3.40393495, 2.58750434],\n",
              "       [2.32649916, 2.98574001, 1.63756724],\n",
              "       [1.35148757, 3.22337899, 1.75763057],\n",
              "       [2.56390347, 3.32955979, 1.34541795],\n",
              "       [3.15973099, 3.3412546 , 3.21343633],\n",
              "       [2.62791025, 2.13697079, 1.27572749],\n",
              "       [2.17225911, 1.39793573, 1.5814435 ],\n",
              "       [2.52470917, 3.22305271, 1.87146102],\n",
              "       [3.2180841 , 2.81340378, 1.3074926 ],\n",
              "       [3.08545819, 3.57526939, 1.43085056],\n",
              "       [2.50016113, 2.75213826, 2.9028757 ],\n",
              "       [2.25074093, 2.94188673, 3.58086878],\n",
              "       [2.55660658, 1.55711576, 2.16709177],\n",
              "       [3.46925177, 2.00141702, 2.66887612],\n",
              "       [3.34620585, 2.51940265, 1.89737666],\n",
              "       [3.71295414, 2.83798787, 3.15393134],\n",
              "       [2.18878644, 1.94741132, 3.46786147],\n",
              "       [2.06039255, 1.40568725, 2.22103668],\n",
              "       [2.22909173, 3.58581612, 3.42700444],\n",
              "       [3.54299237, 2.50639321, 2.48953986],\n",
              "       [2.01599322, 3.44853165, 3.08742284],\n",
              "       [2.44162399, 2.51510565, 3.34798564],\n",
              "       [1.35066063, 2.86409375, 2.70355035],\n",
              "       [3.17792532, 2.83948825, 2.15469289],\n",
              "       [1.79958762, 1.51951698, 3.64371728],\n",
              "       [3.21723585, 2.18926719, 1.64580303],\n",
              "       [1.41096843, 2.74325959, 1.64106349],\n",
              "       [3.64612798, 3.23109552, 3.62051796],\n",
              "       [2.67067053, 1.81453385, 1.42360215],\n",
              "       [1.4186577 , 1.77459622, 3.15598229],\n",
              "       [2.20711729, 3.29240688, 3.36787743],\n",
              "       [2.86563147, 1.82453919, 3.70263412],\n",
              "       [1.76571064, 2.99933965, 3.46044331],\n",
              "       [3.74869856, 3.21983417, 2.31896107],\n",
              "       [1.80199566, 1.73068002, 3.56459684],\n",
              "       [3.69038502, 2.52339981, 3.58425435],\n",
              "       [3.53068934, 2.03173822, 1.43281712],\n",
              "       [2.79381761, 1.62607249, 3.47217806],\n",
              "       [3.66283443, 3.44717432, 3.37060996],\n",
              "       [3.78814377, 1.85885719, 2.67228589],\n",
              "       [3.25020843, 3.48037337, 3.22054553],\n",
              "       [2.41402413, 1.26781699, 3.65128186],\n",
              "       [2.61093182, 2.13994918, 1.49221497],\n",
              "       [2.51718947, 2.82427166, 2.46467719],\n",
              "       [1.35210538, 2.50629927, 1.56779618],\n",
              "       [3.79999555, 1.90103639, 2.5107912 ],\n",
              "       [3.74286161, 3.2281746 , 2.76837734],\n",
              "       [1.71084189, 1.29593125, 1.42888015],\n",
              "       [2.66164127, 2.87414157, 1.3686444 ],\n",
              "       [2.28676527, 1.28576334, 3.42241501],\n",
              "       [3.41084087, 1.52566435, 2.29354834],\n",
              "       [3.17266702, 3.45913426, 1.26121533],\n",
              "       [1.36459771, 2.92414274, 2.77080155],\n",
              "       [1.72548976, 3.50035769, 3.50386827],\n",
              "       [3.55611368, 1.53867294, 2.80672148],\n",
              "       [1.42293375, 1.60604697, 1.70860955],\n",
              "       [3.48104457, 3.46665567, 1.40004751],\n",
              "       [3.39161364, 1.41882744, 1.89834363],\n",
              "       [3.0778558 , 2.48385354, 2.13960302],\n",
              "       [3.513291  , 2.23513696, 3.19179069],\n",
              "       [1.99755486, 3.47161222, 1.38615428],\n",
              "       [1.5822361 , 2.53279023, 2.04690826],\n",
              "       [2.1315325 , 3.38384258, 2.69937735],\n",
              "       [2.03980801, 3.30964312, 3.48852744],\n",
              "       [3.61404468, 1.33921146, 3.22066668],\n",
              "       [3.39464288, 3.34261487, 3.66176607],\n",
              "       [1.77212142, 2.57774952, 2.50304901],\n",
              "       [1.76203798, 3.41884913, 1.28320282],\n",
              "       [2.39773564, 2.93597404, 3.12395118],\n",
              "       [3.78133965, 3.43671892, 1.42037822],\n",
              "       [2.47726664, 2.72752302, 1.56853003],\n",
              "       [3.36283687, 2.9509358 , 1.95891324],\n",
              "       [2.02309042, 2.1526216 , 2.1674052 ],\n",
              "       [2.41466857, 1.84365914, 2.36547288],\n",
              "       [0.04584464, 2.0825464 , 1.31110167],\n",
              "       [0.24927392, 2.32235443, 2.10219041],\n",
              "       [2.57357817, 2.04713583, 1.86709446],\n",
              "       [2.58567561, 1.29418931, 2.02831276],\n",
              "       [0.52489978, 0.03371971, 0.75874004],\n",
              "       [0.83758975, 0.67020081, 2.00803916],\n",
              "       [1.75020965, 1.34452406, 0.99254834],\n",
              "       [0.31615968, 0.28899964, 0.56549154],\n",
              "       [1.03437006, 2.03931348, 0.18888702],\n",
              "       [0.90159238, 1.29501404, 1.52647085],\n",
              "       [1.2797676 , 1.7269071 , 0.54759521],\n",
              "       [1.91980702, 0.70994626, 1.7339205 ],\n",
              "       [1.90689327, 1.16539587, 0.15819385],\n",
              "       [0.82984459, 1.70452033, 0.39685032],\n",
              "       [0.37835426, 1.67588313, 0.57460577],\n",
              "       [1.59146549, 2.35590701, 0.83796841],\n",
              "       [0.01009083, 0.3919044 , 0.49467128],\n",
              "       [0.55808518, 2.37667141, 1.28747798],\n",
              "       [1.03788082, 0.44049499, 2.0320246 ],\n",
              "       [1.46641573, 0.48395662, 1.75674047],\n",
              "       [0.47326002, 0.17326481, 0.20819909],\n",
              "       [0.82218336, 2.05399035, 0.70600304],\n",
              "       [2.47627288, 1.61020321, 0.09234654],\n",
              "       [0.08205816, 1.67930572, 2.26441794],\n",
              "       [2.55271749, 1.36718302, 1.78726672],\n",
              "       [2.38525485, 0.3014802 , 0.27216233],\n",
              "       [2.03997513, 1.66532246, 1.78025779],\n",
              "       [1.51966487, 1.65525235, 2.01603761],\n",
              "       [0.03458834, 1.08966523, 1.78987685],\n",
              "       [1.68041578, 1.00467303, 1.80971267],\n",
              "       [2.19753482, 0.61370005, 2.24517432],\n",
              "       [0.09775499, 1.1376506 , 1.657068  ],\n",
              "       [2.21899363, 2.20114057, 1.86743982],\n",
              "       [1.78638651, 2.20970976, 0.62847123],\n",
              "       [1.33629135, 1.71896089, 1.16033509],\n",
              "       [2.26297984, 0.14043444, 1.87315841],\n",
              "       [2.41329423, 1.76830305, 0.56091949],\n",
              "       [2.04086681, 1.83450859, 1.46041415],\n",
              "       [0.77021389, 2.2689893 , 0.90631002],\n",
              "       [0.95452725, 1.51029648, 2.26148898],\n",
              "       [2.31809359, 0.64989271, 2.37769008],\n",
              "       [0.52650709, 0.47795331, 0.10541713],\n",
              "       [1.76355379, 0.22017732, 1.45573989],\n",
              "       [0.76608618, 2.14486257, 0.5392638 ],\n",
              "       [1.17197969, 1.58111517, 1.6434492 ],\n",
              "       [2.03042473, 0.26576613, 0.10055663],\n",
              "       [1.16983648, 0.55003202, 0.8505224 ],\n",
              "       [0.10311485, 0.21181435, 1.77142291],\n",
              "       [1.17801481, 2.38194635, 0.88629922],\n",
              "       [1.13457508, 2.17221457, 0.6268992 ],\n",
              "       [0.09162548, 0.32713691, 0.43875582],\n",
              "       [0.20994352, 1.72829667, 1.07944242],\n",
              "       [0.75638643, 0.0917996 , 1.49942403],\n",
              "       [0.37287343, 0.30805669, 2.29812746],\n",
              "       [0.21732685, 1.38586991, 1.02247022],\n",
              "       [1.83987891, 0.58556172, 1.83618304],\n",
              "       [2.58625112, 0.89977869, 1.79465046],\n",
              "       [1.76439053, 0.21301771, 2.23493024],\n",
              "       [0.84341335, 2.38985961, 0.26297536],\n",
              "       [2.6139286 , 2.3592274 , 1.75741629],\n",
              "       [1.12075743, 1.06881316, 0.74787319],\n",
              "       [1.02827885, 2.23353421, 2.48922401],\n",
              "       [1.18333728, 0.22887435, 0.0992497 ],\n",
              "       [2.33757638, 1.57855275, 2.16125261],\n",
              "       [2.28844685, 0.35279891, 0.80549884],\n",
              "       [2.52160977, 0.77615939, 0.24659399],\n",
              "       [1.91848432, 2.18801267, 1.76256937],\n",
              "       [2.07464654, 2.22025243, 0.80625353],\n",
              "       [2.59323379, 1.43659223, 1.69862968],\n",
              "       [1.16766585, 1.71867664, 1.97905534],\n",
              "       [1.10985859, 1.03313785, 1.68803098],\n",
              "       [2.08013769, 0.29930741, 2.47102365],\n",
              "       [2.46429846, 1.74427189, 0.1568455 ],\n",
              "       [0.24624068, 1.07076643, 1.82572698],\n",
              "       [1.89879127, 1.31797629, 2.40485135],\n",
              "       [0.81895493, 1.8994912 , 0.22611329],\n",
              "       [0.69976752, 0.79994909, 2.36231453],\n",
              "       [1.28380086, 0.72740849, 2.41532846],\n",
              "       [0.67348289, 2.11191481, 2.38781858],\n",
              "       [0.15317921, 0.95411623, 0.19422023],\n",
              "       [1.80457389, 2.26002771, 1.12104459],\n",
              "       [1.11382167, 0.34716757, 2.0599587 ],\n",
              "       [0.29366463, 0.15930927, 1.29914849],\n",
              "       [0.63336886, 0.04183222, 1.64962322],\n",
              "       [1.14877875, 1.21779099, 2.25709593],\n",
              "       [1.77945775, 0.67625383, 1.96323097],\n",
              "       [2.12297284, 0.27411722, 0.13570406],\n",
              "       [2.12358976, 2.15640643, 2.0246021 ],\n",
              "       [0.51013052, 0.20212633, 1.8914675 ],\n",
              "       [0.36393179, 1.56830324, 0.50331128],\n",
              "       [0.9765624 , 1.87668008, 2.34881408],\n",
              "       [1.14164793, 2.03522507, 1.63409939],\n",
              "       [1.03912304, 0.08617871, 0.87754044],\n",
              "       [1.19271248, 0.50630555, 0.56895001],\n",
              "       [2.17501747, 1.898656  , 0.37511331],\n",
              "       [1.90914927, 1.27177286, 2.49790397],\n",
              "       [1.37949969, 1.07971663, 1.47073948],\n",
              "       [0.73998966, 1.65152223, 0.54854777],\n",
              "       [1.68036259, 0.0760663 , 1.15690468],\n",
              "       [2.33052202, 1.24536218, 2.27848643]])"
            ]
          },
          "metadata": {},
          "execution_count": 69
        }
      ]
    },
    {
      "cell_type": "code",
      "metadata": {
        "id": "eQ6sUze4hEO8"
      },
      "source": [
        "centroids,_=kmeans(data,3)"
      ],
      "execution_count": null,
      "outputs": []
    },
    {
      "cell_type": "code",
      "metadata": {
        "colab": {
          "base_uri": "https://localhost:8080/"
        },
        "id": "VCX7YrJkhNWV",
        "outputId": "0cafa37c-af46-43bf-c5df-33859e06098e"
      },
      "source": [
        "centroids"
      ],
      "execution_count": null,
      "outputs": [
        {
          "output_type": "execute_result",
          "data": {
            "text/plain": [
              "array([[2.66002092, 2.58370083, 3.18907998],\n",
              "       [2.48243635, 2.3466464 , 1.58771335],\n",
              "       [1.08736912, 1.06969669, 1.32379361]])"
            ]
          },
          "metadata": {},
          "execution_count": 71
        }
      ]
    },
    {
      "cell_type": "code",
      "metadata": {
        "colab": {
          "base_uri": "https://localhost:8080/"
        },
        "id": "B47Np4HfhYKB",
        "outputId": "72627ce8-bf00-4f68-ff54-3ce987423750"
      },
      "source": [
        "from scipy.fftpack import fft\n",
        "\n",
        "x = np.array([1.0, 2.0, 1.0, 1.0, 1.5])\n",
        "\n",
        "\n",
        "y = fft (x)\n",
        "\n",
        "print(\"FFT:\\n\",y)"
      ],
      "execution_count": null,
      "outputs": [
        {
          "output_type": "stream",
          "name": "stdout",
          "text": [
            "FFT:\n",
            " [ 6.5       -0.j          0.46352549-0.47552826j -1.21352549-0.29389263j\n",
            " -1.21352549+0.29389263j  0.46352549+0.47552826j]\n"
          ]
        }
      ]
    },
    {
      "cell_type": "code",
      "metadata": {
        "colab": {
          "base_uri": "https://localhost:8080/"
        },
        "id": "BAq9vie5hetU",
        "outputId": "36bb250d-a858-4018-da5e-803836cb6100"
      },
      "source": [
        "from scipy.fftpack import ifft \n",
        "yinv = ifft (y) \n",
        "print(\"FFT Inverse: \\n\",yinv)"
      ],
      "execution_count": null,
      "outputs": [
        {
          "output_type": "stream",
          "name": "stdout",
          "text": [
            "FFT Inverse: \n",
            " [1. +0.j 2. +0.j 1. +0.j 1. +0.j 1.5+0.j]\n"
          ]
        }
      ]
    },
    {
      "cell_type": "markdown",
      "metadata": {
        "id": "m6j_ZuQGhv3C"
      },
      "source": [
        "**Matplot Library**"
      ]
    },
    {
      "cell_type": "code",
      "metadata": {
        "id": "OpZp_uFih18C"
      },
      "source": [
        "import matplotlib.pyplot as plt\n",
        "import numpy as np\n"
      ],
      "execution_count": null,
      "outputs": []
    },
    {
      "cell_type": "code",
      "metadata": {
        "colab": {
          "base_uri": "https://localhost:8080/",
          "height": 265
        },
        "id": "Ng25NOzviAhB",
        "outputId": "c971c931-702d-4ef9-c547-f57666cc84e3"
      },
      "source": [
        "x=np.arange (5)\n",
        "y=(35,45,23,27,60)\n",
        "\n",
        "plt.bar(x,y)\n",
        "\n",
        "plt.show()"
      ],
      "execution_count": null,
      "outputs": [
        {
          "output_type": "display_data",
          "data": {
            "image/png": "[encoded data removed]",
            "text/plain": [
              "<Figure size 432x288 with 1 Axes>"
            ]
          },
          "metadata": {
            "needs_background": "light"
          }
        }
      ]
    },
    {
      "cell_type": "code",
      "metadata": {
        "colab": {
          "base_uri": "https://localhost:8080/",
          "height": 265
        },
        "id": "AetjkkONiWMB",
        "outputId": "bb6be188-fdf4-40fe-9a56-3f18c50f6488"
      },
      "source": [
        "plt.scatter(x,y)\n",
        "plt.show()"
      ],
      "execution_count": null,
      "outputs": [
        {
          "output_type": "display_data",
          "data": {
            "image/png": "[encoded data removed]",
            "text/plain": [
              "<Figure size 432x288 with 1 Axes>"
            ]
          },
          "metadata": {
            "needs_background": "light"
          }
        }
      ]
    },
    {
      "cell_type": "code",
      "metadata": {
        "id": "c3pCDuKBicNT"
      },
      "source": [
        ""
      ],
      "execution_count": null,
      "outputs": []
    }
  ]
}